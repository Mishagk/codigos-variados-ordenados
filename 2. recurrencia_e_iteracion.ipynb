{
 "cells": [
  {
   "cell_type": "code",
   "execution_count": 1,
   "id": "3ab01c72",
   "metadata": {
    "ExecuteTime": {
     "end_time": "2022-02-27T15:12:55.634799Z",
     "start_time": "2022-02-27T15:12:50.493484Z"
    },
    "code_folding": [
     0
    ]
   },
   "outputs": [],
   "source": [
    "# librerias\n",
    "\n",
    "import pandas as pd\n",
    "import numpy as np\n",
    "import matplotlib.pyplot as plt\n",
    "import time\n",
    "import timeit\n",
    "import datasets as dts\n",
    "import collections as lc\n",
    "import itertools as li\n",
    "import re"
   ]
  },
  {
   "cell_type": "code",
   "execution_count": 5,
   "id": "73eafbeb",
   "metadata": {
    "ExecuteTime": {
     "end_time": "2022-02-27T15:14:19.128985Z",
     "start_time": "2022-02-27T15:14:19.100987Z"
    },
    "code_folding": [
     0
    ]
   },
   "outputs": [
    {
     "name": "stdout",
     "output_type": "stream",
     "text": [
      "Comparar funciones 1 - 2 - 3\n",
      "0  :  0 0 0\n",
      "1  :  1 1 1\n",
      "2  :  1 1 1\n",
      "3  :  2 2 2\n",
      "4  :  3 3 3\n",
      "5  :  5 5 5\n",
      "6  :  8 8 8\n",
      "7  :  13 13 13\n",
      "********************************************\n",
      "Comparar clases [__call__] 1 - 2\n",
      "0  :  0 0\n",
      "1  :  1 1\n",
      "2  :  1 1\n",
      "3  :  2 2\n",
      "4  :  3 3\n",
      "5  :  5 5\n",
      "6  :  8 8\n",
      "7  :  13 13\n"
     ]
    }
   ],
   "source": [
    "## Funciones y Clases para calculo de Fibonacci o KFibonacci\n",
    "\n",
    "############### funciones ##################\n",
    "\n",
    "## calculo recursivo\n",
    "def fib(n):\n",
    "    if n==0:\n",
    "        return 0\n",
    "    elif n==1:\n",
    "        return 1\n",
    "    else:\n",
    "        return fib(n-1) + fib(n-2)\n",
    "\n",
    "# calculo iterativo\n",
    "def fib2(n):\n",
    "    old,new = 0,1\n",
    "    if n==0:\n",
    "        return 0\n",
    "    for i in range(n-1):\n",
    "        old, new = new, old + new\n",
    "    return new\n",
    "\n",
    "# calculo iterativo con memoria\n",
    "memo = {0:0,1:1}\n",
    "def fib3(n):\n",
    "    if n not in memo:\n",
    "        memo[n] = fib3(n-1) + fib3(n-2)\n",
    "    return memo[n]\n",
    "\n",
    "############### clases ##################\n",
    "\n",
    "# clase con calculo iterativo\n",
    "class fibo:\n",
    "    def __init__(self,i1=0,i2=1):\n",
    "        self.memo = {0:i1,1:i2}\n",
    "    def __call__(self,n):\n",
    "        if n not in self.memo:\n",
    "            self.memo[n] = self.__call__(n-1) + self.__call__(n-2)\n",
    "        return self.memo[n]\n",
    "\n",
    "# clase kfibo con calculo iterativo\n",
    "class kfibo:\n",
    "    def __init__(self, k,initials, coeffs):\n",
    "        self.memo = dict(zip(range(k), initials))\n",
    "        self.coeffs = coeffs\n",
    "        self.k = k\n",
    "        \n",
    "    def __call__(self,n):\n",
    "        k = self.k\n",
    "        if n not in self.memo:\n",
    "            res = 0\n",
    "            for coeff, i in zip(self.coeffs,range(1,k+1)):\n",
    "                res += coeff*self.__call__(n-i)\n",
    "            self.memo[n] = res\n",
    "        return self.memo[n]\n",
    "\n",
    "############################################\n",
    "############################################\n",
    "\n",
    "# Se comparan las diferentes funciones creadas para el calculo de fibonacci\n",
    "\n",
    "print('Comparar funciones 1 - 2 - 3') \n",
    "for i in range(8):\n",
    "    print(i,' : ',fib(i),fib2(i),fib3(i))\n",
    "\n",
    "print('********************************************')\n",
    "\n",
    "# se comparan las 2 clases creadas\n",
    "x = fibo()\n",
    "y = kfibo(2,[0,1,1],[1,1])\n",
    "\n",
    "############################################\n",
    "############################################\n",
    "\n",
    "# Recordar que tanto fibo como kfibo son clases que poseen el __call__ \n",
    "# por lo que se llamarán a estas funciones mediante la misma variable creada con la clase\n",
    "\n",
    "print('Comparar clases [__call__] 1 - 2')\n",
    "for i in range(8):\n",
    "    # invocar la funcion __call__ (llamable)\n",
    "    print(i,' : ',x(i),y(i))\n",
    "    \n",
    "# fin"
   ]
  },
  {
   "cell_type": "code",
   "execution_count": 6,
   "id": "3f077313",
   "metadata": {
    "ExecuteTime": {
     "end_time": "2022-02-27T15:14:23.905075Z",
     "start_time": "2022-02-27T15:14:23.884849Z"
    },
    "code_folding": [
     0,
     3
    ]
   },
   "outputs": [
    {
     "name": "stdout",
     "output_type": "stream",
     "text": [
      "-3.0  ;  -4.350\n",
      "-2.5  ;  -3.125\n",
      "-2.0  ;  -1.900\n",
      "-1.5  ;  -0.675\n",
      "-1.0  ;  0.550\n",
      "-0.5  ;  1.775\n",
      "0.0  ;  3.000\n",
      "0.5  ;  4.225\n",
      "1.0  ;  5.450\n",
      "1.5  ;  6.675\n",
      "2.0  ;  7.900\n",
      "2.5  ;  9.125\n"
     ]
    }
   ],
   "source": [
    "# ejemplo 1 :: uso de __call__ dentro de la clase creada\n",
    "\n",
    "# Calculo de valores en la linea y = m*x + c\n",
    "class lineas:\n",
    "    \n",
    "    # inicializar parametros de la recta y = m*x + c\n",
    "    def __init__(self,m,c):\n",
    "        self.slope = m\n",
    "        self.intercept = c\n",
    "        \n",
    "    # funcion para el calculo del valor \"y\" segun recta inicializada\n",
    "    def __call__(self,x):\n",
    "        return self.slope*x + self.intercept\n",
    "\n",
    "########################\n",
    "\n",
    "# crear objeto linea\n",
    "line = lineas(2.45,3)\n",
    "\n",
    "# calcular valores segun X\n",
    "for x in np.arange(-3,3,0.5):\n",
    "    print(x,' ; ',\"{0:.3f}\".format(line(x)))"
   ]
  },
  {
   "cell_type": "code",
   "execution_count": 7,
   "id": "d7a43422",
   "metadata": {
    "ExecuteTime": {
     "end_time": "2022-02-27T15:14:26.623816Z",
     "start_time": "2022-02-27T15:14:26.603819Z"
    },
    "code_folding": [
     0
    ]
   },
   "outputs": [
    {
     "name": "stdout",
     "output_type": "stream",
     "text": [
      "-3.0  ;  -195.000\n",
      "-2.5  ;  -112.000\n",
      "-2.0  ;  -57.000\n",
      "-1.5  ;  -24.000\n",
      "-1.0  ;  -7.000\n",
      "-0.5  ;  0.000\n",
      "0.0  ;  3.000\n",
      "0.5  ;  8.000\n",
      "1.0  ;  21.000\n",
      "1.5  ;  48.000\n",
      "2.0  ;  95.000\n",
      "2.5  ;  168.000\n"
     ]
    }
   ],
   "source": [
    "# ejemplo 2 :: uso de __call__ dentro de la clase creada\n",
    "\n",
    "class polin:\n",
    "    \n",
    "    # inicializar coeficientes del polinomio\n",
    "    def __init__(self,*coefs):\n",
    "        ## invertir orden de valores en lista: ejem: [1,5,8] -> [8,5,1] mediante lista[::-1]\n",
    "        self.coefs = coefs[::-1]\n",
    "        \n",
    "    # calcular los valores de polinomio segun valor de x\n",
    "    def __call__(self,x):\n",
    "        res = 0\n",
    "        for index,coeff in enumerate(self.coefs):\n",
    "            res += coeff*x**index\n",
    "        return res\n",
    "\n",
    "########################    \n",
    "\n",
    "# definir objeto polinomio\n",
    "pn = polin(8,4,6,3)\n",
    "\n",
    "# calcular valores segun X\n",
    "for x in np.arange(-3,3,0.5):\n",
    "    print(x,' ; ',\"{0:.3f}\".format(pn(x)))"
   ]
  },
  {
   "cell_type": "code",
   "execution_count": 8,
   "id": "42fc1670",
   "metadata": {
    "ExecuteTime": {
     "end_time": "2022-02-27T15:14:28.105282Z",
     "start_time": "2022-02-27T15:14:28.086175Z"
    },
    "code_folding": [
     0
    ]
   },
   "outputs": [
    {
     "name": "stdout",
     "output_type": "stream",
     "text": [
      "-3.0  ; p1:  11.00  ; p2:  11.00\n",
      "-2.5  ; p1:  5.44  ; p2:  5.44\n",
      "-2.0  ; p1:  4.00  ; p2:  4.00\n",
      "-1.5  ; p1:  3.69  ; p2:  3.69\n",
      "-1.0  ; p1:  3.00  ; p2:  3.00\n",
      "-0.5  ; p1:  1.94  ; p2:  1.94\n",
      "0.0  ; p1:  2.00  ; p2:  2.00\n",
      "0.5  ; p1:  6.19  ; p2:  6.19\n",
      "1.0  ; p1:  19.00  ; p2:  19.00\n",
      "1.5  ; p1:  46.44  ; p2:  46.44\n",
      "2.0  ; p1:  96.00  ; p2:  96.00\n",
      "2.5  ; p1:  176.69  ; p2:  176.69\n"
     ]
    }
   ],
   "source": [
    "# ejemplo 3 :: Calculo de polinomios con el llamable  __call__\n",
    "\n",
    "from itertools import zip_longest\n",
    "\n",
    "########################\n",
    "\n",
    "# polinomio opcion 1\n",
    "class polin:\n",
    "    \n",
    "    # inicializar coeficientes de polinomio\n",
    "    def __init__(self,*coefs):\n",
    "        self.coefs = list(coefs)\n",
    "        \n",
    "    # funcion para el calculo del polinimio(x)\n",
    "    def __call__(self,x):\n",
    "        res = 0\n",
    "        for index,coeff in enumerate(self.coefs[::-1]):\n",
    "            res += coeff*x**index\n",
    "        return res\n",
    "    \n",
    "    # sumar polinomios (objetos)\n",
    "    def __add__(self,other):\n",
    "        c1 = self.coefs[::-1]\n",
    "        c2 = other.coefs[::-1]\n",
    "        suma = [t1+t2 for t1,t2 in zip_longest(c1,c2,fillvalue=0)]\n",
    "        # regresar coeficientes y ordenarlos nuevamente \n",
    "        return polin(*suma[::-1])\n",
    "    \n",
    "    # restar polinomios (objetos)\n",
    "    def __sub__(self,other):\n",
    "        c1 = self.coefs[::-1]\n",
    "        c2 = other.coefs[::-1]\n",
    "        resta = [t1-t2 for t1,t2 in zip_longest(c1,c2,fillvalue=0)]\n",
    "        return polin(*resta[::-1])\n",
    "\n",
    "########################\n",
    "\n",
    "# polinomio opcion 2\n",
    "class polin2:\n",
    "    \n",
    "    # inicializar coeficientes de polinomio\n",
    "    def __init__(self,*coefs):\n",
    "        self.coefs = list(coefs)\n",
    "    \n",
    "    # funcion para el calculo del polinimio(x)\n",
    "    def __call__(self,x):\n",
    "        res = 0\n",
    "        for coeff in self.coefs:\n",
    "            res = res*x + coeff\n",
    "        return res\n",
    "    \n",
    "    # sumar polinomios (objetos)\n",
    "    def __add__(self,other):\n",
    "        c1 = self.coefs\n",
    "        c2 = other.coefs\n",
    "        suma = [t1+t2 for t1,t2 in zip_longest(c1,c2,fillvalue=0)]\n",
    "        return polin2(*suma[::-1])\n",
    "    \n",
    "    # restar polinomios (objetos)\n",
    "    def __sub__(self,other):\n",
    "        c1 = self.coefs\n",
    "        c2 = other.coefs\n",
    "        resta = [t1-t2 for t1,t2 in zip_longest(c1,c2,fillvalue=0)]\n",
    "        return polin2(*resta[::-1])\n",
    "\n",
    "########################\n",
    "\n",
    "coeficientes = [1,5,8,3,2]\n",
    "p1 = polin(*coeficientes)\n",
    "p2 = polin(*coeficientes)\n",
    "\n",
    "# comprobar igualdad de valores\n",
    "for x in np.arange(-3,3,0.5):\n",
    "    print(x,\" ; p1: \",\"{0:.2f}\".format(p1(x)),\" ; p2: \",\"{0:.2f}\".format(p2(x)))"
   ]
  }
 ],
 "metadata": {
  "kernelspec": {
   "display_name": "Python 3",
   "language": "python",
   "name": "python3"
  },
  "language_info": {
   "codemirror_mode": {
    "name": "ipython",
    "version": 3
   },
   "file_extension": ".py",
   "mimetype": "text/x-python",
   "name": "python",
   "nbconvert_exporter": "python",
   "pygments_lexer": "ipython3",
   "version": "3.8.10"
  },
  "latex_envs": {
   "LaTeX_envs_menu_present": true,
   "autoclose": false,
   "autocomplete": true,
   "bibliofile": "biblio.bib",
   "cite_by": "apalike",
   "current_citInitial": 1,
   "eqLabelWithNumbers": true,
   "eqNumInitial": 1,
   "hotkeys": {
    "equation": "Ctrl-E",
    "itemize": "Ctrl-I"
   },
   "labels_anchors": false,
   "latex_user_defs": false,
   "report_style_numbering": false,
   "user_envs_cfg": false
  },
  "toc": {
   "base_numbering": 1,
   "nav_menu": {},
   "number_sections": true,
   "sideBar": true,
   "skip_h1_title": false,
   "title_cell": "Table of Contents",
   "title_sidebar": "Contents",
   "toc_cell": false,
   "toc_position": {},
   "toc_section_display": true,
   "toc_window_display": false
  },
  "varInspector": {
   "cols": {
    "lenName": 16,
    "lenType": 16,
    "lenVar": 40
   },
   "kernels_config": {
    "python": {
     "delete_cmd_postfix": "",
     "delete_cmd_prefix": "del ",
     "library": "var_list.py",
     "varRefreshCmd": "print(var_dic_list())"
    },
    "r": {
     "delete_cmd_postfix": ") ",
     "delete_cmd_prefix": "rm(",
     "library": "var_list.r",
     "varRefreshCmd": "cat(var_dic_list()) "
    }
   },
   "types_to_exclude": [
    "module",
    "function",
    "builtin_function_or_method",
    "instance",
    "_Feature"
   ],
   "window_display": false
  }
 },
 "nbformat": 4,
 "nbformat_minor": 5
}

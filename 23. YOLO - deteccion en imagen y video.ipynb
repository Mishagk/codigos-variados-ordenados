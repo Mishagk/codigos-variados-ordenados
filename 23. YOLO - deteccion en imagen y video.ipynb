{
 "cells": [
  {
   "cell_type": "markdown",
   "id": "1ee4438d",
   "metadata": {},
   "source": [
    "En el presente notebook se da paso a paso ejemplos de como usar la modelo YOLO de Ultralytics. La documentación se encuentra en github: https://github.com/ultralytics/yolov5"
   ]
  },
  {
   "cell_type": "markdown",
   "id": "48e4d82c",
   "metadata": {
    "heading_collapsed": true
   },
   "source": [
    "# Libreria"
   ]
  },
  {
   "cell_type": "code",
   "execution_count": 1,
   "id": "2bb05076",
   "metadata": {
    "ExecuteTime": {
     "end_time": "2022-11-27T22:15:12.606638Z",
     "start_time": "2022-11-27T22:15:11.756952Z"
    },
    "code_folding": [
     0
    ],
    "hidden": true
   },
   "outputs": [],
   "source": [
    "# librerias\n",
    "\n",
    "import torch\n",
    "import matplotlib.pyplot as plt\n",
    "from IPython.display import clear_output\n",
    "import cv2\n",
    "import time\n",
    "import numpy as np\n",
    "\n",
    "import warnings\n",
    "warnings.filterwarnings(\"ignore\")"
   ]
  },
  {
   "cell_type": "markdown",
   "id": "6c1f2eef",
   "metadata": {
    "heading_collapsed": true
   },
   "source": [
    "# Descargar pesos de modelo Yolo"
   ]
  },
  {
   "cell_type": "markdown",
   "id": "b4432a1f",
   "metadata": {
    "hidden": true
   },
   "source": [
    "El modelo se descargará desde github: https://github.com/ultralytics/yolov5/releases"
   ]
  },
  {
   "cell_type": "code",
   "execution_count": null,
   "id": "e3b5cde0",
   "metadata": {
    "ExecuteTime": {
     "end_time": "2022-11-27T22:20:22.091499Z",
     "start_time": "2022-11-27T22:20:21.576812Z"
    },
    "code_folding": [
     0
    ],
    "hidden": true,
    "scrolled": false
   },
   "outputs": [],
   "source": [
    "# Leer modelo Yolo desde github\n",
    "\n",
    "# Modelos , ver pagina web: https://github.com/ultralytics/yolov5/releases\n",
    "\n",
    "# yolov5n : modelo nano - 640 pixels\n",
    "# yolov5s : modelo small - 640 pixels\n",
    "# yolov5m : modelo medium - 640 pixels\n",
    "# yolov5l : modelo large - 640 pixels\n",
    "# yolov5x : modelo extra large - 640 pixels\n",
    "\n",
    "# yolov5n6 : modelo nano - 1280 pixels\n",
    "# yolov5s6 : modelo small - 1280 pixels\n",
    "# yolov5m6 : modelo medium - 1280 pixels\n",
    "# yolov5l6 : modelo large - 1280 pixels\n",
    "\n",
    "# [INPUT] Indicar el modelo a leer\n",
    "nombre_yolo = \"yolov5s\"\n",
    "\n",
    "print('nombre modelo:',nombre_yolo)\n",
    "\n",
    "try:\n",
    "    model = torch.hub.load('ultralytics/yolov5', nombre_yolo)\n",
    "    print('Se descargó modelo')\n",
    "except:\n",
    "    print('Revisar porque puede que no exista el archivo indicado')"
   ]
  },
  {
   "cell_type": "code",
   "execution_count": 3,
   "id": "b2cd2a5a",
   "metadata": {
    "ExecuteTime": {
     "end_time": "2022-11-27T22:15:16.763718Z",
     "start_time": "2022-11-27T22:15:16.749712Z"
    },
    "code_folding": [
     0
    ],
    "hidden": true,
    "scrolled": true
   },
   "outputs": [
    {
     "name": "stdout",
     "output_type": "stream",
     "text": [
      "0  :  person\n",
      "1  :  bicycle\n",
      "2  :  car\n",
      "3  :  motorcycle\n",
      "4  :  airplane\n",
      "5  :  bus\n",
      "6  :  train\n",
      "7  :  truck\n",
      "8  :  boat\n",
      "9  :  traffic light\n",
      "10  :  fire hydrant\n",
      "11  :  stop sign\n",
      "12  :  parking meter\n",
      "13  :  bench\n",
      "14  :  bird\n",
      "15  :  cat\n",
      "16  :  dog\n",
      "17  :  horse\n",
      "18  :  sheep\n",
      "19  :  cow\n",
      "20  :  elephant\n",
      "21  :  bear\n",
      "22  :  zebra\n",
      "23  :  giraffe\n",
      "24  :  backpack\n",
      "25  :  umbrella\n",
      "26  :  handbag\n",
      "27  :  tie\n",
      "28  :  suitcase\n",
      "29  :  frisbee\n",
      "30  :  skis\n",
      "31  :  snowboard\n",
      "32  :  sports ball\n",
      "33  :  kite\n",
      "34  :  baseball bat\n",
      "35  :  baseball glove\n",
      "36  :  skateboard\n",
      "37  :  surfboard\n",
      "38  :  tennis racket\n",
      "39  :  bottle\n",
      "40  :  wine glass\n",
      "41  :  cup\n",
      "42  :  fork\n",
      "43  :  knife\n",
      "44  :  spoon\n",
      "45  :  bowl\n",
      "46  :  banana\n",
      "47  :  apple\n",
      "48  :  sandwich\n",
      "49  :  orange\n",
      "50  :  broccoli\n",
      "51  :  carrot\n",
      "52  :  hot dog\n",
      "53  :  pizza\n",
      "54  :  donut\n",
      "55  :  cake\n",
      "56  :  chair\n",
      "57  :  couch\n",
      "58  :  potted plant\n",
      "59  :  bed\n",
      "60  :  dining table\n",
      "61  :  toilet\n",
      "62  :  tv\n",
      "63  :  laptop\n",
      "64  :  mouse\n",
      "65  :  remote\n",
      "66  :  keyboard\n",
      "67  :  cell phone\n",
      "68  :  microwave\n",
      "69  :  oven\n",
      "70  :  toaster\n",
      "71  :  sink\n",
      "72  :  refrigerator\n",
      "73  :  book\n",
      "74  :  clock\n",
      "75  :  vase\n",
      "76  :  scissors\n",
      "77  :  teddy bear\n",
      "78  :  hair drier\n",
      "79  :  toothbrush\n"
     ]
    }
   ],
   "source": [
    "# imprimir clases segun el modelo descargado - vienen a ser las clases\n",
    "for (numero,clase) in model.names.items():\n",
    "    print(numero,' : ',clase)"
   ]
  },
  {
   "cell_type": "code",
   "execution_count": 4,
   "id": "1c341211",
   "metadata": {
    "ExecuteTime": {
     "end_time": "2022-11-27T22:15:17.737120Z",
     "start_time": "2022-11-27T22:15:17.712119Z"
    },
    "code_folding": [
     0
    ],
    "hidden": true
   },
   "outputs": [
    {
     "data": {
      "text/plain": [
       "AutoShape(\n",
       "  (model): DetectMultiBackend(\n",
       "    (model): DetectionModel(\n",
       "      (model): Sequential(\n",
       "        (0): Conv(\n",
       "          (conv): Conv2d(3, 32, kernel_size=(6, 6), stride=(2, 2), padding=(2, 2))\n",
       "          (act): SiLU(inplace=True)\n",
       "        )\n",
       "        (1): Conv(\n",
       "          (conv): Conv2d(32, 64, kernel_size=(3, 3), stride=(2, 2), padding=(1, 1))\n",
       "          (act): SiLU(inplace=True)\n",
       "        )\n",
       "        (2): C3(\n",
       "          (cv1): Conv(\n",
       "            (conv): Conv2d(64, 32, kernel_size=(1, 1), stride=(1, 1))\n",
       "            (act): SiLU(inplace=True)\n",
       "          )\n",
       "          (cv2): Conv(\n",
       "            (conv): Conv2d(64, 32, kernel_size=(1, 1), stride=(1, 1))\n",
       "            (act): SiLU(inplace=True)\n",
       "          )\n",
       "          (cv3): Conv(\n",
       "            (conv): Conv2d(64, 64, kernel_size=(1, 1), stride=(1, 1))\n",
       "            (act): SiLU(inplace=True)\n",
       "          )\n",
       "          (m): Sequential(\n",
       "            (0): Bottleneck(\n",
       "              (cv1): Conv(\n",
       "                (conv): Conv2d(32, 32, kernel_size=(1, 1), stride=(1, 1))\n",
       "                (act): SiLU(inplace=True)\n",
       "              )\n",
       "              (cv2): Conv(\n",
       "                (conv): Conv2d(32, 32, kernel_size=(3, 3), stride=(1, 1), padding=(1, 1))\n",
       "                (act): SiLU(inplace=True)\n",
       "              )\n",
       "            )\n",
       "          )\n",
       "        )\n",
       "        (3): Conv(\n",
       "          (conv): Conv2d(64, 128, kernel_size=(3, 3), stride=(2, 2), padding=(1, 1))\n",
       "          (act): SiLU(inplace=True)\n",
       "        )\n",
       "        (4): C3(\n",
       "          (cv1): Conv(\n",
       "            (conv): Conv2d(128, 64, kernel_size=(1, 1), stride=(1, 1))\n",
       "            (act): SiLU(inplace=True)\n",
       "          )\n",
       "          (cv2): Conv(\n",
       "            (conv): Conv2d(128, 64, kernel_size=(1, 1), stride=(1, 1))\n",
       "            (act): SiLU(inplace=True)\n",
       "          )\n",
       "          (cv3): Conv(\n",
       "            (conv): Conv2d(128, 128, kernel_size=(1, 1), stride=(1, 1))\n",
       "            (act): SiLU(inplace=True)\n",
       "          )\n",
       "          (m): Sequential(\n",
       "            (0): Bottleneck(\n",
       "              (cv1): Conv(\n",
       "                (conv): Conv2d(64, 64, kernel_size=(1, 1), stride=(1, 1))\n",
       "                (act): SiLU(inplace=True)\n",
       "              )\n",
       "              (cv2): Conv(\n",
       "                (conv): Conv2d(64, 64, kernel_size=(3, 3), stride=(1, 1), padding=(1, 1))\n",
       "                (act): SiLU(inplace=True)\n",
       "              )\n",
       "            )\n",
       "            (1): Bottleneck(\n",
       "              (cv1): Conv(\n",
       "                (conv): Conv2d(64, 64, kernel_size=(1, 1), stride=(1, 1))\n",
       "                (act): SiLU(inplace=True)\n",
       "              )\n",
       "              (cv2): Conv(\n",
       "                (conv): Conv2d(64, 64, kernel_size=(3, 3), stride=(1, 1), padding=(1, 1))\n",
       "                (act): SiLU(inplace=True)\n",
       "              )\n",
       "            )\n",
       "          )\n",
       "        )\n",
       "        (5): Conv(\n",
       "          (conv): Conv2d(128, 256, kernel_size=(3, 3), stride=(2, 2), padding=(1, 1))\n",
       "          (act): SiLU(inplace=True)\n",
       "        )\n",
       "        (6): C3(\n",
       "          (cv1): Conv(\n",
       "            (conv): Conv2d(256, 128, kernel_size=(1, 1), stride=(1, 1))\n",
       "            (act): SiLU(inplace=True)\n",
       "          )\n",
       "          (cv2): Conv(\n",
       "            (conv): Conv2d(256, 128, kernel_size=(1, 1), stride=(1, 1))\n",
       "            (act): SiLU(inplace=True)\n",
       "          )\n",
       "          (cv3): Conv(\n",
       "            (conv): Conv2d(256, 256, kernel_size=(1, 1), stride=(1, 1))\n",
       "            (act): SiLU(inplace=True)\n",
       "          )\n",
       "          (m): Sequential(\n",
       "            (0): Bottleneck(\n",
       "              (cv1): Conv(\n",
       "                (conv): Conv2d(128, 128, kernel_size=(1, 1), stride=(1, 1))\n",
       "                (act): SiLU(inplace=True)\n",
       "              )\n",
       "              (cv2): Conv(\n",
       "                (conv): Conv2d(128, 128, kernel_size=(3, 3), stride=(1, 1), padding=(1, 1))\n",
       "                (act): SiLU(inplace=True)\n",
       "              )\n",
       "            )\n",
       "            (1): Bottleneck(\n",
       "              (cv1): Conv(\n",
       "                (conv): Conv2d(128, 128, kernel_size=(1, 1), stride=(1, 1))\n",
       "                (act): SiLU(inplace=True)\n",
       "              )\n",
       "              (cv2): Conv(\n",
       "                (conv): Conv2d(128, 128, kernel_size=(3, 3), stride=(1, 1), padding=(1, 1))\n",
       "                (act): SiLU(inplace=True)\n",
       "              )\n",
       "            )\n",
       "            (2): Bottleneck(\n",
       "              (cv1): Conv(\n",
       "                (conv): Conv2d(128, 128, kernel_size=(1, 1), stride=(1, 1))\n",
       "                (act): SiLU(inplace=True)\n",
       "              )\n",
       "              (cv2): Conv(\n",
       "                (conv): Conv2d(128, 128, kernel_size=(3, 3), stride=(1, 1), padding=(1, 1))\n",
       "                (act): SiLU(inplace=True)\n",
       "              )\n",
       "            )\n",
       "          )\n",
       "        )\n",
       "        (7): Conv(\n",
       "          (conv): Conv2d(256, 512, kernel_size=(3, 3), stride=(2, 2), padding=(1, 1))\n",
       "          (act): SiLU(inplace=True)\n",
       "        )\n",
       "        (8): C3(\n",
       "          (cv1): Conv(\n",
       "            (conv): Conv2d(512, 256, kernel_size=(1, 1), stride=(1, 1))\n",
       "            (act): SiLU(inplace=True)\n",
       "          )\n",
       "          (cv2): Conv(\n",
       "            (conv): Conv2d(512, 256, kernel_size=(1, 1), stride=(1, 1))\n",
       "            (act): SiLU(inplace=True)\n",
       "          )\n",
       "          (cv3): Conv(\n",
       "            (conv): Conv2d(512, 512, kernel_size=(1, 1), stride=(1, 1))\n",
       "            (act): SiLU(inplace=True)\n",
       "          )\n",
       "          (m): Sequential(\n",
       "            (0): Bottleneck(\n",
       "              (cv1): Conv(\n",
       "                (conv): Conv2d(256, 256, kernel_size=(1, 1), stride=(1, 1))\n",
       "                (act): SiLU(inplace=True)\n",
       "              )\n",
       "              (cv2): Conv(\n",
       "                (conv): Conv2d(256, 256, kernel_size=(3, 3), stride=(1, 1), padding=(1, 1))\n",
       "                (act): SiLU(inplace=True)\n",
       "              )\n",
       "            )\n",
       "          )\n",
       "        )\n",
       "        (9): SPPF(\n",
       "          (cv1): Conv(\n",
       "            (conv): Conv2d(512, 256, kernel_size=(1, 1), stride=(1, 1))\n",
       "            (act): SiLU(inplace=True)\n",
       "          )\n",
       "          (cv2): Conv(\n",
       "            (conv): Conv2d(1024, 512, kernel_size=(1, 1), stride=(1, 1))\n",
       "            (act): SiLU(inplace=True)\n",
       "          )\n",
       "          (m): MaxPool2d(kernel_size=5, stride=1, padding=2, dilation=1, ceil_mode=False)\n",
       "        )\n",
       "        (10): Conv(\n",
       "          (conv): Conv2d(512, 256, kernel_size=(1, 1), stride=(1, 1))\n",
       "          (act): SiLU(inplace=True)\n",
       "        )\n",
       "        (11): Upsample(scale_factor=2.0, mode=nearest)\n",
       "        (12): Concat()\n",
       "        (13): C3(\n",
       "          (cv1): Conv(\n",
       "            (conv): Conv2d(512, 128, kernel_size=(1, 1), stride=(1, 1))\n",
       "            (act): SiLU(inplace=True)\n",
       "          )\n",
       "          (cv2): Conv(\n",
       "            (conv): Conv2d(512, 128, kernel_size=(1, 1), stride=(1, 1))\n",
       "            (act): SiLU(inplace=True)\n",
       "          )\n",
       "          (cv3): Conv(\n",
       "            (conv): Conv2d(256, 256, kernel_size=(1, 1), stride=(1, 1))\n",
       "            (act): SiLU(inplace=True)\n",
       "          )\n",
       "          (m): Sequential(\n",
       "            (0): Bottleneck(\n",
       "              (cv1): Conv(\n",
       "                (conv): Conv2d(128, 128, kernel_size=(1, 1), stride=(1, 1))\n",
       "                (act): SiLU(inplace=True)\n",
       "              )\n",
       "              (cv2): Conv(\n",
       "                (conv): Conv2d(128, 128, kernel_size=(3, 3), stride=(1, 1), padding=(1, 1))\n",
       "                (act): SiLU(inplace=True)\n",
       "              )\n",
       "            )\n",
       "          )\n",
       "        )\n",
       "        (14): Conv(\n",
       "          (conv): Conv2d(256, 128, kernel_size=(1, 1), stride=(1, 1))\n",
       "          (act): SiLU(inplace=True)\n",
       "        )\n",
       "        (15): Upsample(scale_factor=2.0, mode=nearest)\n",
       "        (16): Concat()\n",
       "        (17): C3(\n",
       "          (cv1): Conv(\n",
       "            (conv): Conv2d(256, 64, kernel_size=(1, 1), stride=(1, 1))\n",
       "            (act): SiLU(inplace=True)\n",
       "          )\n",
       "          (cv2): Conv(\n",
       "            (conv): Conv2d(256, 64, kernel_size=(1, 1), stride=(1, 1))\n",
       "            (act): SiLU(inplace=True)\n",
       "          )\n",
       "          (cv3): Conv(\n",
       "            (conv): Conv2d(128, 128, kernel_size=(1, 1), stride=(1, 1))\n",
       "            (act): SiLU(inplace=True)\n",
       "          )\n",
       "          (m): Sequential(\n",
       "            (0): Bottleneck(\n",
       "              (cv1): Conv(\n",
       "                (conv): Conv2d(64, 64, kernel_size=(1, 1), stride=(1, 1))\n",
       "                (act): SiLU(inplace=True)\n",
       "              )\n",
       "              (cv2): Conv(\n",
       "                (conv): Conv2d(64, 64, kernel_size=(3, 3), stride=(1, 1), padding=(1, 1))\n",
       "                (act): SiLU(inplace=True)\n",
       "              )\n",
       "            )\n",
       "          )\n",
       "        )\n",
       "        (18): Conv(\n",
       "          (conv): Conv2d(128, 128, kernel_size=(3, 3), stride=(2, 2), padding=(1, 1))\n",
       "          (act): SiLU(inplace=True)\n",
       "        )\n",
       "        (19): Concat()\n",
       "        (20): C3(\n",
       "          (cv1): Conv(\n",
       "            (conv): Conv2d(256, 128, kernel_size=(1, 1), stride=(1, 1))\n",
       "            (act): SiLU(inplace=True)\n",
       "          )\n",
       "          (cv2): Conv(\n",
       "            (conv): Conv2d(256, 128, kernel_size=(1, 1), stride=(1, 1))\n",
       "            (act): SiLU(inplace=True)\n",
       "          )\n",
       "          (cv3): Conv(\n",
       "            (conv): Conv2d(256, 256, kernel_size=(1, 1), stride=(1, 1))\n",
       "            (act): SiLU(inplace=True)\n",
       "          )\n",
       "          (m): Sequential(\n",
       "            (0): Bottleneck(\n",
       "              (cv1): Conv(\n",
       "                (conv): Conv2d(128, 128, kernel_size=(1, 1), stride=(1, 1))\n",
       "                (act): SiLU(inplace=True)\n",
       "              )\n",
       "              (cv2): Conv(\n",
       "                (conv): Conv2d(128, 128, kernel_size=(3, 3), stride=(1, 1), padding=(1, 1))\n",
       "                (act): SiLU(inplace=True)\n",
       "              )\n",
       "            )\n",
       "          )\n",
       "        )\n",
       "        (21): Conv(\n",
       "          (conv): Conv2d(256, 256, kernel_size=(3, 3), stride=(2, 2), padding=(1, 1))\n",
       "          (act): SiLU(inplace=True)\n",
       "        )\n",
       "        (22): Concat()\n",
       "        (23): C3(\n",
       "          (cv1): Conv(\n",
       "            (conv): Conv2d(512, 256, kernel_size=(1, 1), stride=(1, 1))\n",
       "            (act): SiLU(inplace=True)\n",
       "          )\n",
       "          (cv2): Conv(\n",
       "            (conv): Conv2d(512, 256, kernel_size=(1, 1), stride=(1, 1))\n",
       "            (act): SiLU(inplace=True)\n",
       "          )\n",
       "          (cv3): Conv(\n",
       "            (conv): Conv2d(512, 512, kernel_size=(1, 1), stride=(1, 1))\n",
       "            (act): SiLU(inplace=True)\n",
       "          )\n",
       "          (m): Sequential(\n",
       "            (0): Bottleneck(\n",
       "              (cv1): Conv(\n",
       "                (conv): Conv2d(256, 256, kernel_size=(1, 1), stride=(1, 1))\n",
       "                (act): SiLU(inplace=True)\n",
       "              )\n",
       "              (cv2): Conv(\n",
       "                (conv): Conv2d(256, 256, kernel_size=(3, 3), stride=(1, 1), padding=(1, 1))\n",
       "                (act): SiLU(inplace=True)\n",
       "              )\n",
       "            )\n",
       "          )\n",
       "        )\n",
       "        (24): Detect(\n",
       "          (m): ModuleList(\n",
       "            (0): Conv2d(128, 255, kernel_size=(1, 1), stride=(1, 1))\n",
       "            (1): Conv2d(256, 255, kernel_size=(1, 1), stride=(1, 1))\n",
       "            (2): Conv2d(512, 255, kernel_size=(1, 1), stride=(1, 1))\n",
       "          )\n",
       "        )\n",
       "      )\n",
       "    )\n",
       "  )\n",
       ")"
      ]
     },
     "execution_count": 4,
     "metadata": {},
     "output_type": "execute_result"
    }
   ],
   "source": [
    "# ver arquitectura de modelo \n",
    "model"
   ]
  },
  {
   "cell_type": "markdown",
   "id": "0adf9753",
   "metadata": {
    "heading_collapsed": true
   },
   "source": [
    "# Prediccion de una sola imagen"
   ]
  },
  {
   "cell_type": "markdown",
   "id": "0f91fcea",
   "metadata": {
    "hidden": true
   },
   "source": [
    "Aqui se usará a modo de ejemplo una imagen disponible. Se puede cargar una imagen diferente en caso se desee."
   ]
  },
  {
   "cell_type": "code",
   "execution_count": 15,
   "id": "207c98c0",
   "metadata": {
    "ExecuteTime": {
     "end_time": "2022-11-27T22:20:41.152271Z",
     "start_time": "2022-11-27T22:20:41.134267Z"
    },
    "code_folding": [
     0
    ],
    "hidden": true,
    "scrolled": true
   },
   "outputs": [
    {
     "name": "stdout",
     "output_type": "stream",
     "text": [
      "archivo indicado: bus.jpg\n",
      "Dimension imagen: (1080, 810, 3)\n"
     ]
    }
   ],
   "source": [
    "# Indicar Imagen a usar\n",
    "\n",
    "# [INPUT]\n",
    "archivo = \"bus.jpg\"\n",
    "\n",
    "# Leer imagen\n",
    "img = cv2.imread(archivo, cv2.IMREAD_COLOR)\n",
    "img = img[:,:,::-1] # Cambiar de BGR a RGB\n",
    "\n",
    "print(\"archivo indicado:\",archivo)\n",
    "print('Dimension imagen:',img.shape)"
   ]
  },
  {
   "cell_type": "markdown",
   "id": "1ebe0f76",
   "metadata": {
    "hidden": true
   },
   "source": [
    "Se deja la imagen aqui en el bloque de comentarios:\n",
    "<img src=\"bus.jpg\" alt=\"Alternative text\" />"
   ]
  },
  {
   "cell_type": "code",
   "execution_count": 6,
   "id": "e2534526",
   "metadata": {
    "ExecuteTime": {
     "end_time": "2022-11-27T22:15:21.298427Z",
     "start_time": "2022-11-27T22:15:21.282321Z"
    },
    "code_folding": [
     0
    ],
    "hidden": true,
    "scrolled": false
   },
   "outputs": [
    {
     "name": "stdout",
     "output_type": "stream",
     "text": [
      "Dimension imagen inicio: (1080, 810, 3)\n",
      "Cantidad de pixeles minimo por lado: 680\n",
      "No se requiere de escalar imagen\n"
     ]
    }
   ],
   "source": [
    "# [Opcional] Aplicar escalamiento a imagen en caso sea pequeña\n",
    "\n",
    "# Dimensiones de imagen\n",
    "dims = img.shape\n",
    "print('Dimension imagen inicio:',img.shape)\n",
    "\n",
    "# [INPUT] Tamaño minimo de referencia\n",
    "pixeles_min = 680\n",
    "\n",
    "#######################\n",
    "\n",
    "print('Cantidad de pixeles minimo por lado:',pixeles_min)\n",
    "\n",
    "# Calcular escala\n",
    "escala = max([pixeles_min/dims[0],pixeles_min/dims[1]])\n",
    "\n",
    "# Solo en caso de requerirse escala hacia arriba\n",
    "if(escala > 1.075):\n",
    "    \n",
    "    # Dimensiones\n",
    "    width = int(dims[1]*escala)\n",
    "    height = int(dims[0]*escala)\n",
    "    dim = (width,height)\n",
    "    \n",
    "    # Hacer un resize de zoom (magnificacion)\n",
    "    img = cv2.resize(img, dim, interpolation = cv2.INTER_CUBIC)\n",
    "    \n",
    "    print('\\n*** Se aplicó escalamiento de imagen ***')\n",
    "    print('Dimension imagen final:',img.shape)\n",
    "\n",
    "    # guardar imagen en el archivo indicado\n",
    "    archivo = archivo.split(\".\")[0] + \"_res.jpg\"\n",
    "    cv2.imwrite(archivo, img[:,:,::-1]) # Opencv usa BGR\n",
    "    print('Archivo con resize:',archivo)\n",
    "    \n",
    "else:\n",
    "    print('No se requiere de escalar imagen')"
   ]
  },
  {
   "cell_type": "code",
   "execution_count": 7,
   "id": "58fd185c",
   "metadata": {
    "ExecuteTime": {
     "end_time": "2022-11-27T22:15:22.541608Z",
     "start_time": "2022-11-27T22:15:22.389616Z"
    },
    "code_folding": [
     0
    ],
    "hidden": true,
    "scrolled": true
   },
   "outputs": [
    {
     "data": {
      "text/html": [
       "<div>\n",
       "<style scoped>\n",
       "    .dataframe tbody tr th:only-of-type {\n",
       "        vertical-align: middle;\n",
       "    }\n",
       "\n",
       "    .dataframe tbody tr th {\n",
       "        vertical-align: top;\n",
       "    }\n",
       "\n",
       "    .dataframe thead th {\n",
       "        text-align: right;\n",
       "    }\n",
       "</style>\n",
       "<table border=\"1\" class=\"dataframe\">\n",
       "  <thead>\n",
       "    <tr style=\"text-align: right;\">\n",
       "      <th></th>\n",
       "      <th>xmin</th>\n",
       "      <th>ymin</th>\n",
       "      <th>xmax</th>\n",
       "      <th>ymax</th>\n",
       "      <th>confidence</th>\n",
       "      <th>class</th>\n",
       "      <th>name</th>\n",
       "    </tr>\n",
       "  </thead>\n",
       "  <tbody>\n",
       "    <tr>\n",
       "      <th>0</th>\n",
       "      <td>671.787781</td>\n",
       "      <td>395.371979</td>\n",
       "      <td>810.000000</td>\n",
       "      <td>878.361450</td>\n",
       "      <td>0.896172</td>\n",
       "      <td>0</td>\n",
       "      <td>person</td>\n",
       "    </tr>\n",
       "    <tr>\n",
       "      <th>1</th>\n",
       "      <td>220.657059</td>\n",
       "      <td>408.140900</td>\n",
       "      <td>346.167328</td>\n",
       "      <td>867.381287</td>\n",
       "      <td>0.870248</td>\n",
       "      <td>0</td>\n",
       "      <td>person</td>\n",
       "    </tr>\n",
       "    <tr>\n",
       "      <th>2</th>\n",
       "      <td>49.250805</td>\n",
       "      <td>389.990540</td>\n",
       "      <td>248.078201</td>\n",
       "      <td>912.458557</td>\n",
       "      <td>0.851563</td>\n",
       "      <td>0</td>\n",
       "      <td>person</td>\n",
       "    </tr>\n",
       "    <tr>\n",
       "      <th>3</th>\n",
       "      <td>12.650611</td>\n",
       "      <td>223.378433</td>\n",
       "      <td>809.707275</td>\n",
       "      <td>788.516357</td>\n",
       "      <td>0.849334</td>\n",
       "      <td>5</td>\n",
       "      <td>bus</td>\n",
       "    </tr>\n",
       "    <tr>\n",
       "      <th>4</th>\n",
       "      <td>0.045434</td>\n",
       "      <td>552.411316</td>\n",
       "      <td>67.882339</td>\n",
       "      <td>875.374634</td>\n",
       "      <td>0.534942</td>\n",
       "      <td>0</td>\n",
       "      <td>person</td>\n",
       "    </tr>\n",
       "  </tbody>\n",
       "</table>\n",
       "</div>"
      ],
      "text/plain": [
       "         xmin        ymin        xmax        ymax  confidence  class    name\n",
       "0  671.787781  395.371979  810.000000  878.361450    0.896172      0  person\n",
       "1  220.657059  408.140900  346.167328  867.381287    0.870248      0  person\n",
       "2   49.250805  389.990540  248.078201  912.458557    0.851563      0  person\n",
       "3   12.650611  223.378433  809.707275  788.516357    0.849334      5     bus\n",
       "4    0.045434  552.411316   67.882339  875.374634    0.534942      0  person"
      ]
     },
     "execution_count": 7,
     "metadata": {},
     "output_type": "execute_result"
    }
   ],
   "source": [
    "# Inferencia con modelo\n",
    "\n",
    "resultado = model(archivo)\n",
    "\n",
    "#resultado.xyxy[0]  # img1 predictions (tensor)\n",
    "resultado.pandas().xyxy[0]  # img1 predictions (pandas)"
   ]
  },
  {
   "cell_type": "code",
   "execution_count": 8,
   "id": "b0fa51c1",
   "metadata": {
    "ExecuteTime": {
     "end_time": "2022-11-27T22:15:23.322766Z",
     "start_time": "2022-11-27T22:15:23.261369Z"
    },
    "code_folding": [
     0
    ],
    "hidden": true,
    "scrolled": true
   },
   "outputs": [
    {
     "name": "stdout",
     "output_type": "stream",
     "text": [
      "Se guardó en: bus_pred.jpg\n"
     ]
    }
   ],
   "source": [
    "# Imagen salida - guardar a archivo\n",
    "\n",
    "img_aux = img.copy()\n",
    "datos = resultado.pandas().xyxy[0].copy()\n",
    "\n",
    "# Filtrar segun confidencia de la prediccion\n",
    "confidencia_minima = 0.175\n",
    "datos = datos[datos.confidence > confidencia_minima].copy()\n",
    "    \n",
    "for ix in datos.index:\n",
    "    datosz = datos.loc[ix,:].copy()\n",
    "    min_point = (int(datosz.xmin),int(datosz.ymin))\n",
    "    max_point = (int(datosz.xmax),int(datosz.ymax))\n",
    "    img_aux = cv2.rectangle(img_aux,min_point,max_point,(255,255,255),1)\n",
    "    \n",
    "# ver imagen\n",
    "plt.figure(figsize=(10,10))\n",
    "plt.imshow(img_aux)\n",
    "plt.show()  \n",
    "\n",
    "# Nombre de archivo a guardar\n",
    "filename_aux = archivo.split('.')[0] + \"_pred\" + \".jpg\"\n",
    "\n",
    "# Escribir\n",
    "cv2.imwrite(filename_aux, img_aux[:,:,::-1]) # Opencv usa BGR\n",
    "print('Se guardó en:',filename_aux)"
   ]
  },
  {
   "cell_type": "markdown",
   "id": "816bbbe4",
   "metadata": {
    "hidden": true
   },
   "source": [
    "Se deja la imagen obtenida segun la prediccion del modelo:\n",
    "<img src=\"bus_pred.jpg\" alt=\"Alternative text\" />"
   ]
  },
  {
   "cell_type": "markdown",
   "id": "47b41c88",
   "metadata": {
    "heading_collapsed": true
   },
   "source": [
    "# Prediccion con webcam"
   ]
  },
  {
   "cell_type": "markdown",
   "id": "b35c4702",
   "metadata": {
    "hidden": true
   },
   "source": [
    "Con el modelo leido se aplicará la prediccion en tiempo real. Al ejecutar el codigo, se usará la web cam que logre encontrar python segun el codigo. Se abrirá una ventana nueva segun Opencv y mediante el control **\"s\"** del teclado se podrá cerrar."
   ]
  },
  {
   "cell_type": "markdown",
   "id": "5e9d76ea",
   "metadata": {
    "hidden": true
   },
   "source": [
    "### Inferencia 1 - Deteccion de todos los objetos en camara web"
   ]
  },
  {
   "cell_type": "code",
   "execution_count": 9,
   "id": "031aed23",
   "metadata": {
    "ExecuteTime": {
     "end_time": "2022-11-27T22:15:33.760979Z",
     "start_time": "2022-11-27T22:15:26.660598Z"
    },
    "code_folding": [
     0
    ],
    "hidden": true
   },
   "outputs": [],
   "source": [
    "# Prueba inferencia con imagen en tiempo real\n",
    "\n",
    "import cv2\n",
    "\n",
    "capture = cv2.VideoCapture(0)\n",
    "\n",
    "while(capture.isOpened()):\n",
    "    \n",
    "    # leer frame del video / submuestreo\n",
    "    subsampling_frames = 3      # cantidad submuestreo\n",
    "    nn_frames = 0   # contador de submuestreo - Inicializar\n",
    "    \n",
    "    while(nn_frames < subsampling_frames):\n",
    "        ret, frame = capture.read()\n",
    "        nn_frames += 1  # contador submuestreo\n",
    "    \n",
    "    #################################\n",
    "    \n",
    "    # Inferencia con modelo\n",
    "    resultado = model(frame)\n",
    "    \n",
    "    datos = resultado.pandas().xyxy[0].copy()\n",
    "    \n",
    "    titulo = 'Presione teclado \"s\" para finalizar grabacion' + ' - submuestreo: ' + str(subsampling_frames) \n",
    "    \n",
    "    # Filtrar segun confidencia de la prediccion\n",
    "    confidencia_minima = 0.175\n",
    "    datos = datos[datos.confidence > confidencia_minima].copy()\n",
    "    \n",
    "    ###################\n",
    "    \n",
    "    # agregar rectangulo con objeto detectado\n",
    "    for ix in datos.index:\n",
    "        datosz = datos.loc[ix,:].copy()\n",
    "        min_point = (int(datosz.xmin),int(datosz.ymin))\n",
    "        max_point = (int(datosz.xmax),int(datosz.ymax))\n",
    "        frame = cv2.rectangle(frame,min_point,max_point,(255,255,255),1)\n",
    "    \n",
    "    # mostrar imagen\n",
    "    cv2.imshow(titulo,frame)\n",
    "    \n",
    "    #################################\n",
    "    \n",
    "    # break de bucle\n",
    "    if (cv2.waitKey(1) == ord('s')):\n",
    "        break\n",
    "\n",
    "\n",
    "#############################\n",
    "\n",
    "# liberar webcam\n",
    "capture.release()\n",
    "\n",
    "# cerrar ventana\n",
    "cv2.destroyAllWindows()"
   ]
  },
  {
   "cell_type": "markdown",
   "id": "f577e3f5",
   "metadata": {
    "hidden": true
   },
   "source": [
    "### Inferencia 2 - Deteccion de solo personas en camara web"
   ]
  },
  {
   "cell_type": "code",
   "execution_count": 12,
   "id": "135a2696",
   "metadata": {
    "ExecuteTime": {
     "end_time": "2022-11-27T22:09:33.260409Z",
     "start_time": "2022-11-27T22:09:27.367762Z"
    },
    "code_folding": [
     0
    ],
    "hidden": true
   },
   "outputs": [],
   "source": [
    "# Prueba inferencia con imagen en tiempo real - Filtrar por Persona\n",
    "\n",
    "import cv2\n",
    "\n",
    "capture = cv2.VideoCapture(0)\n",
    "\n",
    "while(capture.isOpened()):\n",
    "    \n",
    "    # leer frame del video / submuestreo\n",
    "    subsampling_frames = 3      # cantidad submuestreo\n",
    "    nn_frames = 0   # contador de submuestreo - Inicializar\n",
    "    \n",
    "    while(nn_frames < subsampling_frames):\n",
    "        ret, frame = capture.read()\n",
    "        nn_frames += 1  # contador submuestreo\n",
    "    \n",
    "    #################################\n",
    "    \n",
    "    # Inferencia con modelo\n",
    "    resultado = model(frame)\n",
    "    \n",
    "    datos = resultado.pandas().xyxy[0].copy()\n",
    "    \n",
    "    titulo = 'Presione teclado \"s\" para finalizar grabacion' + ' - submuestreo: ' + str(subsampling_frames) \n",
    "    \n",
    "    # Filtrar segun confidencia de la prediccion\n",
    "    confidencia_minima = 0.175\n",
    "    datos = datos[datos.confidence > confidencia_minima].copy()\n",
    "    \n",
    "    #########################################\n",
    "\n",
    "    # Filtrar\n",
    "    datos = datos[datos.name.isin([\"person\"])]\n",
    "    \n",
    "    \n",
    "    # agregar rectangulo con objeto detectado\n",
    "    for ix in datos.index:\n",
    "        datosz = datos.loc[ix,:].copy()\n",
    "        min_point = (int(datosz.xmin),int(datosz.ymin))\n",
    "        max_point = (int(datosz.xmax),int(datosz.ymax))\n",
    "        frame = cv2.rectangle(frame,min_point,max_point,(255,255,255),1)\n",
    "    \n",
    "    # mostrar imagen\n",
    "    cv2.imshow(titulo,frame)\n",
    "    \n",
    "    #################################\n",
    "    \n",
    "    # break de bucle\n",
    "    if (cv2.waitKey(1) == ord('s')):\n",
    "        break\n",
    "\n",
    "\n",
    "#############################\n",
    "\n",
    "# liberar webcam\n",
    "capture.release()\n",
    "\n",
    "# cerrar ventana\n",
    "cv2.destroyAllWindows()"
   ]
  }
 ],
 "metadata": {
  "kernelspec": {
   "display_name": "Python 3 (ipykernel)",
   "language": "python",
   "name": "python3"
  },
  "language_info": {
   "codemirror_mode": {
    "name": "ipython",
    "version": 3
   },
   "file_extension": ".py",
   "mimetype": "text/x-python",
   "name": "python",
   "nbconvert_exporter": "python",
   "pygments_lexer": "ipython3",
   "version": "3.10.4"
  },
  "toc": {
   "base_numbering": 1,
   "nav_menu": {},
   "number_sections": false,
   "sideBar": true,
   "skip_h1_title": false,
   "title_cell": "Table of Contents",
   "title_sidebar": "Contents",
   "toc_cell": false,
   "toc_position": {},
   "toc_section_display": true,
   "toc_window_display": false
  }
 },
 "nbformat": 4,
 "nbformat_minor": 5
}

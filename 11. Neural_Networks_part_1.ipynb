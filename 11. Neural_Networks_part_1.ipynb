{
 "cells": [
  {
   "cell_type": "markdown",
   "metadata": {},
   "source": [
    "El presente notebook tiene como objetivo el brindar aplicaciones de ejemplo de las ANN. Importante mencionar que los ejemplos y materiale extraido fue consultado de textos y la pagina de \"tensorflow.org\""
   ]
  },
  {
   "cell_type": "markdown",
   "metadata": {
    "heading_collapsed": true
   },
   "source": [
    "# Librerias"
   ]
  },
  {
   "cell_type": "code",
   "execution_count": 7,
   "metadata": {
    "ExecuteTime": {
     "end_time": "2022-02-13T01:37:50.294115Z",
     "start_time": "2022-02-13T01:37:50.267118Z"
    },
    "code_folding": [
     0
    ],
    "hidden": true,
    "scrolled": true
   },
   "outputs": [],
   "source": [
    "## Conjunto de librerias a usar\n",
    "\n",
    "### La idea aqui no es optimizar la cantidad de lineas, sino familiarizarse con las librerias a usar\n",
    "### esto implica el importar cada una de las funciones de forma individual\n",
    "\n",
    "# Generales\n",
    "import pandas as pd\n",
    "import numpy as np\n",
    "import matplotlib as mpl\n",
    "import matplotlib.pyplot as plt\n",
    "import random\n",
    "import seaborn as sns\n",
    "import dill\n",
    "from IPython.display import Image  \n",
    "import pydotplus\n",
    "#import xgboost\n",
    "from kneed import KneeLocator\n",
    "import joblib\n",
    "import mglearn\n",
    "from IPython.display import Image\n",
    "import sklearn as skl\n",
    "from IPython import display\n",
    "import glob\n",
    "import imageio\n",
    "import os\n",
    "import PIL\n",
    "from tensorflow.keras import layers\n",
    "import time\n",
    "import scipy\n",
    "import sys\n",
    "from mpl_toolkits.mplot3d import Axes3D\n",
    "import math\n",
    "import pickle\n",
    "from scipy import stats\n",
    "\n",
    "# Clonar modelos creados\n",
    "from sklearn.base import clone \n",
    "\n",
    "\n",
    "## Funciones/Classes para Modelos\n",
    "from sklearn.model_selection import GridSearchCV\n",
    "from sklearn.metrics import precision_recall_curve\n",
    "from sklearn.model_selection import GroupKFold\n",
    "from sklearn.model_selection import ShuffleSplit\n",
    "from sklearn.pipeline import Pipeline\n",
    "from sklearn.pipeline import make_pipeline\n",
    "from sklearn.ensemble import RandomForestClassifier\n",
    "from sklearn.model_selection import ShuffleSplit\n",
    "from sklearn.model_selection import KFold\n",
    "from sklearn.metrics import confusion_matrix\n",
    "from sklearn.metrics import classification_report\n",
    "from sklearn.metrics import roc_curve\n",
    "from sklearn.metrics import roc_auc_score\n",
    "from sklearn.model_selection import train_test_split\n",
    "from sklearn.metrics import f1_score\n",
    "from sklearn.model_selection import cross_val_score\n",
    "from sklearn.metrics import accuracy_score\n",
    "from sklearn.model_selection import cross_val_predict\n",
    "from sklearn.metrics import precision_recall_curve\n",
    "from sklearn import tree\n",
    "from sklearn.metrics import mean_squared_error\n",
    "from sklearn.metrics import precision_score\n",
    "from sklearn.metrics import recall_score\n",
    "from sklearn.model_selection import RandomizedSearchCV\n",
    "\n",
    "\n",
    "## Preprocesamiento\n",
    "from sklearn import preprocessing\n",
    "from sklearn.preprocessing import MinMaxScaler\n",
    "from sklearn.preprocessing import StandardScaler\n",
    "from sklearn.preprocessing import MaxAbsScaler\n",
    "from sklearn.preprocessing import RobustScaler\n",
    "\n",
    "\n",
    "# Conjunto de Datos a cargar\n",
    "from sklearn import datasets\n",
    "from sklearn.datasets import load_digits\n",
    "from sklearn.datasets import load_breast_cancer\n",
    "from sklearn.datasets import make_moons\n",
    "from sklearn.datasets import load_iris\n",
    "from sklearn.datasets import make_blobs\n",
    "from sklearn.datasets import fetch_california_housing\n",
    "\n",
    "\n",
    "## Clasificadores \n",
    "from sklearn.linear_model import LogisticRegression\n",
    "from sklearn.linear_model import SGDClassifier\n",
    "from sklearn.ensemble import RandomForestClassifier\n",
    "from sklearn.neighbors import KNeighborsClassifier\n",
    "\n",
    "\n",
    "## librerias Regresion Lineal\n",
    "from sklearn.metrics import mean_squared_error\n",
    "from sklearn.linear_model import Ridge\n",
    "from sklearn.linear_model import Lasso\n",
    "from sklearn.preprocessing import PolynomialFeatures\n",
    "from sklearn.linear_model import SGDRegressor ## Stochastic gradient descent (alternativa Mini-Batch)\n",
    "from sklearn.linear_model import ElasticNet\n",
    "from sklearn.linear_model import LogisticRegression\n",
    "\n",
    "\n",
    "## IMPORTANTE: Libreria sklearn\n",
    "import sklearn as skl ## importar la libreria de sklearn como skl\n",
    "\n",
    "\n",
    "## SVM \n",
    "from sklearn.svm import LinearSVC # clasificacion\n",
    "from sklearn.svm import LinearSVR # regresion\n",
    "from sklearn.svm import SVC\n",
    "from sklearn.svm import SVR\n",
    "\n",
    "\n",
    "## Trees - Arboles de decisiones\n",
    "from sklearn.tree import DecisionTreeClassifier\n",
    "from sklearn.tree import export_graphviz\n",
    "from sklearn.tree import DecisionTreeRegressor\n",
    "from sklearn.ensemble import RandomForestClassifier\n",
    "\n",
    "\n",
    "# Ensemble methods\n",
    "from sklearn.ensemble import VotingClassifier\n",
    "from sklearn.ensemble import BaggingClassifier\n",
    "from sklearn.ensemble import BaggingRegressor\n",
    "from sklearn.ensemble import RandomForestClassifier\n",
    "from sklearn.ensemble import GradientBoostingRegressor\n",
    "\n",
    "\n",
    "# Reduction of Dimension\n",
    "from sklearn.decomposition import PCA\n",
    "from sklearn.decomposition import IncrementalPCA\n",
    "from sklearn.decomposition import KernelPCA\n",
    "\n",
    "\n",
    "# Unsupervised learning\n",
    "from sklearn.cluster import KMeans\n",
    "from sklearn.cluster import MiniBatchKMeans\n",
    "from sklearn.metrics import silhouette_score\n",
    "from yellowbrick.cluster import silhouette_visualizer\n",
    "from sklearn.cluster import DBSCAN\n",
    "from sklearn.cluster import AgglomerativeClustering\n",
    "from scipy.cluster.hierarchy import dendrogram, ward\n",
    "from sklearn.metrics.cluster import adjusted_rand_score\n",
    "\n",
    "\n",
    "## Machine Learning - Deep Learning\n",
    "import tensorflow as tf\n",
    "from tensorflow import keras\n",
    "from functools import partial\n",
    "from tensorflow.keras.models import Sequential\n",
    "from tensorflow.keras.layers import Dense\n",
    "\n",
    "# SOM (Self-Organized Map) --- No Supervisado \n",
    "import SimpSOM as sps \n",
    "\n",
    "# Esta libreria no es estandar de Python o Conda, se debe cargar el archivo popsom.py al folder de trabajo\n",
    "# El archivo popsom.py se obtiene de: https://github.com/njali2001/popsom/blob/master/popsom.py\n",
    "import popsom as som\n",
    "\n",
    "# LDA (linear Discriminant Analysis) -- Supervisado\n",
    "from sklearn.discriminant_analysis import LinearDiscriminantAnalysis\n",
    "\n",
    "\n",
    "# ANN para Scikit\n",
    "from sklearn.neural_network import MLPClassifier\n",
    "from sklearn.neural_network import MLPRegressor\n",
    "\n",
    "\n",
    "## advertencias\n",
    "import warnings\n",
    "## Ignorar las advertencias\n",
    "warnings.filterwarnings('ignore')\n",
    "## warnings.filterwarnings('always') ## mostrar advertencias\n",
    "\n",
    "## fin"
   ]
  },
  {
   "cell_type": "code",
   "execution_count": 6,
   "metadata": {
    "ExecuteTime": {
     "end_time": "2022-02-13T01:36:33.784135Z",
     "start_time": "2022-02-13T01:36:33.774136Z"
    },
    "code_folding": [
     0
    ],
    "hidden": true
   },
   "outputs": [
    {
     "name": "stdout",
     "output_type": "stream",
     "text": [
      "2.6.0\n",
      "2.6.0\n"
     ]
    }
   ],
   "source": [
    "# ver version de tf y keras\n",
    "\n",
    "print(tf.__version__)\n",
    "print(keras.__version__)\n",
    "\n",
    "# fin"
   ]
  },
  {
   "cell_type": "markdown",
   "metadata": {
    "heading_collapsed": true
   },
   "source": [
    "# ANN - modelo 1"
   ]
  },
  {
   "cell_type": "code",
   "execution_count": 8,
   "metadata": {
    "ExecuteTime": {
     "end_time": "2022-02-13T01:37:53.575825Z",
     "start_time": "2022-02-13T01:37:53.215838Z"
    },
    "code_folding": [
     0
    ],
    "hidden": true
   },
   "outputs": [
    {
     "name": "stdout",
     "output_type": "stream",
     "text": [
      "\n",
      "Train: \n",
      "(60000, 28, 28)\n",
      "(60000,)\n",
      "\n",
      "Test: \n",
      "(10000, 28, 28)\n",
      "(10000,)\n"
     ]
    }
   ],
   "source": [
    "# cargar datos\n",
    "\n",
    "datos=keras.datasets.fashion_mnist\n",
    "(X_train_full,y_train_full),(X_test,y_test)=datos.load_data()\n",
    "\n",
    "print('\\nTrain: ')\n",
    "print(X_train_full.shape)\n",
    "print(y_train_full.shape)\n",
    "\n",
    "print('\\nTest: ')\n",
    "print(X_test.shape)\n",
    "print(y_test.shape)\n",
    "\n",
    "# fin"
   ]
  },
  {
   "cell_type": "code",
   "execution_count": 3,
   "metadata": {
    "ExecuteTime": {
     "end_time": "2021-01-09T22:46:00.375943Z",
     "start_time": "2021-01-09T22:46:00.276594Z"
    },
    "code_folding": [
     0
    ],
    "hidden": true
   },
   "outputs": [],
   "source": [
    "# crear conjunto de validacion para entrenamiento\n",
    "\n",
    "X_valid, X_train = X_train_full[50000:]/255.0, X_train_full[:50000]/255.0\n",
    "y_valid, y_train = y_train_full[50000:], y_train_full[:50000]\n",
    "\n",
    "# fin"
   ]
  },
  {
   "cell_type": "code",
   "execution_count": 4,
   "metadata": {
    "ExecuteTime": {
     "end_time": "2021-01-09T22:46:02.000449Z",
     "start_time": "2021-01-09T22:46:01.987110Z"
    },
    "code_folding": [
     0
    ],
    "hidden": true
   },
   "outputs": [
    {
     "data": {
      "text/plain": [
       "'Ankle boot'"
      ]
     },
     "execution_count": 4,
     "metadata": {},
     "output_type": "execute_result"
    }
   ],
   "source": [
    "# Crear diccionario con nombre de las categorias segun dataset\n",
    "\n",
    "class_names = [\"T-shirt/top\", \"Trouser\", \"Pullover\", \"Dress\", \"Coat\",\n",
    " \"Sandal\", \"Shirt\", \"Sneaker\", \"Bag\", \"Ankle boot\"]\n",
    "\n",
    "class_names[y_train[0]] # ejemplo\n",
    "\n",
    "# fin"
   ]
  },
  {
   "cell_type": "code",
   "execution_count": 5,
   "metadata": {
    "ExecuteTime": {
     "end_time": "2021-01-09T22:46:08.265295Z",
     "start_time": "2021-01-09T22:46:04.079571Z"
    },
    "code_folding": [
     0
    ],
    "hidden": true
   },
   "outputs": [],
   "source": [
    "# TF: modelo - secuencial ... agregar cada capa oculta \n",
    "\n",
    "model = keras.models.Sequential()\n",
    "model.add(keras.layers.Flatten(input_shape=[28,28]))\n",
    "model.add(keras.layers.Dense(300,activation='relu'))\n",
    "model.add(keras.layers.Dense(100,activation='relu'))\n",
    "model.add(keras.layers.Dense(10,activation='softmax'))\n",
    "\n",
    "# fin"
   ]
  },
  {
   "cell_type": "code",
   "execution_count": 6,
   "metadata": {
    "ExecuteTime": {
     "end_time": "2021-01-09T22:46:10.499564Z",
     "start_time": "2021-01-09T22:46:10.458524Z"
    },
    "code_folding": [
     0
    ],
    "hidden": true
   },
   "outputs": [],
   "source": [
    "# modelo -secuencial ... indicar todas las capas\n",
    "\n",
    "model = keras.models.Sequential([\n",
    "    keras.layers.Flatten(input_shape=[28,28]),\n",
    "    keras.layers.Dense(300,activation='relu'),\n",
    "    keras.layers.Dense(100,activation='relu'),\n",
    "    keras.layers.Dense(10,activation='softmax')\n",
    "])\n",
    "\n",
    "# fin"
   ]
  },
  {
   "cell_type": "code",
   "execution_count": 7,
   "metadata": {
    "ExecuteTime": {
     "end_time": "2021-01-09T22:46:18.499977Z",
     "start_time": "2021-01-09T22:46:18.488011Z"
    },
    "code_folding": [
     0
    ],
    "hidden": true
   },
   "outputs": [
    {
     "name": "stdout",
     "output_type": "stream",
     "text": [
      "Model: \"sequential_1\"\n",
      "_________________________________________________________________\n",
      "Layer (type)                 Output Shape              Param #   \n",
      "=================================================================\n",
      "flatten_1 (Flatten)          (None, 784)               0         \n",
      "_________________________________________________________________\n",
      "dense_3 (Dense)              (None, 300)               235500    \n",
      "_________________________________________________________________\n",
      "dense_4 (Dense)              (None, 100)               30100     \n",
      "_________________________________________________________________\n",
      "dense_5 (Dense)              (None, 10)                1010      \n",
      "=================================================================\n",
      "Total params: 266,610\n",
      "Trainable params: 266,610\n",
      "Non-trainable params: 0\n",
      "_________________________________________________________________\n"
     ]
    }
   ],
   "source": [
    "# ver arquitectura del modelo creado\n",
    "\n",
    "model.summary()\n",
    "\n",
    "# fin"
   ]
  },
  {
   "cell_type": "code",
   "execution_count": 8,
   "metadata": {
    "ExecuteTime": {
     "end_time": "2021-01-09T22:46:21.273416Z",
     "start_time": "2021-01-09T22:46:21.242509Z"
    },
    "hidden": true
   },
   "outputs": [
    {
     "data": {
      "text/plain": [
       "[array([[-0.05929216,  0.02640952, -0.01170789, ...,  0.05882587,\n",
       "         -0.0017116 , -0.06908988],\n",
       "        [-0.03046038, -0.06518485,  0.05337094, ...,  0.01062971,\n",
       "          0.04944989,  0.05917312],\n",
       "        [-0.05646289, -0.05557811, -0.0584863 , ...,  0.02792   ,\n",
       "         -0.06381546, -0.01098481],\n",
       "        ...,\n",
       "        [ 0.00584826,  0.02465188, -0.01599296, ..., -0.05408397,\n",
       "          0.0667949 ,  0.07177038],\n",
       "        [-0.05289301,  0.02566639,  0.03827944, ...,  0.06373231,\n",
       "         -0.01386013,  0.04934049],\n",
       "        [-0.03816354, -0.047623  ,  0.07209291, ..., -0.01114916,\n",
       "          0.02761832, -0.0740075 ]], dtype=float32),\n",
       " array([0., 0., 0., 0., 0., 0., 0., 0., 0., 0., 0., 0., 0., 0., 0., 0., 0.,\n",
       "        0., 0., 0., 0., 0., 0., 0., 0., 0., 0., 0., 0., 0., 0., 0., 0., 0.,\n",
       "        0., 0., 0., 0., 0., 0., 0., 0., 0., 0., 0., 0., 0., 0., 0., 0., 0.,\n",
       "        0., 0., 0., 0., 0., 0., 0., 0., 0., 0., 0., 0., 0., 0., 0., 0., 0.,\n",
       "        0., 0., 0., 0., 0., 0., 0., 0., 0., 0., 0., 0., 0., 0., 0., 0., 0.,\n",
       "        0., 0., 0., 0., 0., 0., 0., 0., 0., 0., 0., 0., 0., 0., 0., 0., 0.,\n",
       "        0., 0., 0., 0., 0., 0., 0., 0., 0., 0., 0., 0., 0., 0., 0., 0., 0.,\n",
       "        0., 0., 0., 0., 0., 0., 0., 0., 0., 0., 0., 0., 0., 0., 0., 0., 0.,\n",
       "        0., 0., 0., 0., 0., 0., 0., 0., 0., 0., 0., 0., 0., 0., 0., 0., 0.,\n",
       "        0., 0., 0., 0., 0., 0., 0., 0., 0., 0., 0., 0., 0., 0., 0., 0., 0.,\n",
       "        0., 0., 0., 0., 0., 0., 0., 0., 0., 0., 0., 0., 0., 0., 0., 0., 0.,\n",
       "        0., 0., 0., 0., 0., 0., 0., 0., 0., 0., 0., 0., 0., 0., 0., 0., 0.,\n",
       "        0., 0., 0., 0., 0., 0., 0., 0., 0., 0., 0., 0., 0., 0., 0., 0., 0.,\n",
       "        0., 0., 0., 0., 0., 0., 0., 0., 0., 0., 0., 0., 0., 0., 0., 0., 0.,\n",
       "        0., 0., 0., 0., 0., 0., 0., 0., 0., 0., 0., 0., 0., 0., 0., 0., 0.,\n",
       "        0., 0., 0., 0., 0., 0., 0., 0., 0., 0., 0., 0., 0., 0., 0., 0., 0.,\n",
       "        0., 0., 0., 0., 0., 0., 0., 0., 0., 0., 0., 0., 0., 0., 0., 0., 0.,\n",
       "        0., 0., 0., 0., 0., 0., 0., 0., 0., 0., 0.], dtype=float32),\n",
       " array([[-0.06216736,  0.03936402,  0.08528555, ..., -0.04919389,\n",
       "         -0.03633036,  0.11141401],\n",
       "        [ 0.01956696, -0.08208793,  0.02524056, ..., -0.00755172,\n",
       "          0.01507168, -0.0055928 ],\n",
       "        [ 0.12018102, -0.06122851, -0.08199455, ...,  0.03016055,\n",
       "         -0.04345786,  0.06779984],\n",
       "        ...,\n",
       "        [-0.08515781, -0.05210982,  0.04321801, ..., -0.0950376 ,\n",
       "          0.00174667, -0.07376923],\n",
       "        [-0.05796699,  0.06637473, -0.09807194, ...,  0.01914602,\n",
       "         -0.00080257,  0.02280968],\n",
       "        [ 0.09905424,  0.11109316,  0.10112555, ...,  0.03481705,\n",
       "          0.10683752,  0.01511724]], dtype=float32),\n",
       " array([0., 0., 0., 0., 0., 0., 0., 0., 0., 0., 0., 0., 0., 0., 0., 0., 0.,\n",
       "        0., 0., 0., 0., 0., 0., 0., 0., 0., 0., 0., 0., 0., 0., 0., 0., 0.,\n",
       "        0., 0., 0., 0., 0., 0., 0., 0., 0., 0., 0., 0., 0., 0., 0., 0., 0.,\n",
       "        0., 0., 0., 0., 0., 0., 0., 0., 0., 0., 0., 0., 0., 0., 0., 0., 0.,\n",
       "        0., 0., 0., 0., 0., 0., 0., 0., 0., 0., 0., 0., 0., 0., 0., 0., 0.,\n",
       "        0., 0., 0., 0., 0., 0., 0., 0., 0., 0., 0., 0., 0., 0., 0.],\n",
       "       dtype=float32),\n",
       " array([[-0.01196291,  0.07911822, -0.07636227,  0.19673797,  0.15471616,\n",
       "         -0.0524849 ,  0.01202415, -0.02958472, -0.11353645,  0.0943681 ],\n",
       "        [ 0.15170649, -0.02887131, -0.1614492 , -0.19619335,  0.15828082,\n",
       "          0.14063638, -0.11236567,  0.1267491 , -0.1565479 ,  0.18822318],\n",
       "        [ 0.16833308, -0.0129143 , -0.01174881, -0.04264846, -0.07884966,\n",
       "         -0.03639169,  0.17237517, -0.20528248,  0.15678048,  0.15052763],\n",
       "        [-0.08771142,  0.13233784, -0.19248295,  0.07565621, -0.10918564,\n",
       "         -0.00698227,  0.10465136, -0.15769608,  0.04629973,  0.20696917],\n",
       "        [ 0.16257888,  0.12098834,  0.00849521, -0.10484768,  0.187884  ,\n",
       "         -0.13223623,  0.11516294, -0.06348906, -0.11663998, -0.17630887],\n",
       "        [ 0.19914296,  0.0372273 ,  0.20435458, -0.0881227 , -0.23126374,\n",
       "         -0.16494022, -0.10004953,  0.05498147, -0.20122305, -0.22058655],\n",
       "        [ 0.04763857, -0.03909078,  0.22936085,  0.05977458, -0.16376811,\n",
       "          0.02753147, -0.0042924 , -0.1822069 ,  0.08537728,  0.04056966],\n",
       "        [ 0.22126773, -0.00949322,  0.06431127, -0.17022277, -0.09111124,\n",
       "          0.1511462 ,  0.07963216, -0.21079065,  0.19030303,  0.110315  ],\n",
       "        [-0.18052344,  0.03664488, -0.01811928,  0.13090491, -0.20758851,\n",
       "         -0.10597309,  0.11278617,  0.079519  , -0.07196584, -0.01715358],\n",
       "        [-0.02362072,  0.16727349,  0.165719  , -0.20603102,  0.11760369,\n",
       "         -0.16756949,  0.18141097, -0.09856379, -0.16044714, -0.16407625],\n",
       "        [-0.10762425,  0.21009284,  0.14435586, -0.08618478, -0.17927793,\n",
       "         -0.22989368, -0.08824793,  0.17862195, -0.00298586, -0.11611228],\n",
       "        [ 0.16672012,  0.10493067, -0.04379652,  0.03667545, -0.01312745,\n",
       "          0.18996331, -0.13342856, -0.13688405,  0.08554426,  0.17557743],\n",
       "        [ 0.08621135,  0.18777114,  0.21822011, -0.14222774,  0.05263123,\n",
       "         -0.22231744, -0.151348  ,  0.02310899, -0.20645353, -0.2329144 ],\n",
       "        [ 0.13593382, -0.0784253 ,  0.07628402,  0.09403342,  0.17793319,\n",
       "         -0.14114761,  0.17197126,  0.10193244,  0.1263743 , -0.00930689],\n",
       "        [-0.06691878, -0.12016374,  0.1376518 ,  0.20379123,  0.14168641,\n",
       "         -0.16480675, -0.03764917, -0.0708385 , -0.08257526, -0.11567845],\n",
       "        [ 0.01304983,  0.06366268, -0.08514942, -0.18619877, -0.17459708,\n",
       "          0.22135448,  0.0388135 , -0.23264757,  0.16669199,  0.22794312],\n",
       "        [ 0.03083301, -0.11748173, -0.00086965, -0.20582728, -0.20363829,\n",
       "          0.19064891,  0.13718659,  0.06387478,  0.01122065,  0.00798455],\n",
       "        [ 0.08276665,  0.22968253, -0.11958314,  0.03133142,  0.00051139,\n",
       "         -0.1864773 ,  0.11405507, -0.17507216,  0.04425612,  0.11318788],\n",
       "        [ 0.02973652,  0.18033555, -0.20916367,  0.04823917,  0.04445079,\n",
       "         -0.1799792 ,  0.11342549, -0.00645773,  0.00851665, -0.06153081],\n",
       "        [-0.06887412, -0.02976596, -0.18496892, -0.18084222, -0.09443827,\n",
       "          0.11150783,  0.22519195, -0.13463625,  0.16070613, -0.03933463],\n",
       "        [-0.00187895, -0.08243518, -0.12723264, -0.15592375,  0.11696494,\n",
       "         -0.01499587, -0.0459819 ,  0.23067328,  0.14894897,  0.10655147],\n",
       "        [ 0.23196751,  0.14439875,  0.1698981 , -0.21782286, -0.03967813,\n",
       "          0.05140445, -0.15420401,  0.1290307 ,  0.14784646, -0.07065213],\n",
       "        [ 0.15576029, -0.10024886, -0.16641386, -0.08376883,  0.13686925,\n",
       "          0.21766555, -0.11806623,  0.2160765 ,  0.1234338 ,  0.01380149],\n",
       "        [ 0.0873329 ,  0.0749228 , -0.13936979, -0.22066897, -0.16049379,\n",
       "          0.18859401,  0.00699796,  0.19984251, -0.06303403, -0.0285434 ],\n",
       "        [-0.08183029,  0.05038974,  0.16813093, -0.21820919,  0.2110982 ,\n",
       "          0.05837435,  0.23167261,  0.22135592, -0.00244346, -0.03666976],\n",
       "        [-0.02153541, -0.0507485 ,  0.2327528 ,  0.06354803,  0.16084939,\n",
       "         -0.04223457, -0.20392638, -0.21768154, -0.12184246,  0.16736013],\n",
       "        [-0.07088983, -0.04040796,  0.15737751, -0.1527729 , -0.23176166,\n",
       "          0.17480227, -0.08418755,  0.1170499 , -0.22566843,  0.05414391],\n",
       "        [-0.18026629,  0.13097918, -0.14964694, -0.04400088,  0.16806161,\n",
       "          0.09739691,  0.01451044,  0.2028155 , -0.11118297, -0.04551657],\n",
       "        [ 0.0978151 , -0.11118025,  0.00438528, -0.17248471, -0.20450175,\n",
       "          0.1044451 , -0.05889258,  0.16733256,  0.1042172 , -0.13010788],\n",
       "        [-0.22160822, -0.02456415, -0.15983836, -0.20186797, -0.11268669,\n",
       "          0.12916917, -0.17056426, -0.21669033, -0.02958104,  0.10156298],\n",
       "        [ 0.00872111, -0.09625514, -0.17737626, -0.21709843,  0.03131944,\n",
       "          0.21485692,  0.02733597, -0.2031681 ,  0.04913437, -0.18276405],\n",
       "        [ 0.12262002, -0.11372806, -0.21198833,  0.07046953, -0.12232879,\n",
       "          0.22145396, -0.05780186, -0.19660518, -0.10009223, -0.01293322],\n",
       "        [ 0.01528582, -0.18063492, -0.185077  , -0.01611237,  0.04400924,\n",
       "          0.01647535, -0.19403972, -0.14164202, -0.12400311, -0.06737198],\n",
       "        [-0.1541706 , -0.00067793, -0.00700186, -0.01304075, -0.17333637,\n",
       "         -0.20474447, -0.13522193,  0.12953907, -0.12798947,  0.11819014],\n",
       "        [ 0.12490934,  0.04112193,  0.16965687, -0.04036425,  0.20629328,\n",
       "         -0.20212555, -0.07009591,  0.10453665,  0.04261032, -0.1498752 ],\n",
       "        [ 0.00743234, -0.13903514, -0.03296648,  0.18741539, -0.08116372,\n",
       "         -0.03187087,  0.18984327,  0.04778501,  0.14020792,  0.23317266],\n",
       "        [-0.16798061, -0.2149663 ,  0.05921358,  0.07601225,  0.13687524,\n",
       "         -0.19597329, -0.1973986 ,  0.19970351, -0.18400438,  0.07935938],\n",
       "        [ 0.04080927, -0.09046142,  0.09659541, -0.03190434, -0.05445127,\n",
       "          0.09498519, -0.13183898,  0.16251576, -0.05555774, -0.01738249],\n",
       "        [-0.00431852,  0.01264724,  0.14332736,  0.07558492,  0.19319418,\n",
       "         -0.0629511 ,  0.18438303, -0.14601299,  0.03755391, -0.05760475],\n",
       "        [-0.0218735 , -0.1440156 ,  0.17068216, -0.17729501,  0.17291796,\n",
       "         -0.02278192,  0.13409391,  0.19318303,  0.0312582 ,  0.01846835],\n",
       "        [-0.1533024 ,  0.07613826,  0.13218683,  0.1292752 , -0.1432204 ,\n",
       "          0.0304195 , -0.01724389,  0.08228806, -0.09682594, -0.04998174],\n",
       "        [ 0.15757686,  0.08529392,  0.2270399 ,  0.03874317, -0.18372513,\n",
       "          0.03257164,  0.08384183, -0.1154707 , -0.09801427,  0.08613333],\n",
       "        [-0.1500399 ,  0.12229627, -0.08229707,  0.10086721, -0.20383228,\n",
       "         -0.10856255,  0.08870932, -0.14304918,  0.03498843,  0.01014815],\n",
       "        [ 0.07329533,  0.10669377,  0.11122948,  0.22200957,  0.20644897,\n",
       "         -0.12211898,  0.04440325,  0.05739105,  0.06608698, -0.11592212],\n",
       "        [ 0.1795828 ,  0.01338425, -0.19162086, -0.08782825, -0.02483666,\n",
       "          0.03727409, -0.1417206 ,  0.04589352,  0.19197223,  0.11128259],\n",
       "        [-0.01967616,  0.01354612, -0.18797043,  0.1601817 , -0.0515565 ,\n",
       "         -0.0165977 ,  0.17165059,  0.06370685,  0.00082316,  0.11480558],\n",
       "        [ 0.04089379,  0.1163516 , -0.21518268,  0.19031611,  0.18341476,\n",
       "          0.23310885, -0.09897663, -0.20813811,  0.01987579, -0.03007361],\n",
       "        [ 0.16390905, -0.12907997,  0.08679217,  0.15243146,  0.09566435,\n",
       "          0.00028732,  0.14750579,  0.15705496, -0.03277282,  0.14109722],\n",
       "        [ 0.04703158,  0.07789153, -0.1348179 , -0.01684821,  0.09441662,\n",
       "         -0.03033203,  0.02858615,  0.07566237, -0.205561  ,  0.06063309],\n",
       "        [ 0.18820262,  0.05217871,  0.20064569, -0.17020479,  0.07739684,\n",
       "          0.12235066, -0.21105844, -0.03867707,  0.1776981 , -0.05974792],\n",
       "        [-0.02944645,  0.07816654,  0.10268593,  0.00961527,  0.11639887,\n",
       "          0.18878534, -0.18433091, -0.16376299,  0.11373854,  0.07769865],\n",
       "        [ 0.03106308,  0.10550061,  0.21891406,  0.06210801,  0.16472417,\n",
       "         -0.15784225,  0.18920347, -0.15508619, -0.05662262,  0.09866208],\n",
       "        [ 0.13418078,  0.15809214, -0.14480251, -0.16503894,  0.0008515 ,\n",
       "         -0.23146315, -0.23346806,  0.22716984,  0.15244612, -0.11075528],\n",
       "        [ 0.19733539, -0.09061289,  0.08576348, -0.00826986,  0.06730971,\n",
       "          0.08466953,  0.09129244,  0.13909325,  0.20001924,  0.18187952],\n",
       "        [ 0.00375657,  0.10630283, -0.0640779 ,  0.10521969,  0.06487989,\n",
       "         -0.07354489, -0.14881817, -0.09314142,  0.22469962,  0.15751755],\n",
       "        [ 0.22582084, -0.00685602,  0.04565382, -0.12597784,  0.2256149 ,\n",
       "         -0.20848   , -0.0957824 ,  0.16285971, -0.1153178 ,  0.11795151],\n",
       "        [ 0.02462506,  0.06314933, -0.1438084 , -0.22693421, -0.13534492,\n",
       "          0.21897739,  0.07454106, -0.02628151, -0.08812304, -0.15003528],\n",
       "        [-0.12566239, -0.01636055,  0.07563055,  0.0472489 ,  0.04565254,\n",
       "          0.06980947, -0.19454503, -0.23054738, -0.05348179,  0.02326185],\n",
       "        [ 0.15434238,  0.06062502, -0.11424563, -0.10483488,  0.09919795,\n",
       "         -0.00539419,  0.08940679, -0.1326123 , -0.06048337,  0.02468938],\n",
       "        [ 0.08081141, -0.20142083, -0.0304459 ,  0.04840252,  0.02037731,\n",
       "          0.06091937, -0.23149092,  0.18326086, -0.03645171, -0.06025134],\n",
       "        [-0.10763605, -0.12812585, -0.10654707,  0.10912028, -0.22810543,\n",
       "          0.05206239,  0.21336237,  0.08868486,  0.07463259,  0.05861846],\n",
       "        [-0.20463178,  0.23268905, -0.08502696, -0.06873085, -0.22047453,\n",
       "          0.14892891,  0.21319264, -0.02145796,  0.21420094, -0.111804  ],\n",
       "        [ 0.04678813,  0.02309614, -0.21823943, -0.11472143, -0.08206433,\n",
       "         -0.14766675, -0.00186749, -0.13768706, -0.15764919,  0.12734628],\n",
       "        [-0.11561459,  0.07321653,  0.09123409, -0.18433747, -0.17292422,\n",
       "          0.2100656 ,  0.22839844, -0.15014234, -0.21180736,  0.19023243],\n",
       "        [-0.07857515, -0.07604872, -0.09931272, -0.0916689 ,  0.18276963,\n",
       "          0.20528308,  0.09065798,  0.06023663, -0.04841918, -0.19834237],\n",
       "        [-0.16436887, -0.01422584,  0.15869173,  0.09996283,  0.20418218,\n",
       "         -0.073183  , -0.17090973,  0.13989419, -0.18326825,  0.1286051 ],\n",
       "        [-0.19229218,  0.15934274, -0.07566874, -0.09583123,  0.086395  ,\n",
       "         -0.21629922,  0.0915111 , -0.11504306, -0.00238723,  0.16274038],\n",
       "        [-0.0795228 , -0.06056812,  0.03914413, -0.14724368,  0.12538627,\n",
       "         -0.15204981,  0.13030449,  0.03536579, -0.15012503,  0.02666077],\n",
       "        [ 0.07517537, -0.22235921,  0.20466924, -0.11144412,  0.17478558,\n",
       "          0.18675411, -0.1281724 ,  0.08713049,  0.1460788 , -0.08032091],\n",
       "        [ 0.18864614, -0.10675147,  0.09217182, -0.07735063,  0.01610641,\n",
       "          0.21624207, -0.14275289,  0.13817754, -0.04184362, -0.06102282],\n",
       "        [ 0.09444684,  0.10097459, -0.2109645 , -0.10979225,  0.11231822,\n",
       "         -0.00592296,  0.10654539,  0.2266339 , -0.08971193,  0.0375357 ],\n",
       "        [ 0.04022443,  0.20651078,  0.05011338,  0.11173251,  0.22594446,\n",
       "          0.2318041 ,  0.18206099, -0.07810724, -0.00750083,  0.06987935],\n",
       "        [ 0.05039063, -0.0993233 ,  0.15590182,  0.21547228,  0.11087388,\n",
       "          0.04240194,  0.1028735 ,  0.02138963,  0.1332427 ,  0.02821827],\n",
       "        [-0.09187537, -0.14065799,  0.18181348,  0.09114888, -0.14585963,\n",
       "          0.22037336,  0.1757732 , -0.03829135,  0.15720117, -0.10376701],\n",
       "        [-0.03864738, -0.09948696,  0.08117095,  0.15321892,  0.01247451,\n",
       "         -0.21400899, -0.15872449, -0.14087482,  0.20436889,  0.04862392],\n",
       "        [-0.09393001, -0.206335  , -0.22616105,  0.03434229,  0.01946446,\n",
       "         -0.10757096,  0.18563232, -0.1658845 ,  0.13310698,  0.09863764],\n",
       "        [ 0.06547803,  0.23156789, -0.05233589,  0.12704772,  0.05165786,\n",
       "          0.1247339 , -0.15369646, -0.16540901,  0.12151754,  0.21158674],\n",
       "        [-0.07607645,  0.11851338,  0.10553586, -0.1586536 , -0.11209862,\n",
       "         -0.01598163,  0.00170422,  0.11017618, -0.16239068,  0.16698283],\n",
       "        [-0.00786366,  0.15188938,  0.12981838,  0.09602836, -0.10863438,\n",
       "         -0.03460099, -0.21414252,  0.02324259,  0.14144668, -0.08494735],\n",
       "        [ 0.03733975,  0.17703152, -0.16630957,  0.22902647,  0.15889221,\n",
       "          0.18962833, -0.1985951 ,  0.2068587 , -0.16349182,  0.00540572],\n",
       "        [-0.18345952, -0.1592494 , -0.1209144 , -0.1743885 ,  0.22447291,\n",
       "          0.08489466,  0.1770626 , -0.02645986,  0.20655131,  0.1390669 ],\n",
       "        [ 0.14772335,  0.09643289, -0.14509535,  0.15268287, -0.02184628,\n",
       "          0.18219826,  0.2144661 ,  0.18768272, -0.20787968, -0.20979398],\n",
       "        [-0.08426234, -0.01246555,  0.14524439,  0.02865288,  0.04944208,\n",
       "          0.00626402, -0.1668179 ,  0.22406438,  0.12481841,  0.23321664],\n",
       "        [ 0.22396049, -0.16023922, -0.06476347,  0.06778446, -0.07981731,\n",
       "          0.18021435,  0.00863586,  0.13068306, -0.1438853 , -0.15813236],\n",
       "        [ 0.13420805,  0.20501748,  0.00190161, -0.09263839, -0.09429444,\n",
       "         -0.0059175 ,  0.09604877,  0.09148949,  0.15940565,  0.15185788],\n",
       "        [-0.02138028,  0.09671307, -0.07507533, -0.17131488,  0.08712119,\n",
       "          0.12333503,  0.15901175,  0.1632188 ,  0.00388414,  0.07276472],\n",
       "        [ 0.12781426, -0.17526901, -0.02482413, -0.16560718,  0.01986197,\n",
       "          0.09299386, -0.10978957,  0.11227596,  0.13739821, -0.2286544 ],\n",
       "        [ 0.19306499,  0.04801476,  0.00485964, -0.11950491, -0.14450988,\n",
       "         -0.01070464, -0.14903343, -0.20877722,  0.09137651,  0.11171469],\n",
       "        [-0.20012394,  0.1894556 ,  0.07317233, -0.08512576,  0.02154681,\n",
       "          0.20458227, -0.11617419,  0.19824603,  0.22545663, -0.21008883],\n",
       "        [-0.18706357,  0.08219168, -0.17525737, -0.1572239 , -0.15113579,\n",
       "          0.0456582 ,  0.08761671,  0.10513246,  0.01786521, -0.19732231],\n",
       "        [ 0.08958638,  0.08153936, -0.15399274, -0.01884688, -0.04476635,\n",
       "          0.1225152 ,  0.2292256 ,  0.11148605,  0.04273722,  0.09084231],\n",
       "        [-0.02692525, -0.03174798, -0.18024975,  0.18311775, -0.05459026,\n",
       "          0.10860789, -0.0505908 ,  0.22295463,  0.15055859,  0.00641067],\n",
       "        [ 0.21234274, -0.05428751,  0.08769596, -0.15661038,  0.07577375,\n",
       "          0.16031039,  0.19631669, -0.15595545, -0.16193041,  0.23242211],\n",
       "        [-0.03844136, -0.07027286,  0.07372347,  0.12488079, -0.18421201,\n",
       "          0.15260765, -0.03319411, -0.22785214, -0.14498135, -0.16479304],\n",
       "        [ 0.00178184, -0.06456663,  0.13188297,  0.23202336, -0.08304718,\n",
       "          0.22848502, -0.20537613,  0.05719942, -0.0554153 ,  0.04169941],\n",
       "        [ 0.02302223,  0.22329229, -0.19930317, -0.23132327,  0.16406167,\n",
       "         -0.08713779, -0.15241176,  0.03908622, -0.14177388,  0.17618966],\n",
       "        [-0.20688865,  0.06516978, -0.03742148,  0.17410997,  0.00483508,\n",
       "          0.15309903,  0.08982855,  0.0012219 ,  0.07238764, -0.03993744],\n",
       "        [-0.1119804 ,  0.18384758, -0.13870353, -0.21904443, -0.07373582,\n",
       "          0.02314758, -0.22232887, -0.14158833, -0.08722231, -0.1289313 ],\n",
       "        [ 0.16331172, -0.1944035 , -0.0575759 ,  0.14508182, -0.03408721,\n",
       "         -0.01808387,  0.01682967, -0.00913706, -0.17652248, -0.11774573],\n",
       "        [ 0.11475363, -0.00239713, -0.14879216,  0.01796237, -0.21645652,\n",
       "         -0.09986477,  0.12220842,  0.19392124, -0.02731921,  0.18516603]],\n",
       "       dtype=float32),\n",
       " array([0., 0., 0., 0., 0., 0., 0., 0., 0., 0.], dtype=float32)]"
      ]
     },
     "execution_count": 8,
     "metadata": {},
     "output_type": "execute_result"
    }
   ],
   "source": [
    "model.get_weights()"
   ]
  },
  {
   "cell_type": "code",
   "execution_count": 9,
   "metadata": {
    "ExecuteTime": {
     "end_time": "2021-01-09T22:46:23.554471Z",
     "start_time": "2021-01-09T22:46:23.510886Z"
    },
    "code_folding": [
     0
    ],
    "hidden": true
   },
   "outputs": [],
   "source": [
    "# Compile the model\n",
    "\n",
    "model.compile(loss = 'sparse_categorical_crossentropy',\n",
    "             optimizer = keras.optimizers.SGD(learning_rate=0.1, momentum=0.9),\n",
    "             metrics = ['accuracy'])\n",
    "\n",
    "# fin"
   ]
  },
  {
   "cell_type": "code",
   "execution_count": 10,
   "metadata": {
    "ExecuteTime": {
     "end_time": "2021-01-09T22:47:49.061087Z",
     "start_time": "2021-01-09T22:46:25.241081Z"
    },
    "code_folding": [
     0
    ],
    "hidden": true,
    "scrolled": true
   },
   "outputs": [
    {
     "name": "stdout",
     "output_type": "stream",
     "text": [
      "Train on 5000 samples, validate on 55000 samples\n",
      "Epoch 1/30\n",
      "5000/5000 [==============================] - 4s 729us/sample - loss: 1.5065 - accuracy: 0.5558 - val_loss: 1.0424 - val_accuracy: 0.6803\n",
      "Epoch 2/30\n",
      "5000/5000 [==============================] - 3s 562us/sample - loss: 0.8836 - accuracy: 0.7066 - val_loss: 0.8100 - val_accuracy: 0.7256\n",
      "Epoch 3/30\n",
      "5000/5000 [==============================] - 3s 542us/sample - loss: 0.7352 - accuracy: 0.7580 - val_loss: 0.7558 - val_accuracy: 0.7388\n",
      "Epoch 4/30\n",
      "5000/5000 [==============================] - 3s 549us/sample - loss: 0.6623 - accuracy: 0.7780 - val_loss: 0.6824 - val_accuracy: 0.7778\n",
      "Epoch 5/30\n",
      "5000/5000 [==============================] - 3s 560us/sample - loss: 0.6138 - accuracy: 0.7992 - val_loss: 0.6757 - val_accuracy: 0.7656\n",
      "Epoch 6/30\n",
      "5000/5000 [==============================] - 3s 548us/sample - loss: 0.5721 - accuracy: 0.8158 - val_loss: 0.6206 - val_accuracy: 0.7858\n",
      "Epoch 7/30\n",
      "5000/5000 [==============================] - 3s 547us/sample - loss: 0.5464 - accuracy: 0.8232 - val_loss: 0.5750 - val_accuracy: 0.8020\n",
      "Epoch 8/30\n",
      "5000/5000 [==============================] - 3s 550us/sample - loss: 0.5188 - accuracy: 0.8288 - val_loss: 0.5684 - val_accuracy: 0.8023\n",
      "Epoch 9/30\n",
      "5000/5000 [==============================] - 3s 543us/sample - loss: 0.5002 - accuracy: 0.8384 - val_loss: 0.5989 - val_accuracy: 0.7936\n",
      "Epoch 10/30\n",
      "5000/5000 [==============================] - 3s 543us/sample - loss: 0.4849 - accuracy: 0.8408 - val_loss: 0.5443 - val_accuracy: 0.8119\n",
      "Epoch 11/30\n",
      "5000/5000 [==============================] - 3s 549us/sample - loss: 0.4735 - accuracy: 0.8446 - val_loss: 0.5659 - val_accuracy: 0.8038\n",
      "Epoch 12/30\n",
      "5000/5000 [==============================] - 3s 550us/sample - loss: 0.4613 - accuracy: 0.8480 - val_loss: 0.5775 - val_accuracy: 0.7927\n",
      "Epoch 13/30\n",
      "5000/5000 [==============================] - 3s 546us/sample - loss: 0.4467 - accuracy: 0.8502 - val_loss: 0.5284 - val_accuracy: 0.8166\n",
      "Epoch 14/30\n",
      "5000/5000 [==============================] - 3s 546us/sample - loss: 0.4369 - accuracy: 0.8552 - val_loss: 0.5447 - val_accuracy: 0.8024\n",
      "Epoch 15/30\n",
      "5000/5000 [==============================] - 3s 558us/sample - loss: 0.4288 - accuracy: 0.8564 - val_loss: 0.5685 - val_accuracy: 0.7996\n",
      "Epoch 16/30\n",
      "5000/5000 [==============================] - 3s 554us/sample - loss: 0.4163 - accuracy: 0.8620 - val_loss: 0.5227 - val_accuracy: 0.8184\n",
      "Epoch 17/30\n",
      "5000/5000 [==============================] - 3s 552us/sample - loss: 0.4129 - accuracy: 0.8610 - val_loss: 0.5341 - val_accuracy: 0.8138\n",
      "Epoch 18/30\n",
      "5000/5000 [==============================] - 3s 548us/sample - loss: 0.4044 - accuracy: 0.8626 - val_loss: 0.6066 - val_accuracy: 0.7768\n",
      "Epoch 19/30\n",
      "5000/5000 [==============================] - 3s 545us/sample - loss: 0.3996 - accuracy: 0.8674 - val_loss: 0.5557 - val_accuracy: 0.8103\n",
      "Epoch 20/30\n",
      "5000/5000 [==============================] - 3s 547us/sample - loss: 0.3894 - accuracy: 0.8706 - val_loss: 0.5390 - val_accuracy: 0.8049\n",
      "Epoch 21/30\n",
      "5000/5000 [==============================] - 3s 551us/sample - loss: 0.3783 - accuracy: 0.8722 - val_loss: 0.4775 - val_accuracy: 0.8354\n",
      "Epoch 22/30\n",
      "5000/5000 [==============================] - 3s 553us/sample - loss: 0.3776 - accuracy: 0.8772 - val_loss: 0.4825 - val_accuracy: 0.8327\n",
      "Epoch 23/30\n",
      "5000/5000 [==============================] - 3s 564us/sample - loss: 0.3701 - accuracy: 0.8764 - val_loss: 0.4938 - val_accuracy: 0.8278\n",
      "Epoch 24/30\n",
      "5000/5000 [==============================] - 3s 556us/sample - loss: 0.3632 - accuracy: 0.8778 - val_loss: 0.4965 - val_accuracy: 0.8286\n",
      "Epoch 25/30\n",
      "5000/5000 [==============================] - 3s 569us/sample - loss: 0.3602 - accuracy: 0.8780 - val_loss: 0.4738 - val_accuracy: 0.8370\n",
      "Epoch 26/30\n",
      "5000/5000 [==============================] - 3s 555us/sample - loss: 0.3479 - accuracy: 0.8844 - val_loss: 0.5023 - val_accuracy: 0.8287\n",
      "Epoch 27/30\n",
      "5000/5000 [==============================] - 3s 540us/sample - loss: 0.3468 - accuracy: 0.8866 - val_loss: 0.5019 - val_accuracy: 0.8313\n",
      "Epoch 28/30\n",
      "5000/5000 [==============================] - 3s 561us/sample - loss: 0.3436 - accuracy: 0.8842 - val_loss: 0.4922 - val_accuracy: 0.8325\n",
      "Epoch 29/30\n",
      "5000/5000 [==============================] - 3s 559us/sample - loss: 0.3395 - accuracy: 0.8856 - val_loss: 0.4656 - val_accuracy: 0.8408\n",
      "Epoch 30/30\n",
      "5000/5000 [==============================] - 3s 563us/sample - loss: 0.3346 - accuracy: 0.8884 - val_loss: 0.4629 - val_accuracy: 0.8384\n"
     ]
    }
   ],
   "source": [
    "# entrenar modelo\n",
    "\n",
    "history = model.fit(X_train, y_train,\n",
    "                    epochs=30,\n",
    "                    batch_size = 64,\n",
    "                    shuffle=True, # mezclar las observaciones aleatoriamente\n",
    "                    validation_data=(X_valid,y_valid))\n",
    "\n",
    "# fin"
   ]
  },
  {
   "cell_type": "code",
   "execution_count": 11,
   "metadata": {
    "ExecuteTime": {
     "end_time": "2021-01-09T22:48:15.677275Z",
     "start_time": "2021-01-09T22:48:15.420399Z"
    },
    "code_folding": [
     0
    ],
    "hidden": true
   },
   "outputs": [
    {
     "data": {
      "image/png": "[encoded data removed]",
      "text/plain": [
       "<Figure size 864x576 with 1 Axes>"
      ]
     },
     "metadata": {
      "needs_background": "light"
     },
     "output_type": "display_data"
    }
   ],
   "source": [
    "# graficar historial de entrenamiento\n",
    "\n",
    "pd.DataFrame(history.history).plot(figsize=(10, 4))\n",
    "plt.grid(True)\n",
    "plt.gca().set_ylim(0, 1) # set the vertical range to [0-1]\n",
    "plt.show()\n",
    "\n",
    "# fin"
   ]
  },
  {
   "cell_type": "code",
   "execution_count": 12,
   "metadata": {
    "ExecuteTime": {
     "end_time": "2021-01-09T22:48:26.635572Z",
     "start_time": "2021-01-09T22:48:25.830803Z"
    },
    "code_folding": [
     0
    ],
    "hidden": true
   },
   "outputs": [
    {
     "name": "stdout",
     "output_type": "stream",
     "text": [
      "10000/10000 [==============================] - 1s 76us/sample - loss: 86.6041 - accuracy: 0.8029\n"
     ]
    },
    {
     "data": {
      "text/plain": [
       "[86.60412544555665, 0.8029]"
      ]
     },
     "execution_count": 12,
     "metadata": {},
     "output_type": "execute_result"
    }
   ],
   "source": [
    "# evaluar en datos test\n",
    "\n",
    "model.evaluate(X_test, y_test)\n",
    "\n",
    "# fin"
   ]
  },
  {
   "cell_type": "code",
   "execution_count": 14,
   "metadata": {
    "ExecuteTime": {
     "end_time": "2021-01-09T22:48:45.382186Z",
     "start_time": "2021-01-09T22:48:45.315635Z"
    },
    "code_folding": [
     0
    ],
    "hidden": true
   },
   "outputs": [
    {
     "name": "stdout",
     "output_type": "stream",
     "text": [
      "[[0. 0. 0. 0. 0. 0. 0. 0. 0. 1.]\n",
      " [0. 0. 1. 0. 0. 0. 0. 0. 0. 0.]\n",
      " [0. 1. 0. 0. 0. 0. 0. 0. 0. 0.]]\n",
      "\n",
      "\n",
      "[9 2 1]\n"
     ]
    }
   ],
   "source": [
    "# predecir con algunos datos\n",
    "\n",
    "X_new = X_test[:3] # escoger datos \n",
    "y_proba = model.predict(X_new) # predecir\n",
    "print(y_proba.round(5)) # redondear probab. (softmax)\n",
    "\n",
    "y_pred = model.predict_classes(X_new)\n",
    "print('\\n')\n",
    "print(y_pred)\n",
    "# fin"
   ]
  },
  {
   "cell_type": "markdown",
   "metadata": {
    "heading_collapsed": true
   },
   "source": [
    "# ANN - modelo 2"
   ]
  },
  {
   "cell_type": "markdown",
   "metadata": {
    "hidden": true
   },
   "source": [
    "### Cargar datos"
   ]
  },
  {
   "cell_type": "code",
   "execution_count": 61,
   "metadata": {
    "ExecuteTime": {
     "end_time": "2021-01-10T00:54:11.975713Z",
     "start_time": "2021-01-10T00:54:11.504457Z"
    },
    "code_folding": [
     0
    ],
    "hidden": true,
    "scrolled": true
   },
   "outputs": [
    {
     "name": "stdout",
     "output_type": "stream",
     "text": [
      "\n",
      "Train shape (X-y): \n",
      "(60000, 28, 28)\n",
      "(60000,)\n",
      "\n",
      "Test shape (X-y): \n",
      "(10000, 28, 28)\n",
      "(10000,)\n",
      "\n",
      "X valid shape:  (55000, 28, 28)\n",
      "X train shape:  (5000, 28, 28)\n"
     ]
    }
   ],
   "source": [
    "# cargar datos\n",
    "\n",
    "datos=keras.datasets.fashion_mnist\n",
    "(X_train_full,y_train_full),(X_test,y_test)=datos.load_data()\n",
    "\n",
    "print('\\nTrain shape (X-y): ')\n",
    "print(X_train_full.shape)\n",
    "print(y_train_full.shape)\n",
    "\n",
    "print('\\nTest shape (X-y): ')\n",
    "print(X_test.shape)\n",
    "print(y_test.shape)\n",
    "\n",
    "# Normalizar datos a rango [0,1]\n",
    "X_test = X_test/255.0 ## normalizar a rango [0,1]\n",
    "X_train_full = X_train_full/255.0  ## normalizar a rango [0,1]\n",
    "\n",
    "# Dividir datos de entrenamiento en grupos de train/validation\n",
    "X_valid, X_train = X_train_full[50000:], X_train_full[:50000]\n",
    "y_valid, y_train = y_train_full[50000:], y_train_full[:50000]\n",
    "\n",
    "# adicional - etiquetas\n",
    "class_names = [\"T-shirt/top\", \"Trouser\", \"Pullover\", \"Dress\", \"Coat\",\n",
    " \"Sandal\", \"Shirt\", \"Sneaker\", \"Bag\", \"Ankle boot\"]\n",
    "\n",
    "print('\\nX valid shape: ',X_valid.shape)\n",
    "print('X train shape: ',X_train.shape)\n",
    "\n",
    "# fin"
   ]
  },
  {
   "cell_type": "markdown",
   "metadata": {
    "hidden": true
   },
   "source": [
    "### Definir modelo"
   ]
  },
  {
   "cell_type": "code",
   "execution_count": 85,
   "metadata": {
    "ExecuteTime": {
     "end_time": "2021-01-10T02:59:32.222169Z",
     "start_time": "2021-01-10T02:59:32.171094Z"
    },
    "code_folding": [
     0
    ],
    "hidden": true,
    "scrolled": true
   },
   "outputs": [
    {
     "name": "stdout",
     "output_type": "stream",
     "text": [
      "Ver modelo:\n",
      "Model: \"model_6\"\n",
      "__________________________________________________________________________________________________\n",
      "Layer (type)                    Output Shape         Param #     Connected to                     \n",
      "==================================================================================================\n",
      "input_12 (InputLayer)           [(None, 8)]          0                                            \n",
      "__________________________________________________________________________________________________\n",
      "flatten_6 (Flatten)             (None, 8)            0           input_12[0][0]                   \n",
      "__________________________________________________________________________________________________\n",
      "dense_33 (Dense)                (None, 100)          900         flatten_6[0][0]                  \n",
      "__________________________________________________________________________________________________\n",
      "dense_34 (Dense)                (None, 30)           3030        dense_33[0][0]                   \n",
      "__________________________________________________________________________________________________\n",
      "concatenate_7 (Concatenate)     (None, 38)           0           flatten_6[0][0]                  \n",
      "                                                                 dense_34[0][0]                   \n",
      "__________________________________________________________________________________________________\n",
      "dense_35 (Dense)                (None, 10)           390         concatenate_7[0][0]              \n",
      "==================================================================================================\n",
      "Total params: 4,320\n",
      "Trainable params: 4,320\n",
      "Non-trainable params: 0\n",
      "__________________________________________________________________________________________________\n"
     ]
    }
   ],
   "source": [
    "# modelo\n",
    "\n",
    "input0=keras.layers.Input(shape=X_train.shape[1:])\n",
    "input=keras.layers.Flatten(input_shape=X_train.shape[1:])(input0)\n",
    "hidden1=keras.layers.Dense(100,activation='relu')(input)\n",
    "hidden2=keras.layers.Dense(30,activation='relu')(hidden1)\n",
    "concat=keras.layers.Concatenate()([input,hidden2])\n",
    "output=keras.layers.Dense(10,activation='softmax')(concat)\n",
    "model = keras.models.Model(inputs=[input0],outputs=[output])\n",
    "\n",
    "print('Ver modelo:')\n",
    "model.summary() # ver modelo\n",
    "\n",
    "# fin"
   ]
  },
  {
   "cell_type": "code",
   "execution_count": 78,
   "metadata": {
    "ExecuteTime": {
     "end_time": "2021-01-10T01:04:05.556231Z",
     "start_time": "2021-01-10T01:04:05.545270Z"
    },
    "code_folding": [
     0
    ],
    "hidden": true,
    "scrolled": true
   },
   "outputs": [
    {
     "data": {
      "image/png": "[encoded data removed]",
      "text/plain": [
       "<IPython.core.display.Image object>"
      ]
     },
     "execution_count": 78,
     "metadata": {},
     "output_type": "execute_result"
    }
   ],
   "source": [
    "# estructura modelo\n",
    "### Imagen extraida de : Aurélien Géron (O'Reilly) : Hands-on Machine Learning with Scikit-Learn, Keras, and TensorFlow\n",
    "Image(filename = \"Captura1.png\")"
   ]
  },
  {
   "cell_type": "markdown",
   "metadata": {
    "hidden": true
   },
   "source": [
    "### Entrenar modelo y evaluar"
   ]
  },
  {
   "cell_type": "code",
   "execution_count": 63,
   "metadata": {
    "ExecuteTime": {
     "end_time": "2021-01-10T00:56:00.609402Z",
     "start_time": "2021-01-10T00:54:30.922579Z"
    },
    "code_folding": [
     0
    ],
    "hidden": true,
    "scrolled": true
   },
   "outputs": [
    {
     "name": "stdout",
     "output_type": "stream",
     "text": [
      "Train on 5000 samples, validate on 55000 samples\n",
      "Epoch 1/30\n",
      "5000/5000 [==============================] - 3s 642us/sample - loss: 1.4867 - accuracy: 0.5726 - val_loss: 1.1391 - val_accuracy: 0.6725\n",
      "Epoch 2/30\n",
      "5000/5000 [==============================] - 3s 599us/sample - loss: 0.9981 - accuracy: 0.6994 - val_loss: 0.9305 - val_accuracy: 0.7031\n",
      "Epoch 3/30\n",
      "5000/5000 [==============================] - 3s 588us/sample - loss: 0.8615 - accuracy: 0.7306 - val_loss: 0.8501 - val_accuracy: 0.7255\n",
      "Epoch 4/30\n",
      "5000/5000 [==============================] - 3s 610us/sample - loss: 0.7894 - accuracy: 0.7474 - val_loss: 0.7842 - val_accuracy: 0.7479\n",
      "Epoch 5/30\n",
      "5000/5000 [==============================] - 3s 588us/sample - loss: 0.7395 - accuracy: 0.7636 - val_loss: 0.7510 - val_accuracy: 0.7511\n",
      "Epoch 6/30\n",
      "5000/5000 [==============================] - 3s 599us/sample - loss: 0.7040 - accuracy: 0.7748 - val_loss: 0.7219 - val_accuracy: 0.7613\n",
      "Epoch 7/30\n",
      "5000/5000 [==============================] - 3s 591us/sample - loss: 0.6750 - accuracy: 0.7800 - val_loss: 0.6945 - val_accuracy: 0.7729\n",
      "Epoch 8/30\n",
      "5000/5000 [==============================] - 3s 566us/sample - loss: 0.6506 - accuracy: 0.7908 - val_loss: 0.6795 - val_accuracy: 0.7742\n",
      "Epoch 9/30\n",
      "5000/5000 [==============================] - 3s 572us/sample - loss: 0.6330 - accuracy: 0.7982 - val_loss: 0.6580 - val_accuracy: 0.7797\n",
      "Epoch 10/30\n",
      "5000/5000 [==============================] - 3s 574us/sample - loss: 0.6158 - accuracy: 0.8032 - val_loss: 0.6518 - val_accuracy: 0.7761\n",
      "Epoch 11/30\n",
      "5000/5000 [==============================] - 3s 565us/sample - loss: 0.6006 - accuracy: 0.8054 - val_loss: 0.6327 - val_accuracy: 0.7904\n",
      "Epoch 12/30\n",
      "5000/5000 [==============================] - 3s 574us/sample - loss: 0.5869 - accuracy: 0.8096 - val_loss: 0.6194 - val_accuracy: 0.7969\n",
      "Epoch 13/30\n",
      "5000/5000 [==============================] - 3s 568us/sample - loss: 0.5756 - accuracy: 0.8168 - val_loss: 0.6096 - val_accuracy: 0.7971\n",
      "Epoch 14/30\n",
      "5000/5000 [==============================] - 3s 583us/sample - loss: 0.5645 - accuracy: 0.8184 - val_loss: 0.5996 - val_accuracy: 0.7999\n",
      "Epoch 15/30\n",
      "5000/5000 [==============================] - 3s 609us/sample - loss: 0.5542 - accuracy: 0.8206 - val_loss: 0.5938 - val_accuracy: 0.7984\n",
      "Epoch 16/30\n",
      "5000/5000 [==============================] - 3s 636us/sample - loss: 0.5453 - accuracy: 0.8234 - val_loss: 0.5879 - val_accuracy: 0.8049\n",
      "Epoch 17/30\n",
      "5000/5000 [==============================] - 3s 597us/sample - loss: 0.5358 - accuracy: 0.8286 - val_loss: 0.5797 - val_accuracy: 0.8068\n",
      "Epoch 18/30\n",
      "5000/5000 [==============================] - 3s 589us/sample - loss: 0.5281 - accuracy: 0.8294 - val_loss: 0.5756 - val_accuracy: 0.8081\n",
      "Epoch 19/30\n",
      "5000/5000 [==============================] - 3s 597us/sample - loss: 0.5208 - accuracy: 0.8312 - val_loss: 0.5723 - val_accuracy: 0.8070\n",
      "Epoch 20/30\n",
      "5000/5000 [==============================] - 3s 589us/sample - loss: 0.5133 - accuracy: 0.8346 - val_loss: 0.5601 - val_accuracy: 0.8115\n",
      "Epoch 21/30\n",
      "5000/5000 [==============================] - 3s 586us/sample - loss: 0.5062 - accuracy: 0.8380 - val_loss: 0.5630 - val_accuracy: 0.8089\n",
      "Epoch 22/30\n",
      "5000/5000 [==============================] - 3s 592us/sample - loss: 0.4989 - accuracy: 0.8388 - val_loss: 0.5527 - val_accuracy: 0.8122\n",
      "Epoch 23/30\n",
      "5000/5000 [==============================] - 3s 584us/sample - loss: 0.4938 - accuracy: 0.8436 - val_loss: 0.5503 - val_accuracy: 0.8130\n",
      "Epoch 24/30\n",
      "5000/5000 [==============================] - 3s 599us/sample - loss: 0.4879 - accuracy: 0.8446 - val_loss: 0.5410 - val_accuracy: 0.8166\n",
      "Epoch 25/30\n",
      "5000/5000 [==============================] - 3s 583us/sample - loss: 0.4818 - accuracy: 0.8432 - val_loss: 0.5374 - val_accuracy: 0.8183\n",
      "Epoch 26/30\n",
      "5000/5000 [==============================] - 3s 589us/sample - loss: 0.4771 - accuracy: 0.8458 - val_loss: 0.5339 - val_accuracy: 0.8183\n",
      "Epoch 27/30\n",
      "5000/5000 [==============================] - 3s 585us/sample - loss: 0.4708 - accuracy: 0.8488 - val_loss: 0.5389 - val_accuracy: 0.8157\n",
      "Epoch 28/30\n",
      "5000/5000 [==============================] - 3s 580us/sample - loss: 0.4670 - accuracy: 0.8488 - val_loss: 0.5291 - val_accuracy: 0.8219\n",
      "Epoch 29/30\n",
      "5000/5000 [==============================] - 3s 623us/sample - loss: 0.4632 - accuracy: 0.8522 - val_loss: 0.5317 - val_accuracy: 0.8173\n",
      "Epoch 30/30\n",
      "5000/5000 [==============================] - 3s 619us/sample - loss: 0.4567 - accuracy: 0.8534 - val_loss: 0.5251 - val_accuracy: 0.8221\n"
     ]
    },
    {
     "data": {
      "image/png": "[encoded data removed]",
      "text/plain": [
       "<Figure size 864x576 with 1 Axes>"
      ]
     },
     "metadata": {
      "needs_background": "light"
     },
     "output_type": "display_data"
    },
    {
     "name": "stdout",
     "output_type": "stream",
     "text": [
      "10000/10000 [==============================] - 0s 48us/sample - loss: 0.5452 - accuracy: 0.8122\n"
     ]
    },
    {
     "ename": "AttributeError",
     "evalue": "'Model' object has no attribute 'predict_classes'",
     "output_type": "error",
     "traceback": [
      "\u001b[1;31m---------------------------------------------------------------------------\u001b[0m",
      "\u001b[1;31mAttributeError\u001b[0m                            Traceback (most recent call last)",
      "\u001b[1;32m<ipython-input-63-77055bcab519>\u001b[0m in \u001b[0;36m<module>\u001b[1;34m()\u001b[0m\n\u001b[0;32m     23\u001b[0m \u001b[0mX_new\u001b[0m \u001b[1;33m=\u001b[0m \u001b[0mX_test\u001b[0m\u001b[1;33m[\u001b[0m\u001b[1;33m:\u001b[0m\u001b[1;36m10\u001b[0m\u001b[1;33m]\u001b[0m \u001b[1;31m# escoger datos\u001b[0m\u001b[1;33m\u001b[0m\u001b[1;33m\u001b[0m\u001b[0m\n\u001b[0;32m     24\u001b[0m \u001b[0my_proba\u001b[0m \u001b[1;33m=\u001b[0m \u001b[0mmodel\u001b[0m\u001b[1;33m.\u001b[0m\u001b[0mpredict\u001b[0m\u001b[1;33m(\u001b[0m\u001b[0mX_new\u001b[0m\u001b[1;33m)\u001b[0m \u001b[1;31m# predecir probabilidades por clase\u001b[0m\u001b[1;33m\u001b[0m\u001b[1;33m\u001b[0m\u001b[0m\n\u001b[1;32m---> 25\u001b[1;33m \u001b[0my_pred\u001b[0m \u001b[1;33m=\u001b[0m \u001b[0mmodel\u001b[0m\u001b[1;33m.\u001b[0m\u001b[0mpredict_classes\u001b[0m\u001b[1;33m(\u001b[0m\u001b[0mX_new\u001b[0m\u001b[1;33m)\u001b[0m \u001b[1;31m# predecir clase\u001b[0m\u001b[1;33m\u001b[0m\u001b[1;33m\u001b[0m\u001b[0m\n\u001b[0m\u001b[0;32m     26\u001b[0m \u001b[1;33m\u001b[0m\u001b[0m\n\u001b[0;32m     27\u001b[0m \u001b[0mprint\u001b[0m\u001b[1;33m(\u001b[0m\u001b[1;34m'\\n\\nValores reales: '\u001b[0m\u001b[1;33m,\u001b[0m\u001b[0my_test\u001b[0m\u001b[1;33m[\u001b[0m\u001b[1;33m:\u001b[0m\u001b[1;36m10\u001b[0m\u001b[1;33m]\u001b[0m\u001b[1;33m)\u001b[0m\u001b[1;33m\u001b[0m\u001b[1;33m\u001b[0m\u001b[0m\n",
      "\u001b[1;31mAttributeError\u001b[0m: 'Model' object has no attribute 'predict_classes'"
     ]
    }
   ],
   "source": [
    "# Entrenar red neuronal, evaluar desempeño de modelo y predecir\n",
    "\n",
    "# Compile the model\n",
    "model.compile(loss='sparse_categorical_crossentropy',\n",
    "             optimizer= keras.optimizers.SGD(learning_rate=0.1, momentum=0.9),\n",
    "             metrics=['accuracy'])\n",
    "\n",
    "# entrenar modelo\n",
    "history = model.fit(X_train, y_train,\n",
    "                    epochs=30,\n",
    "                    batch_size = 64,\n",
    "                    shuffle=True, # mezclar las observaciones aleatoriamente\n",
    "                    validation_data=(X_valid,y_valid))\n",
    "\n",
    "\n",
    "# mostrar historial de entranmientos - metricas de evaluacion\n",
    "pd.DataFrame(history.history).plot(figsize=(12, 8))\n",
    "plt.grid(True)\n",
    "plt.gca().set_ylim(0, 1) # set the vertical range to [0-1]\n",
    "plt.show()\n",
    "\n",
    "# evaluar en datos test mediante metrica de 'accuracy'\n",
    "model.evaluate(X_test, y_test)\n",
    "\n",
    "\n",
    "# predecir con algunos datos\n",
    "X_new = X_test[:10] # escoger datos \n",
    "y_proba = model.predict(X_new) # predecir probabilidades por clase\n",
    "y_pred = model.predict_classes(X_new) # predecir clase\n",
    "\n",
    "print('\\n\\nValores reales: ',y_test[:10])\n",
    "print('Probabilidades predecidos: ',y_proba.round(5)) # redondear probab. (softmax)\n",
    "print('\\nValores predecidos: ',y_pred) # segun probabs. indicar indice de clase\n",
    "\n",
    "\n",
    "# fin"
   ]
  },
  {
   "cell_type": "markdown",
   "metadata": {
    "hidden": true
   },
   "source": [
    "### Predecir nuevos datos con el modelo entrenado"
   ]
  },
  {
   "cell_type": "code",
   "execution_count": 59,
   "metadata": {
    "ExecuteTime": {
     "end_time": "2021-01-10T00:52:09.105699Z",
     "start_time": "2021-01-10T00:52:08.593814Z"
    },
    "code_folding": [
     0
    ],
    "hidden": true
   },
   "outputs": [
    {
     "name": "stdout",
     "output_type": "stream",
     "text": [
      "10000/10000 [==============================] - 0s 44us/sample - loss: 0.5489 - accuracy: 0.8054\n",
      "\n",
      "\n",
      "Valores reales:\n",
      " [7 5 5 2 7 0 5 0 7 7 3 8 6 0 0 7 1 9 1 1]\n",
      "\n",
      "Valores predecidos:\n",
      " [7 5 5 8 7 0 5 0 7 7 3 8 2 0 0 7 1 7 1 1]\n"
     ]
    }
   ],
   "source": [
    "# evaluar en datos test mediante metrica de 'accuracy'\n",
    "model.evaluate(X_test, y_test)\n",
    "\n",
    "## Seleccionar algunas observaciones de manera aleatoria\n",
    "cantidad =20\n",
    "ii=np.random.randint(low = 0,high=X_test.shape[0],size=cantidad)\n",
    "XX = X_test[ii]\n",
    "yy = y_test[ii]\n",
    "\n",
    "# predecir con algunos datos\n",
    "y_proba = model.predict(XX) # predecir probabilidades por clase\n",
    "print('\\n\\nValores reales:\\n',yy)\n",
    "#print('Probabilidades predecidos: ',y_proba.round(5)) # redondear probab. (softmax)\n",
    "y_pred = np.argmax(y_proba,axis=1)\n",
    "print('\\nValores predecidos:\\n',y_pred) # segun probabs. indicar indice de clase\n",
    "\n",
    "# fin"
   ]
  },
  {
   "cell_type": "markdown",
   "metadata": {
    "heading_collapsed": true
   },
   "source": [
    "# ANN - modelo 3"
   ]
  },
  {
   "cell_type": "code",
   "execution_count": 92,
   "metadata": {
    "ExecuteTime": {
     "end_time": "2021-01-10T03:11:00.300016Z",
     "start_time": "2021-01-10T03:11:00.274200Z"
    },
    "code_folding": [
     0
    ],
    "hidden": true
   },
   "outputs": [
    {
     "name": "stdout",
     "output_type": "stream",
     "text": [
      "X_train shape:  (11610, 8)\n",
      "X_valid shape:  (11610, 8)\n",
      "X_test shape:  (11610, 8)\n",
      "\n",
      "-------------\n",
      "\n",
      "y_train shape:  (11610,)\n",
      "y_valid shape:  (11610,)\n",
      "y_test shape:  (11610,)\n"
     ]
    }
   ],
   "source": [
    "# cargar datos\n",
    "\n",
    "from sklearn.datasets import fetch_california_housing\n",
    "\n",
    "# cargar datos\n",
    "housing = fetch_california_housing()\n",
    "\n",
    "# dividir los datos en conjuntos\n",
    "X_train_full, X_test, y_train_full, y_test = train_test_split(housing.data, housing.target)\n",
    "X_train, X_valid, y_train, y_valid = train_test_split(X_train_full, y_train_full)\n",
    "\n",
    "# estandarizar los datos\n",
    "scaler = StandardScaler()\n",
    "X_train_scaled = scaler.fit_transform(X_train)\n",
    "X_valid_scaled = scaler.transform(X_valid)\n",
    "X_test_scaled = scaler.transform(X_test)\n",
    "\n",
    "print('X_train shape: ', X_train.shape)\n",
    "print('X_valid shape: ', X_train.shape)\n",
    "print('X_test shape: ', X_train.shape)\n",
    "print('\\n-------------\\n')\n",
    "print('y_train shape: ', y_train.shape)\n",
    "print('y_valid shape: ', y_train.shape)\n",
    "print('y_test shape: ', y_train.shape)\n",
    "\n",
    "# fin"
   ]
  },
  {
   "cell_type": "code",
   "execution_count": 93,
   "metadata": {
    "ExecuteTime": {
     "end_time": "2021-01-10T03:11:04.367525Z",
     "start_time": "2021-01-10T03:11:04.312545Z"
    },
    "code_folding": [
     0
    ],
    "hidden": true
   },
   "outputs": [
    {
     "name": "stdout",
     "output_type": "stream",
     "text": [
      "Model: \"model_10\"\n",
      "__________________________________________________________________________________________________\n",
      "Layer (type)                    Output Shape         Param #     Connected to                     \n",
      "==================================================================================================\n",
      "input_20 (InputLayer)           [(None, 6)]          0                                            \n",
      "__________________________________________________________________________________________________\n",
      "dense_45 (Dense)                (None, 30)           210         input_20[0][0]                   \n",
      "__________________________________________________________________________________________________\n",
      "input_19 (InputLayer)           [(None, 5)]          0                                            \n",
      "__________________________________________________________________________________________________\n",
      "dense_46 (Dense)                (None, 30)           930         dense_45[0][0]                   \n",
      "__________________________________________________________________________________________________\n",
      "concatenate_11 (Concatenate)    (None, 35)           0           input_19[0][0]                   \n",
      "                                                                 dense_46[0][0]                   \n",
      "__________________________________________________________________________________________________\n",
      "dense_47 (Dense)                (None, 1)            36          concatenate_11[0][0]             \n",
      "==================================================================================================\n",
      "Total params: 1,176\n",
      "Trainable params: 1,176\n",
      "Non-trainable params: 0\n",
      "__________________________________________________________________________________________________\n"
     ]
    }
   ],
   "source": [
    "# modelo\n",
    "\n",
    "input_a=keras.layers.Input(shape=[5])\n",
    "input_b=keras.layers.Input(shape=[6])\n",
    "hidden1=keras.layers.Dense(30,activation='relu')(input_b)\n",
    "hidden2=keras.layers.Dense(30,activation='relu')(hidden1)\n",
    "#concat=keras.layers.concatenate([input_a,hidden2])\n",
    "concat=keras.layers.Concatenate()([input_a,hidden2])\n",
    "output=keras.layers.Dense(1)(concat)\n",
    "model=keras.models.Model(inputs=[input_a,input_b],outputs=[output]) ## definir entradas y salidas\n",
    "\n",
    "# ver resumen\n",
    "model.summary()\n",
    "\n",
    "# fin"
   ]
  },
  {
   "cell_type": "code",
   "execution_count": 94,
   "metadata": {
    "ExecuteTime": {
     "end_time": "2021-01-10T03:11:07.623192Z",
     "start_time": "2021-01-10T03:11:07.608269Z"
    },
    "code_folding": [
     0
    ],
    "hidden": true
   },
   "outputs": [
    {
     "data": {
      "image/png": "[encoded data removed]",
      "text/plain": [
       "<IPython.core.display.Image object>"
      ]
     },
     "execution_count": 94,
     "metadata": {},
     "output_type": "execute_result"
    }
   ],
   "source": [
    "# estructura modelo\n",
    "### Imagen extraida de : Aurélien Géron (O'Reilly) : Hands-on Machine Learning with Scikit-Learn, Keras, and TensorFlow\n",
    "Image(filename = \"Captura2.png\")"
   ]
  },
  {
   "cell_type": "code",
   "execution_count": 96,
   "metadata": {
    "ExecuteTime": {
     "end_time": "2021-01-10T03:13:04.114760Z",
     "start_time": "2021-01-10T03:12:46.021026Z"
    },
    "code_folding": [
     0
    ],
    "hidden": true,
    "scrolled": true
   },
   "outputs": [
    {
     "name": "stdout",
     "output_type": "stream",
     "text": [
      "Train on 11610 samples, validate on 3870 samples\n",
      "Epoch 1/20\n",
      "11610/11610 [==============================] - 1s 117us/sample - loss: 0.3480 - val_loss: 0.3671\n",
      "Epoch 2/20\n",
      "11610/11610 [==============================] - 1s 70us/sample - loss: 0.3502 - val_loss: 0.3741\n",
      "Epoch 3/20\n",
      "11610/11610 [==============================] - ETA: 0s - loss: 0.3546- ETA: 0s - loss: 0.35 - 1s 74us/sample - loss: 0.3548 - val_loss: 0.3727\n",
      "Epoch 4/20\n",
      "11610/11610 [==============================] - 1s 74us/sample - loss: 0.3448 - val_loss: 0.3811ETA: 0s - loss: 0.3 - ETA: 0s - loss: 0.348\n",
      "Epoch 5/20\n",
      "11610/11610 [==============================] - 1s 76us/sample - loss: 0.3423 - val_loss: 0.3625\n",
      "Epoch 6/20\n",
      "11610/11610 [==============================] - 1s 73us/sample - loss: 0.3392 - val_loss: 0.3734\n",
      "Epoch 7/20\n",
      "11610/11610 [==============================] - 1s 73us/sample - loss: 0.3549 - val_loss: 0.4442A: 0s - loss:\n",
      "Epoch 8/20\n",
      "11610/11610 [==============================] - 1s 73us/sample - loss: 0.3472 - val_loss: 0.5368\n",
      "Epoch 9/20\n",
      "11610/11610 [==============================] - 1s 72us/sample - loss: 0.3725 - val_loss: 0.5282\n",
      "Epoch 10/20\n",
      "11610/11610 [==============================] - 1s 72us/sample - loss: 0.3772 - val_loss: 0.4563\n",
      "Epoch 11/20\n",
      "11610/11610 [==============================] - 1s 73us/sample - loss: 0.3464 - val_loss: 0.3764\n",
      "Epoch 12/20\n",
      "11610/11610 [==============================] - 1s 73us/sample - loss: 0.3374 - val_loss: 0.36150s - loss: 0.3\n",
      "Epoch 13/20\n",
      "11610/11610 [==============================] - 1s 76us/sample - loss: 0.3354 - val_loss: 0.3684\n",
      "Epoch 14/20\n",
      "11610/11610 [==============================] - 1s 75us/sample - loss: 0.3330 - val_loss: 0.3543\n",
      "Epoch 15/20\n",
      "11610/11610 [==============================] - 1s 76us/sample - loss: 0.3498 - val_loss: 0.3549A: 0s - loss: 0\n",
      "Epoch 16/20\n",
      "11610/11610 [==============================] - 1s 73us/sample - loss: 0.3329 - val_loss: 0.3531\n",
      "Epoch 17/20\n",
      "11610/11610 [==============================] - 1s 76us/sample - loss: 0.3305 - val_loss: 0.3520\n",
      "Epoch 18/20\n",
      "11610/11610 [==============================] - 1s 73us/sample - loss: 0.3297 - val_loss: 0.3551: 0s - loss: 0.3 - ETA: 0s - loss: 0.332\n",
      "Epoch 19/20\n",
      "11610/11610 [==============================] - 1s 75us/sample - loss: 0.3280 - val_loss: 0.3586\n",
      "Epoch 20/20\n",
      "11610/11610 [==============================] - 1s 77us/sample - loss: 0.3274 - val_loss: 0.3472\n"
     ]
    },
    {
     "data": {
      "image/png": "[encoded data removed]",
      "text/plain": [
       "<Figure size 864x576 with 1 Axes>"
      ]
     },
     "metadata": {
      "needs_background": "light"
     },
     "output_type": "display_data"
    },
    {
     "name": "stdout",
     "output_type": "stream",
     "text": [
      "5160/5160 [==============================] - 0s 39us/sample - loss: 0.3121\n",
      "\n",
      "\n",
      "Valor MSE de evaluacion:  0.31206347674362417\n"
     ]
    }
   ],
   "source": [
    "# compile - Train and Evaluate\n",
    "\n",
    "#model.compile(loss='mse',optimizer='sgd')\n",
    "model.compile(loss='mse', optimizer = keras.optimizers.SGD(learning_rate=0.1, momentum=0.9))\n",
    "\n",
    "\n",
    "# Generar input \"a\" y \"b\"\n",
    "X_train_a, X_train_b = X_train_scaled[:,:5], X_train_scaled[:,2:]\n",
    "X_valid_a, X_valid_b = X_valid_scaled[:,:5], X_valid_scaled[:,2:]\n",
    "X_test_a, X_test_b = X_test_scaled[:,:5], X_test_scaled[:,2:]\n",
    "\n",
    "# fit\n",
    "history = model.fit((X_train_a,X_train_b), y_train,\n",
    "                    epochs=20,\n",
    "                    batch_size = 64,\n",
    "                    shuffle=True, # mezclar las observaciones aleatoriamente\n",
    "                    validation_data=((X_valid_a,X_valid_b),y_valid))\n",
    "\n",
    "# Graficar historial de entrenamiento\n",
    "pd.DataFrame(history.history).plot(figsize=(10, 4))\n",
    "plt.grid(True)\n",
    "plt.gca().set_ylim(0, 1) # set the vertical range to [0-1]\n",
    "plt.show()\n",
    "\n",
    "# test de rendimiento - mse\n",
    "mse_test = model.evaluate((X_test_a,X_test_b),y_test)\n",
    "print('\\n\\nValor MSE de evaluacion: ',mse_test)\n",
    "\n",
    "\n",
    "# fin"
   ]
  },
  {
   "cell_type": "code",
   "execution_count": 115,
   "metadata": {
    "ExecuteTime": {
     "end_time": "2021-01-10T03:20:12.936914Z",
     "start_time": "2021-01-10T03:20:12.416536Z"
    },
    "code_folding": [
     0
    ],
    "hidden": true,
    "scrolled": true
   },
   "outputs": [
    {
     "name": "stdout",
     "output_type": "stream",
     "text": [
      "5160/5160 [==============================] - 0s 85us/sample - loss: 0.3121\n",
      "Valor MSE:  0.31206347674362417\n",
      "\n",
      "\n",
      "  Real  -  Predicho\n",
      " 0.6970     0.8269\n",
      " 2.4310     2.3430\n",
      " 0.6100     0.9336\n",
      " 1.2740     1.5920\n",
      " 1.3070     1.0693\n",
      " 1.0020     0.8003\n",
      " 2.2180     2.5799\n",
      " 2.6690     2.7889\n",
      " 5.0000     3.7047\n",
      " 1.2080     1.4498\n",
      " 4.6460     3.2421\n",
      " 0.5130     0.5590\n",
      " 1.1760     1.3358\n",
      " 4.1560     3.7065\n",
      " 2.6830     2.0703\n",
      " 2.1380     1.6307\n",
      " 1.2110     1.4418\n",
      " 1.9930     2.3267\n",
      " 0.8160     0.9294\n",
      " 3.1520     2.5444\n"
     ]
    }
   ],
   "source": [
    "# Evaluate - Predict\n",
    "\n",
    "# Evaluar rendimiento de modelo\n",
    "mse_test = model.evaluate((X_test_a,X_test_b),y_test)\n",
    "print('Valor MSE: ',mse_test)\n",
    "\n",
    "# Prediccion\n",
    "## Seleccionar algunas observaciones de manera aleatoria\n",
    "cantidad =20\n",
    "ii=np.random.randint(low = 0,high=X_test.shape[0],size=cantidad)\n",
    "X_a = X_test_a[ii]\n",
    "X_b = X_test_b[ii]\n",
    "yy = y_test[ii]\n",
    "\n",
    "y_pred = model.predict((X_a,X_b))\n",
    "\n",
    "print('\\n\\n  Real  -  Predicho')\n",
    "for a,b in zip(yy,y_pred):\n",
    "    print(' %.4f     %.4f' % (a,b))\n",
    "\n",
    "# fin"
   ]
  },
  {
   "cell_type": "markdown",
   "metadata": {
    "heading_collapsed": true
   },
   "source": [
    "# ANN - modelo 4"
   ]
  },
  {
   "cell_type": "code",
   "execution_count": 123,
   "metadata": {
    "ExecuteTime": {
     "end_time": "2021-01-10T04:00:07.426876Z",
     "start_time": "2021-01-10T04:00:07.389791Z"
    },
    "code_folding": [
     0
    ],
    "hidden": true
   },
   "outputs": [
    {
     "name": "stdout",
     "output_type": "stream",
     "text": [
      "X_train shape:  (11610, 8)\n",
      "X_valid shape:  (11610, 8)\n",
      "X_test shape:  (11610, 8)\n",
      "\n",
      "-------------\n",
      "\n",
      "y_train shape:  (11610,)\n",
      "y_valid shape:  (11610,)\n",
      "y_test shape:  (11610,)\n"
     ]
    }
   ],
   "source": [
    "# cargar datos\n",
    "\n",
    "from sklearn.datasets import fetch_california_housing\n",
    "\n",
    "# cargar datos\n",
    "housing = fetch_california_housing()\n",
    "\n",
    "# dividir los datos en conjuntos\n",
    "X_train_full, X_test, y_train_full, y_test = train_test_split(housing.data, housing.target)\n",
    "X_train, X_valid, y_train, y_valid = train_test_split(X_train_full, y_train_full)\n",
    "\n",
    "# estandarizar los datos\n",
    "scaler = StandardScaler()\n",
    "X_train_scaled = scaler.fit_transform(X_train)\n",
    "X_valid_scaled = scaler.transform(X_valid)\n",
    "X_test_scaled = scaler.transform(X_test)\n",
    "\n",
    "print('X_train shape: ', X_train.shape)\n",
    "print('X_valid shape: ', X_train.shape)\n",
    "print('X_test shape: ', X_train.shape)\n",
    "print('\\n-------------\\n')\n",
    "print('y_train shape: ', y_train.shape)\n",
    "print('y_valid shape: ', y_train.shape)\n",
    "print('y_test shape: ', y_train.shape)\n",
    "\n",
    "# fin"
   ]
  },
  {
   "cell_type": "code",
   "execution_count": 124,
   "metadata": {
    "ExecuteTime": {
     "end_time": "2021-01-10T04:00:10.114410Z",
     "start_time": "2021-01-10T04:00:10.062776Z"
    },
    "code_folding": [
     0
    ],
    "hidden": true
   },
   "outputs": [
    {
     "name": "stdout",
     "output_type": "stream",
     "text": [
      "Model: \"model_14\"\n",
      "__________________________________________________________________________________________________\n",
      "Layer (type)                    Output Shape         Param #     Connected to                     \n",
      "==================================================================================================\n",
      "input_28 (InputLayer)           [(None, 6)]          0                                            \n",
      "__________________________________________________________________________________________________\n",
      "dense_59 (Dense)                (None, 30)           210         input_28[0][0]                   \n",
      "__________________________________________________________________________________________________\n",
      "input_27 (InputLayer)           [(None, 5)]          0                                            \n",
      "__________________________________________________________________________________________________\n",
      "dense_60 (Dense)                (None, 30)           930         dense_59[0][0]                   \n",
      "__________________________________________________________________________________________________\n",
      "concatenate_15 (Concatenate)    (None, 35)           0           input_27[0][0]                   \n",
      "                                                                 dense_60[0][0]                   \n",
      "__________________________________________________________________________________________________\n",
      "dense_61 (Dense)                (None, 1)            36          concatenate_15[0][0]             \n",
      "__________________________________________________________________________________________________\n",
      "dense_62 (Dense)                (None, 1)            31          dense_60[0][0]                   \n",
      "==================================================================================================\n",
      "Total params: 1,207\n",
      "Trainable params: 1,207\n",
      "Non-trainable params: 0\n",
      "__________________________________________________________________________________________________\n"
     ]
    }
   ],
   "source": [
    "# modelo\n",
    "\n",
    "input_a=keras.layers.Input(shape=[5])\n",
    "input_b=keras.layers.Input(shape=[6])\n",
    "hidden1=keras.layers.Dense(30,activation='relu')(input_b)\n",
    "hidden2=keras.layers.Dense(30,activation='relu')(hidden1)\n",
    "#concat=keras.layers.concatenate([input_a,hidden2])\n",
    "concat=keras.layers.Concatenate()([input_a,hidden2])\n",
    "output=keras.layers.Dense(1)(concat) # salida\n",
    "aux_output=keras.layers.Dense(1)(hidden2) ## salida 2 - auxiliar\n",
    "model=keras.models.Model(inputs=[input_a,input_b],outputs=[output,aux_output]) ## definir entradas y salidas\n",
    "\n",
    "# ver resumen\n",
    "model.summary()\n",
    "\n",
    "# fin"
   ]
  },
  {
   "cell_type": "code",
   "execution_count": 125,
   "metadata": {
    "ExecuteTime": {
     "end_time": "2021-01-10T04:00:13.107778Z",
     "start_time": "2021-01-10T04:00:13.087784Z"
    },
    "code_folding": [
     0
    ],
    "hidden": true
   },
   "outputs": [
    {
     "data": {
      "image/png": "[encoded data removed]",
      "text/plain": [
       "<IPython.core.display.Image object>"
      ]
     },
     "execution_count": 125,
     "metadata": {},
     "output_type": "execute_result"
    }
   ],
   "source": [
    "# estructura modelo\n",
    "### Imagen extraida de : Aurélien Géron (O'Reilly) : Hands-on Machine Learning with Scikit-Learn, Keras, and TensorFlow\n",
    "Image(filename = \"Captura3.png\")"
   ]
  },
  {
   "cell_type": "code",
   "execution_count": 130,
   "metadata": {
    "ExecuteTime": {
     "end_time": "2021-01-10T04:02:19.577681Z",
     "start_time": "2021-01-10T04:01:57.159565Z"
    },
    "code_folding": [
     0
    ],
    "hidden": true,
    "scrolled": true
   },
   "outputs": [
    {
     "name": "stdout",
     "output_type": "stream",
     "text": [
      "Train on 11610 samples, validate on 3870 samples\n",
      "Epoch 1/20\n",
      "11610/11610 [==============================] - 2s 130us/sample - loss: 0.5961 - dense_61_loss: 0.5944 - dense_62_loss: 0.6093 - val_loss: 0.4153 - val_dense_61_loss: 0.3911 - val_dense_62_loss: 0.6354\n",
      "Epoch 2/20\n",
      "11610/11610 [==============================] - 1s 94us/sample - loss: 0.3863 - dense_61_loss: 0.3677 - dense_62_loss: 0.5531 - val_loss: 0.4167 - val_dense_61_loss: 0.4010 - val_dense_62_loss: 0.5608\n",
      "Epoch 3/20\n",
      "11610/11610 [==============================] - 1s 92us/sample - loss: 0.3883 - dense_61_loss: 0.3732 - dense_62_loss: 0.5236 - val_loss: 0.3860 - val_dense_61_loss: 0.3700 - val_dense_62_loss: 0.5331\n",
      "Epoch 4/20\n",
      "11610/11610 [==============================] - 1s 91us/sample - loss: 0.3621 - dense_61_loss: 0.3467 - dense_62_loss: 0.5013 - val_loss: 0.3823 - val_dense_61_loss: 0.3675 - val_dense_62_loss: 0.5178\n",
      "Epoch 5/20\n",
      "11610/11610 [==============================] - 1s 92us/sample - loss: 0.3614 - dense_61_loss: 0.3465 - dense_62_loss: 0.4959 - val_loss: 0.3841 - val_dense_61_loss: 0.3694 - val_dense_62_loss: 0.5184\n",
      "Epoch 6/20\n",
      "11610/11610 [==============================] - 1s 92us/sample - loss: 0.3592 - dense_61_loss: 0.3449 - dense_62_loss: 0.4880 - val_loss: 0.3696 - val_dense_61_loss: 0.3551 - val_dense_62_loss: 0.5025\n",
      "Epoch 7/20\n",
      "11610/11610 [==============================] - 1s 92us/sample - loss: 0.3526 - dense_61_loss: 0.3383 - dense_62_loss: 0.4809 - val_loss: 0.3671 - val_dense_61_loss: 0.3533 - val_dense_62_loss: 0.4932\n",
      "Epoch 8/20\n",
      "11610/11610 [==============================] - 1s 92us/sample - loss: 0.3531 - dense_61_loss: 0.3395 - dense_62_loss: 0.4763 - val_loss: 0.3800 - val_dense_61_loss: 0.3677 - val_dense_62_loss: 0.4919\n",
      "Epoch 9/20\n",
      "11610/11610 [==============================] - 1s 92us/sample - loss: 0.3473 - dense_61_loss: 0.3337 - dense_62_loss: 0.4699 - val_loss: 0.3649 - val_dense_61_loss: 0.3517 - val_dense_62_loss: 0.4855\n",
      "Epoch 10/20\n",
      "11610/11610 [==============================] - 1s 93us/sample - loss: 0.3529 - dense_61_loss: 0.3409 - dense_62_loss: 0.4600 - val_loss: 0.3789 - val_dense_61_loss: 0.3661 - val_dense_62_loss: 0.4966\n",
      "Epoch 11/20\n",
      "11610/11610 [==============================] - 1s 92us/sample - loss: 0.3424 - dense_61_loss: 0.3292 - dense_62_loss: 0.4605 - val_loss: 0.3849 - val_dense_61_loss: 0.3738 - val_dense_62_loss: 0.4869: 0.3365 - dense_61_loss: 0.3237 - dense_62_loss: \n",
      "Epoch 12/20\n",
      "11610/11610 [==============================] - 1s 93us/sample - loss: 0.3421 - dense_61_loss: 0.3298 - dense_62_loss: 0.4530 - val_loss: 0.3601 - val_dense_61_loss: 0.3482 - val_dense_62_loss: 0.4693\n",
      "Epoch 13/20\n",
      "11610/11610 [==============================] - 1s 92us/sample - loss: 0.3411 - dense_61_loss: 0.3290 - dense_62_loss: 0.4490 - val_loss: 0.3557 - val_dense_61_loss: 0.3440 - val_dense_62_loss: 0.4633\n",
      "Epoch 14/20\n",
      "11610/11610 [==============================] - 1s 92us/sample - loss: 0.3411 - dense_61_loss: 0.3296 - dense_62_loss: 0.4432 - val_loss: 0.3536 - val_dense_61_loss: 0.3421 - val_dense_62_loss: 0.4597- loss: 0.3417 - dense_61_loss: 0.3295 - dense_62_los\n",
      "Epoch 15/20\n",
      "11610/11610 [==============================] - 1s 93us/sample - loss: 0.3402 - dense_61_loss: 0.3289 - dense_62_loss: 0.4417 - val_loss: 0.3520 - val_dense_61_loss: 0.3404 - val_dense_62_loss: 0.4580\n",
      "Epoch 16/20\n",
      "11610/11610 [==============================] - 1s 92us/sample - loss: 0.3413 - dense_61_loss: 0.3299 - dense_62_loss: 0.4430 - val_loss: 0.3642 - val_dense_61_loss: 0.3531 - val_dense_62_loss: 0.4669\n",
      "Epoch 17/20\n",
      "11610/11610 [==============================] - 1s 92us/sample - loss: 0.3348 - dense_61_loss: 0.3240 - dense_62_loss: 0.4334 - val_loss: 0.3584 - val_dense_61_loss: 0.3478 - val_dense_62_loss: 0.4557\n",
      "Epoch 18/20\n",
      "11610/11610 [==============================] - 1s 93us/sample - loss: 0.3332 - dense_61_loss: 0.3223 - dense_62_loss: 0.4306 - val_loss: 0.3597 - val_dense_61_loss: 0.3492 - val_dense_62_loss: 0.4562\n",
      "Epoch 19/20\n",
      "11610/11610 [==============================] - 1s 92us/sample - loss: 0.3322 - dense_61_loss: 0.3214 - dense_62_loss: 0.4293 - val_loss: 0.3554 - val_dense_61_loss: 0.3452 - val_dense_62_loss: 0.4497\n",
      "Epoch 20/20\n",
      "11610/11610 [==============================] - 1s 92us/sample - loss: 0.3322 - dense_61_loss: 0.3218 - dense_62_loss: 0.4263 - val_loss: 0.3584 - val_dense_61_loss: 0.3486 - val_dense_62_loss: 0.4481\n"
     ]
    },
    {
     "data": {
      "image/png": "[encoded data removed]",
      "text/plain": [
       "<Figure size 864x576 with 1 Axes>"
      ]
     },
     "metadata": {
      "needs_background": "light"
     },
     "output_type": "display_data"
    },
    {
     "name": "stdout",
     "output_type": "stream",
     "text": [
      "5160/5160 [==============================] - 0s 50us/sample - loss: 0.3586 - dense_61_loss: 0.3500 - dense_62_loss: 0.4552\n",
      "\n",
      "\n",
      "mse total:  0.3586336448211078\n",
      "mse out:  0.34996492\n",
      "mse out_aux:  0.45521045\n"
     ]
    }
   ],
   "source": [
    "# compile - Train and Evaluate\n",
    "\n",
    "# Ponerle mas peso a la salida principal (0.9) y menos a la secundaria (0.1)\n",
    "\n",
    "\n",
    "#model.compile(loss=['mse','mse'],loss_weights=[0.9,0.1],optimizer='sgd')\n",
    "model.compile(loss=['mse','mse'],\n",
    "              loss_weights=[0.9,0.1],\n",
    "              optimizer = keras.optimizers.SGD(learning_rate=0.1, momentum=0.9))\n",
    "\n",
    "# Generar input \"a\" y \"b\"\n",
    "X_train_a, X_train_b = X_train_scaled[:,:5], X_train_scaled[:,2:]\n",
    "X_valid_a, X_valid_b = X_valid_scaled[:,:5], X_valid_scaled[:,2:]\n",
    "X_test_a, X_test_b = X_test_scaled[:,:5], X_test_scaled[:,2:]\n",
    "\n",
    "# fit\n",
    "history = model.fit((X_train_a,X_train_b),\n",
    "                    (y_train,y_train),\n",
    "                    epochs=20,\n",
    "                    batch_size = 64,\n",
    "                    shuffle=True, # mezclar las observaciones aleatoriamente\n",
    "                    validation_data=((X_valid_a,X_valid_b),(y_valid,y_valid)))\n",
    "\n",
    "\n",
    "# Graficar historial de entrenamiento\n",
    "pd.DataFrame(history.history).plot(figsize=(10, 4))\n",
    "plt.grid(True)\n",
    "plt.gca().set_ylim(0, 1) # set the vertical range to [0-1]\n",
    "plt.show()\n",
    "\n",
    "# test de rendimiento - mse\n",
    "mse_total, mse_out, mse_out_aux = model.evaluate((X_test_a,X_test_b),(y_test,y_test))\n",
    "print('\\n\\nmse total: ',mse_total)\n",
    "print('mse out: ',mse_out)\n",
    "print('mse out_aux: ',mse_out_aux)\n",
    "\n",
    "# fin"
   ]
  },
  {
   "cell_type": "code",
   "execution_count": 142,
   "metadata": {
    "ExecuteTime": {
     "end_time": "2021-01-10T04:06:31.499752Z",
     "start_time": "2021-01-10T04:06:30.784712Z"
    },
    "code_folding": [
     0
    ],
    "hidden": true,
    "scrolled": true
   },
   "outputs": [
    {
     "name": "stdout",
     "output_type": "stream",
     "text": [
      "5160/5160 [==============================] - 1s 123us/sample - loss: 0.3586 - dense_61_loss: 0.3500 - dense_62_loss: 0.4552\n",
      "\n",
      "\n",
      "mse total:    0.3586\n",
      "mse out:      0.35\n",
      "mse out_aux:  0.4552\n",
      "\n",
      "\n",
      "  Real  -  Out  -  Out_aux\n",
      " 1.6130   2.2535   2.5058\n",
      " 0.7190   0.9356   0.7568\n",
      " 1.9240   1.5821   1.2399\n",
      " 5.0000   4.4177   3.8682\n",
      " 0.9750   1.3207   1.4486\n",
      " 1.5770   2.5158   3.4511\n",
      " 1.2810   1.9678   3.0232\n",
      " 1.9290   2.3311   2.2157\n",
      " 1.1250   0.8042   0.7634\n",
      " 0.7920   0.9770   1.1205\n",
      " 4.3240   3.5612   3.4634\n",
      " 0.6090   0.9162   1.1155\n",
      " 5.0000   4.0001   3.2326\n",
      " 0.5990   0.8727   1.0226\n",
      " 1.7080   2.0057   2.2686\n",
      " 3.9530   4.3813   4.2822\n",
      " 4.4090   2.7647   2.8926\n",
      " 0.5990   0.8727   1.0226\n",
      " 1.5630   1.3423   0.9843\n",
      " 1.4310   1.6830   1.4479\n"
     ]
    }
   ],
   "source": [
    "# Evaluate - Predict\n",
    "\n",
    "# Evaluar rendimiento de modelo\n",
    "mse_total, mse_out, mse_out_aux = model.evaluate((X_test_a,X_test_b),(y_test,y_test))\n",
    "print('\\n\\nmse total:   ',round(mse_total,4))\n",
    "print('mse out:     ',round(mse_out,4))\n",
    "print('mse out_aux: ',round(mse_out_aux,4))\n",
    "\n",
    "# Prediccion\n",
    "## Seleccionar algunas observaciones de manera aleatoria\n",
    "cantidad =20\n",
    "ii=np.random.randint(low = 0,high=X_test.shape[0],size=cantidad)\n",
    "X_a = X_test_a[ii]\n",
    "X_b = X_test_b[ii]\n",
    "yy = y_test[ii]\n",
    "\n",
    "y_pred, y_pred_aux = model.predict((X_a,X_b))\n",
    "\n",
    "print('\\n\\n  Real  -  Out  -  Out_aux')\n",
    "for a,b,c in zip(yy,y_pred,y_pred_aux):\n",
    "    print(' %3.4f   %3.4f   %3.4f' % (a,b,c))\n",
    "\n",
    "# fin"
   ]
  },
  {
   "cell_type": "code",
   "execution_count": 143,
   "metadata": {
    "ExecuteTime": {
     "end_time": "2021-01-10T04:07:55.691621Z",
     "start_time": "2021-01-10T04:07:55.379551Z"
    },
    "code_folding": [
     0
    ],
    "hidden": true
   },
   "outputs": [],
   "source": [
    "# guardar modelo\n",
    "\n",
    "model.save('my_keras_model.h5')\n",
    "\n",
    "# fin"
   ]
  },
  {
   "cell_type": "code",
   "execution_count": 144,
   "metadata": {
    "ExecuteTime": {
     "end_time": "2021-01-10T04:08:31.845982Z",
     "start_time": "2021-01-10T04:08:31.265762Z"
    },
    "code_folding": [
     0
    ],
    "hidden": true
   },
   "outputs": [],
   "source": [
    "# cargar modelo entrenado\n",
    "\n",
    "model = keras.models.load_model('my_keras_model.h5')\n",
    "\n",
    "# fin"
   ]
  },
  {
   "cell_type": "markdown",
   "metadata": {
    "heading_collapsed": true
   },
   "source": [
    "# ANN -  modelo 4 (Con Mejores Practicas)"
   ]
  },
  {
   "cell_type": "code",
   "execution_count": 148,
   "metadata": {
    "ExecuteTime": {
     "end_time": "2021-01-10T04:24:36.518032Z",
     "start_time": "2021-01-10T04:24:36.482093Z"
    },
    "code_folding": [
     0
    ],
    "hidden": true
   },
   "outputs": [
    {
     "name": "stdout",
     "output_type": "stream",
     "text": [
      "X_train shape:  (11610, 8)\n",
      "X_valid shape:  (11610, 8)\n",
      "X_test shape:  (11610, 8)\n",
      "\n",
      "-------------\n",
      "\n",
      "y_train shape:  (11610,)\n",
      "y_valid shape:  (11610,)\n",
      "y_test shape:  (11610,)\n"
     ]
    }
   ],
   "source": [
    "# cargar datos\n",
    "\n",
    "from sklearn.datasets import fetch_california_housing\n",
    "\n",
    "# cargar datos\n",
    "housing = fetch_california_housing()\n",
    "\n",
    "# dividir los datos en conjuntos\n",
    "X_train_full, X_test, y_train_full, y_test = train_test_split(housing.data, housing.target)\n",
    "X_train, X_valid, y_train, y_valid = train_test_split(X_train_full, y_train_full)\n",
    "\n",
    "# estandarizar los datos\n",
    "scaler = StandardScaler()\n",
    "X_train_scaled = scaler.fit_transform(X_train)\n",
    "X_valid_scaled = scaler.transform(X_valid)\n",
    "X_test_scaled = scaler.transform(X_test)\n",
    "\n",
    "print('X_train shape: ', X_train.shape)\n",
    "print('X_valid shape: ', X_train.shape)\n",
    "print('X_test shape: ', X_train.shape)\n",
    "print('\\n-------------\\n')\n",
    "print('y_train shape: ', y_train.shape)\n",
    "print('y_valid shape: ', y_train.shape)\n",
    "print('y_test shape: ', y_train.shape)\n",
    "\n",
    "# fin"
   ]
  },
  {
   "cell_type": "code",
   "execution_count": 166,
   "metadata": {
    "ExecuteTime": {
     "end_time": "2021-01-10T04:52:57.211421Z",
     "start_time": "2021-01-10T04:52:56.888301Z"
    },
    "code_folding": [
     0
    ],
    "hidden": true
   },
   "outputs": [
    {
     "name": "stdout",
     "output_type": "stream",
     "text": [
      "Model: \"model_21\"\n",
      "__________________________________________________________________________________________________\n",
      "Layer (type)                    Output Shape         Param #     Connected to                     \n",
      "==================================================================================================\n",
      "input_46 (InputLayer)           [(None, 6)]          0                                            \n",
      "__________________________________________________________________________________________________\n",
      "dense_88 (Dense)                (None, 30)           210         input_46[0][0]                   \n",
      "__________________________________________________________________________________________________\n",
      "input_45 (InputLayer)           [(None, 5)]          0                                            \n",
      "__________________________________________________________________________________________________\n",
      "dense_89 (Dense)                (None, 30)           930         dense_88[0][0]                   \n",
      "__________________________________________________________________________________________________\n",
      "concatenate_22 (Concatenate)    (None, 35)           0           input_45[0][0]                   \n",
      "                                                                 dense_89[0][0]                   \n",
      "__________________________________________________________________________________________________\n",
      "dense_90 (Dense)                (None, 1)            36          concatenate_22[0][0]             \n",
      "__________________________________________________________________________________________________\n",
      "dense_91 (Dense)                (None, 1)            31          dense_89[0][0]                   \n",
      "==================================================================================================\n",
      "Total params: 1,207\n",
      "Trainable params: 1,207\n",
      "Non-trainable params: 0\n",
      "__________________________________________________________________________________________________\n"
     ]
    }
   ],
   "source": [
    "# modelo\n",
    "\n",
    "# Nota: existen 03 regularizadores: kernel_regularizer / activity_regularizer / bias_regularizer\n",
    "# estos permiten agregar la regularizacion ya sea L1 o L2 ... otra debe ser creada como personalizada\n",
    "\n",
    "\n",
    "input_a=keras.layers.Input(shape=[5])\n",
    "input_b=keras.layers.Input(shape=[6])\n",
    "hidden1=keras.layers.Dense(30,activation='relu',kernel_regularizer=keras.regularizers.l2(0.001))(input_b)\n",
    "hidden2=keras.layers.Dense(30,activation='relu',kernel_regularizer=keras.regularizers.l2(0.001))(hidden1)\n",
    "#concat=keras.layers.concatenate([input_a,hidden2])\n",
    "concat=keras.layers.Concatenate()([input_a,hidden2])\n",
    "output=keras.layers.Dense(1)(concat) # salida\n",
    "aux_output=keras.layers.Dense(1)(hidden2) ## salida 2 - auxiliar\n",
    "model=keras.models.Model(inputs=[input_a,input_b],outputs=[output,aux_output]) ## definir entradas y salidas\n",
    "\n",
    "# ver resumen\n",
    "model.summary()\n",
    "\n",
    "# fin"
   ]
  },
  {
   "cell_type": "code",
   "execution_count": 167,
   "metadata": {
    "ExecuteTime": {
     "end_time": "2021-01-10T04:54:57.199789Z",
     "start_time": "2021-01-10T04:53:00.978142Z"
    },
    "code_folding": [
     0
    ],
    "hidden": true,
    "scrolled": true
   },
   "outputs": [
    {
     "name": "stdout",
     "output_type": "stream",
     "text": [
      "Train on 11610 samples, validate on 3870 samples\n",
      "Epoch 1/200\n",
      "11610/11610 [==============================] - 2s 137us/sample - loss: 1.0582 - dense_90_loss: 0.9260 - dense_91_loss: 1.8466 - val_loss: 0.7458 - val_dense_90_loss: 0.6400 - val_dense_91_loss: 1.3000\n",
      "Epoch 2/200\n",
      "11610/11610 [==============================] - 1s 97us/sample - loss: 0.6426 - dense_90_loss: 0.5532 - dense_91_loss: 1.0507 - val_loss: 0.6531 - val_dense_90_loss: 0.5715 - val_dense_91_loss: 0.9881\n",
      "Epoch 3/200\n",
      "11610/11610 [==============================] - 1s 96us/sample - loss: 0.6435 - dense_90_loss: 0.5750 - dense_91_loss: 0.8573 - val_loss: 0.7600 - val_dense_90_loss: 0.6939 - val_dense_91_loss: 0.9527\n",
      "Epoch 4/200\n",
      "11610/11610 [==============================] - 1s 98us/sample - loss: 0.6774 - dense_90_loss: 0.6146 - dense_91_loss: 0.8400 - val_loss: 0.5896 - val_dense_90_loss: 0.5212 - val_dense_91_loss: 0.7956\n",
      "Epoch 5/200\n",
      "11610/11610 [==============================] - 1s 98us/sample - loss: 0.5389 - dense_90_loss: 0.4735 - dense_91_loss: 0.7178 - val_loss: 0.5484 - val_dense_90_loss: 0.4809 - val_dense_91_loss: 0.7487\n",
      "Epoch 6/200\n",
      "11610/11610 [==============================] - 1s 96us/sample - loss: 0.5202 - dense_90_loss: 0.4573 - dense_91_loss: 0.6799 - val_loss: 0.5300 - val_dense_90_loss: 0.4640 - val_dense_91_loss: 0.7168\n",
      "Epoch 7/200\n",
      "11610/11610 [==============================] - 1s 95us/sample - loss: 0.5057 - dense_90_loss: 0.4440 - dense_91_loss: 0.6551 - val_loss: 0.5165 - val_dense_90_loss: 0.4523 - val_dense_91_loss: 0.6894\n",
      "Epoch 8/200\n",
      "11610/11610 [==============================] - 1s 96us/sample - loss: 0.4927 - dense_90_loss: 0.4322 - dense_91_loss: 0.6332 - val_loss: 0.5065 - val_dense_90_loss: 0.4433 - val_dense_91_loss: 0.6709\n",
      "Epoch 9/200\n",
      "11610/11610 [==============================] - 1s 97us/sample - loss: 0.4845 - dense_90_loss: 0.4247 - dense_91_loss: 0.6187 - val_loss: 0.4994 - val_dense_90_loss: 0.4372 - val_dense_91_loss: 0.6552\n",
      "Epoch 10/200\n",
      "11610/11610 [==============================] - 1s 97us/sample - loss: 0.4762 - dense_90_loss: 0.4171 - dense_91_loss: 0.6033 - val_loss: 0.4920 - val_dense_90_loss: 0.4304 - val_dense_91_loss: 0.6433\n",
      "Epoch 11/200\n",
      "11610/11610 [==============================] - 1s 98us/sample - loss: 0.4674 - dense_90_loss: 0.4089 - dense_91_loss: 0.5910 - val_loss: 0.4825 - val_dense_90_loss: 0.4214 - val_dense_91_loss: 0.6290\n",
      "Epoch 12/200\n",
      "11610/11610 [==============================] - 1s 96us/sample - loss: 0.4605 - dense_90_loss: 0.4025 - dense_91_loss: 0.5789 - val_loss: 0.4746 - val_dense_90_loss: 0.4142 - val_dense_91_loss: 0.6156\n",
      "Epoch 13/200\n",
      "11610/11610 [==============================] - 1s 99us/sample - loss: 0.4535 - dense_90_loss: 0.3962 - dense_91_loss: 0.5654 - val_loss: 0.4689 - val_dense_90_loss: 0.4090 - val_dense_91_loss: 0.6042\n",
      "Epoch 14/200\n",
      "11610/11610 [==============================] - 1s 105us/sample - loss: 0.4467 - dense_90_loss: 0.3898 - dense_91_loss: 0.5554 - val_loss: 0.4625 - val_dense_90_loss: 0.4034 - val_dense_91_loss: 0.5908\n",
      "Epoch 15/200\n",
      "11610/11610 [==============================] - 1s 97us/sample - loss: 0.4396 - dense_90_loss: 0.3832 - dense_91_loss: 0.5441 - val_loss: 0.4566 - val_dense_90_loss: 0.3979 - val_dense_91_loss: 0.5811\n",
      "Epoch 16/200\n",
      "11610/11610 [==============================] - 1s 99us/sample - loss: 0.4323 - dense_90_loss: 0.3762 - dense_91_loss: 0.5320 - val_loss: 0.4529 - val_dense_90_loss: 0.3949 - val_dense_91_loss: 0.5700\n",
      "Epoch 17/200\n",
      "11610/11610 [==============================] - 1s 101us/sample - loss: 0.4275 - dense_90_loss: 0.3717 - dense_91_loss: 0.5245 - val_loss: 0.4480 - val_dense_90_loss: 0.3904 - val_dense_91_loss: 0.5615\n",
      "Epoch 18/200\n",
      "11610/11610 [==============================] - 1s 100us/sample - loss: 0.4229 - dense_90_loss: 0.3676 - dense_91_loss: 0.5144 - val_loss: 0.4345 - val_dense_90_loss: 0.3771 - val_dense_91_loss: 0.54590.4214 - dense_90_loss: 0.3661 - dense_91_loss: 0.51 - ETA: 0s - loss: 0.4241 - dense_90_loss: 0.3690 - dense_91_loss: 0.5\n",
      "Epoch 19/200\n",
      "11610/11610 [==============================] - 1s 97us/sample - loss: 0.4175 - dense_90_loss: 0.3627 - dense_91_loss: 0.5052 - val_loss: 0.4331 - val_dense_90_loss: 0.3763 - val_dense_91_loss: 0.5385 0.4073 - dense_90_loss: 0.3534 - dense_91_loss: 0.\n",
      "Epoch 20/200\n",
      "11610/11610 [==============================] - 1s 100us/sample - loss: 0.4144 - dense_90_loss: 0.3599 - dense_91_loss: 0.4995 - val_loss: 0.4265 - val_dense_90_loss: 0.3702 - val_dense_91_loss: 0.5268\n",
      "Epoch 21/200\n",
      "11610/11610 [==============================] - 1s 97us/sample - loss: 0.4093 - dense_90_loss: 0.3550 - dense_91_loss: 0.4908 - val_loss: 0.4271 - val_dense_90_loss: 0.3715 - val_dense_91_loss: 0.5206\n",
      "Epoch 22/200\n",
      "11610/11610 [==============================] - 1s 96us/sample - loss: 0.4074 - dense_90_loss: 0.3535 - dense_91_loss: 0.4851 - val_loss: 0.4219 - val_dense_90_loss: 0.3663 - val_dense_91_loss: 0.5149\n",
      "Epoch 23/200\n",
      "11610/11610 [==============================] - 1s 95us/sample - loss: 0.4044 - dense_90_loss: 0.3507 - dense_91_loss: 0.4797 - val_loss: 0.4213 - val_dense_90_loss: 0.3661 - val_dense_91_loss: 0.5112\n",
      "Epoch 24/200\n",
      "11610/11610 [==============================] - 1s 96us/sample - loss: 0.4017 - dense_90_loss: 0.3485 - dense_91_loss: 0.4726 - val_loss: 0.4135 - val_dense_90_loss: 0.3586 - val_dense_91_loss: 0.5014\n",
      "Epoch 25/200\n",
      "11610/11610 [==============================] - 1s 96us/sample - loss: 0.4002 - dense_90_loss: 0.3472 - dense_91_loss: 0.4700 - val_loss: 0.4116 - val_dense_90_loss: 0.3572 - val_dense_91_loss: 0.4946\n",
      "Epoch 26/200\n",
      "11610/11610 [==============================] - 1s 95us/sample - loss: 0.3974 - dense_90_loss: 0.3446 - dense_91_loss: 0.4658 - val_loss: 0.4220 - val_dense_90_loss: 0.3680 - val_dense_91_loss: 0.5017\n",
      "Epoch 27/200\n",
      "11610/11610 [==============================] - 1s 98us/sample - loss: 0.3941 - dense_90_loss: 0.3415 - dense_91_loss: 0.4610 - val_loss: 0.4175 - val_dense_90_loss: 0.3642 - val_dense_91_loss: 0.4913\n",
      "Epoch 28/200\n",
      "11610/11610 [==============================] - 1s 101us/sample - loss: 0.3931 - dense_90_loss: 0.3409 - dense_91_loss: 0.4560 - val_loss: 0.4096 - val_dense_90_loss: 0.3564 - val_dense_91_loss: 0.4844 loss: 0.3899 - dense_90_loss: 0.3377 - dense_91_\n",
      "Epoch 29/200\n",
      "11610/11610 [==============================] - 1s 96us/sample - loss: 0.3927 - dense_90_loss: 0.3410 - dense_91_loss: 0.4531 - val_loss: 0.4143 - val_dense_90_loss: 0.3612 - val_dense_91_loss: 0.4883\n",
      "Epoch 30/200\n",
      "11610/11610 [==============================] - 1s 96us/sample - loss: 0.3918 - dense_90_loss: 0.3402 - dense_91_loss: 0.4517 - val_loss: 0.4059 - val_dense_90_loss: 0.3535 - val_dense_91_loss: 0.4740\n",
      "Epoch 31/200\n",
      "11610/11610 [==============================] - 1s 98us/sample - loss: 0.3906 - dense_90_loss: 0.3396 - dense_91_loss: 0.4475 - val_loss: 0.4258 - val_dense_90_loss: 0.3743 - val_dense_91_loss: 0.4868 loss: 0.3874 - dense_90_loss: 0.3358 - dense_91_loss:\n",
      "Epoch 32/200\n",
      "11610/11610 [==============================] - 1s 94us/sample - loss: 0.3885 - dense_90_loss: 0.3377 - dense_91_loss: 0.4446 - val_loss: 0.4062 - val_dense_90_loss: 0.3543 - val_dense_91_loss: 0.4729\n",
      "Epoch 33/200\n",
      "11610/11610 [==============================] - 1s 95us/sample - loss: 0.3873 - dense_90_loss: 0.3368 - dense_91_loss: 0.4421 - val_loss: 0.4173 - val_dense_90_loss: 0.3656 - val_dense_91_loss: 0.4821\n",
      "Epoch 34/200\n",
      "11610/11610 [==============================] - 1s 94us/sample - loss: 0.3872 - dense_90_loss: 0.3366 - dense_91_loss: 0.4421 - val_loss: 0.4090 - val_dense_90_loss: 0.3577 - val_dense_91_loss: 0.4722\n",
      "Epoch 35/200\n",
      "11610/11610 [==============================] - 1s 95us/sample - loss: 0.3870 - dense_90_loss: 0.3368 - dense_91_loss: 0.4406 - val_loss: 0.4237 - val_dense_90_loss: 0.3719 - val_dense_91_loss: 0.4918\n",
      "Epoch 36/200\n",
      "11610/11610 [==============================] - 1s 95us/sample - loss: 0.3849 - dense_90_loss: 0.3353 - dense_91_loss: 0.4366 - val_loss: 0.4088 - val_dense_90_loss: 0.3580 - val_dense_91_loss: 0.4691\n",
      "Epoch 37/200\n",
      "11610/11610 [==============================] - 1s 95us/sample - loss: 0.3818 - dense_90_loss: 0.3325 - dense_91_loss: 0.4334 - val_loss: 0.4265 - val_dense_90_loss: 0.3769 - val_dense_91_loss: 0.4783.3841 - dense_90_loss: 0.3343 - dense_91_loss: 0.43\n",
      "Epoch 38/200\n",
      "11610/11610 [==============================] - 1s 94us/sample - loss: 0.3827 - dense_90_loss: 0.3334 - dense_91_loss: 0.4315 - val_loss: 0.3961 - val_dense_90_loss: 0.3461 - val_dense_91_loss: 0.4524\n",
      "Epoch 39/200\n",
      "11610/11610 [==============================] - 1s 96us/sample - loss: 0.3806 - dense_90_loss: 0.3314 - dense_91_loss: 0.4298 - val_loss: 0.3930 - val_dense_90_loss: 0.3433 - val_dense_91_loss: 0.4484s: 0.3784 - dense_90_loss: 0.3292 - dense_91_loss: 0.4\n",
      "Epoch 40/200\n",
      "11610/11610 [==============================] - 1s 93us/sample - loss: 0.3806 - dense_90_loss: 0.3316 - dense_91_loss: 0.4290 - val_loss: 0.3932 - val_dense_90_loss: 0.3434 - val_dense_91_loss: 0.4505\n",
      "Epoch 41/200\n",
      "11610/11610 [==============================] - 1s 96us/sample - loss: 0.3795 - dense_90_loss: 0.3309 - dense_91_loss: 0.4279 - val_loss: 0.3910 - val_dense_90_loss: 0.3416 - val_dense_91_loss: 0.4456\n",
      "Epoch 42/200\n",
      "11610/11610 [==============================] - 1s 93us/sample - loss: 0.3784 - dense_90_loss: 0.3300 - dense_91_loss: 0.4251 - val_loss: 0.3981 - val_dense_90_loss: 0.3490 - val_dense_91_loss: 0.4515\n",
      "Epoch 43/200\n",
      "11610/11610 [==============================] - 1s 93us/sample - loss: 0.3795 - dense_90_loss: 0.3313 - dense_91_loss: 0.4258 - val_loss: 0.4050 - val_dense_90_loss: 0.3557 - val_dense_91_loss: 0.4614\n",
      "Epoch 44/200\n",
      "11610/11610 [==============================] - 1s 92us/sample - loss: 0.3777 - dense_90_loss: 0.3296 - dense_91_loss: 0.4236 - val_loss: 0.3958 - val_dense_90_loss: 0.3468 - val_dense_91_loss: 0.4517\n",
      "Epoch 45/200\n",
      "11610/11610 [==============================] - 1s 95us/sample - loss: 0.3777 - dense_90_loss: 0.3301 - dense_91_loss: 0.4238 - val_loss: 0.3955 - val_dense_90_loss: 0.3471 - val_dense_91_loss: 0.4464\n",
      "Epoch 46/200\n",
      "11610/11610 [==============================] - 1s 93us/sample - loss: 0.3767 - dense_90_loss: 0.3291 - dense_91_loss: 0.4212 - val_loss: 0.3922 - val_dense_90_loss: 0.3439 - val_dense_91_loss: 0.4438loss: 0.3809 - dense_90_loss: 0.3339 - dense_91_loss: 0. - ETA: 0s - loss: 0.3796 - dense_90_loss: 0.3322 - dense_91_loss: 0.42\n",
      "Epoch 47/200\n",
      "11610/11610 [==============================] - 1s 94us/sample - loss: 0.3752 - dense_90_loss: 0.3275 - dense_91_loss: 0.4212 - val_loss: 0.3908 - val_dense_90_loss: 0.3428 - val_dense_91_loss: 0.4409- loss: 0.3807 - dense_90_loss: 0.3333 - dense_91_l\n",
      "Epoch 48/200\n",
      "11610/11610 [==============================] - 1s 95us/sample - loss: 0.3743 - dense_90_loss: 0.3270 - dense_91_loss: 0.4197 - val_loss: 0.3881 - val_dense_90_loss: 0.3401 - val_dense_91_loss: 0.4391\n",
      "Epoch 49/200\n",
      "11610/11610 [==============================] - 1s 93us/sample - loss: 0.3759 - dense_90_loss: 0.3287 - dense_91_loss: 0.4206 - val_loss: 0.4083 - val_dense_90_loss: 0.3609 - val_dense_91_loss: 0.4552\n",
      "Epoch 50/200\n",
      "11610/11610 [==============================] - 1s 95us/sample - loss: 0.3737 - dense_90_loss: 0.3268 - dense_91_loss: 0.4165 - val_loss: 0.3871 - val_dense_90_loss: 0.3397 - val_dense_91_loss: 0.4362\n",
      "Epoch 51/200\n",
      "11610/11610 [==============================] - 1s 93us/sample - loss: 0.3726 - dense_90_loss: 0.3259 - dense_91_loss: 0.4171 - val_loss: 0.3993 - val_dense_90_loss: 0.3525 - val_dense_91_loss: 0.4428\n",
      "Epoch 52/200\n",
      "11610/11610 [==============================] - 1s 96us/sample - loss: 0.3709 - dense_90_loss: 0.3245 - dense_91_loss: 0.4131 - val_loss: 0.3839 - val_dense_90_loss: 0.3369 - val_dense_91_loss: 0.4301\n",
      "Epoch 53/200\n",
      "11610/11610 [==============================] - 1s 95us/sample - loss: 0.3734 - dense_90_loss: 0.3271 - dense_91_loss: 0.4149 - val_loss: 0.4017 - val_dense_90_loss: 0.3551 - val_dense_91_loss: 0.4460\n",
      "Epoch 54/200\n",
      "11610/11610 [==============================] - 1s 95us/sample - loss: 0.3731 - dense_90_loss: 0.3268 - dense_91_loss: 0.4148 - val_loss: 0.3933 - val_dense_90_loss: 0.3466 - val_dense_91_loss: 0.4394\n",
      "Epoch 55/200\n",
      "11610/11610 [==============================] - 1s 93us/sample - loss: 0.3693 - dense_90_loss: 0.3231 - dense_91_loss: 0.4111 - val_loss: 0.3934 - val_dense_90_loss: 0.3467 - val_dense_91_loss: 0.4416\n",
      "Epoch 56/200\n",
      "11610/11610 [==============================] - 1s 93us/sample - loss: 0.3711 - dense_90_loss: 0.3253 - dense_91_loss: 0.4118 - val_loss: 0.3970 - val_dense_90_loss: 0.3509 - val_dense_91_loss: 0.4414\n",
      "Epoch 57/200\n",
      "11610/11610 [==============================] - 1s 96us/sample - loss: 0.3702 - dense_90_loss: 0.3244 - dense_91_loss: 0.4113 - val_loss: 0.3803 - val_dense_90_loss: 0.3338 - val_dense_91_loss: 0.4286\n",
      "Epoch 58/200\n",
      "11610/11610 [==============================] - 1s 94us/sample - loss: 0.3707 - dense_90_loss: 0.3253 - dense_91_loss: 0.4109 - val_loss: 0.3868 - val_dense_90_loss: 0.3403 - val_dense_91_loss: 0.4362\n",
      "Epoch 59/200\n",
      "11610/11610 [==============================] - 1s 93us/sample - loss: 0.3677 - dense_90_loss: 0.3221 - dense_91_loss: 0.4093 - val_loss: 0.3980 - val_dense_90_loss: 0.3517 - val_dense_91_loss: 0.4465\n",
      "Epoch 60/200\n",
      "11610/11610 [==============================] - ETA: 0s - loss: 0.3676 - dense_90_loss: 0.3223 - dense_91_loss: 0.4076- ETA: 0s - loss: 0.3592 - dense_90_loss: 0.3136 - dense_91_loss - 1s 93us/sample - loss: 0.3671 - dense_90_loss: 0.3218 - dense_91_loss: 0.4074 - val_loss: 0.3845 - val_dense_90_loss: 0.3386 - val_dense_91_loss: 0.4304\n",
      "Epoch 61/200\n",
      "11610/11610 [==============================] - 1s 95us/sample - loss: 0.3675 - dense_90_loss: 0.3222 - dense_91_loss: 0.4080 - val_loss: 0.3838 - val_dense_90_loss: 0.3384 - val_dense_91_loss: 0.4268\n",
      "Epoch 62/200\n",
      "11610/11610 [==============================] - 1s 95us/sample - loss: 0.3667 - dense_90_loss: 0.3217 - dense_91_loss: 0.4080 - val_loss: 0.3908 - val_dense_90_loss: 0.3450 - val_dense_91_loss: 0.4379\n",
      "Epoch 63/200\n",
      "11610/11610 [==============================] - 1s 93us/sample - loss: 0.3659 - dense_90_loss: 0.3210 - dense_91_loss: 0.4056 - val_loss: 0.3848 - val_dense_90_loss: 0.3394 - val_dense_91_loss: 0.4293\n",
      "Epoch 64/200\n",
      "11610/11610 [==============================] - 1s 98us/sample - loss: 0.3660 - dense_90_loss: 0.3211 - dense_91_loss: 0.4063 - val_loss: 0.3945 - val_dense_90_loss: 0.3491 - val_dense_91_loss: 0.4403\n",
      "Epoch 65/200\n",
      "11610/11610 [==============================] - 1s 100us/sample - loss: 0.3638 - dense_90_loss: 0.3190 - dense_91_loss: 0.4046 - val_loss: 0.3795 - val_dense_90_loss: 0.3342 - val_dense_91_loss: 0.4254\n",
      "Epoch 66/200\n",
      "11610/11610 [==============================] - 1s 101us/sample - loss: 0.3629 - dense_90_loss: 0.3182 - dense_91_loss: 0.4042 - val_loss: 0.3944 - val_dense_90_loss: 0.3489 - val_dense_91_loss: 0.4427\n",
      "Epoch 67/200\n",
      "11610/11610 [==============================] - 1s 97us/sample - loss: 0.3662 - dense_90_loss: 0.3218 - dense_91_loss: 0.4060 - val_loss: 0.3919 - val_dense_90_loss: 0.3472 - val_dense_91_loss: 0.4340\n",
      "Epoch 68/200\n",
      "11610/11610 [==============================] - 1s 104us/sample - loss: 0.3633 - dense_90_loss: 0.3189 - dense_91_loss: 0.4022 - val_loss: 0.3758 - val_dense_90_loss: 0.3309 - val_dense_91_loss: 0.4204: 0.3525 - dense_90_loss: 0.3078 - dense_91_loss\n",
      "Epoch 69/200\n",
      "11610/11610 [==============================] - 1s 95us/sample - loss: 0.3627 - dense_90_loss: 0.3187 - dense_91_loss: 0.4008 - val_loss: 0.3797 - val_dense_90_loss: 0.3350 - val_dense_91_loss: 0.4236\n",
      "Epoch 70/200\n",
      "11610/11610 [==============================] - 1s 106us/sample - loss: 0.3649 - dense_90_loss: 0.3208 - dense_91_loss: 0.4039 - val_loss: 0.3746 - val_dense_90_loss: 0.3300 - val_dense_91_loss: 0.4182\n",
      "Epoch 71/200\n",
      "11610/11610 [==============================] - 1s 98us/sample - loss: 0.3621 - dense_90_loss: 0.3180 - dense_91_loss: 0.4005 - val_loss: 0.4038 - val_dense_90_loss: 0.3596 - val_dense_91_loss: 0.4445\n",
      "Epoch 72/200\n",
      "11610/11610 [==============================] - 1s 93us/sample - loss: 0.3645 - dense_90_loss: 0.3206 - dense_91_loss: 0.4028 - val_loss: 0.3787 - val_dense_90_loss: 0.3342 - val_dense_91_loss: 0.4235\n",
      "Epoch 73/200\n",
      "11610/11610 [==============================] - 1s 100us/sample - loss: 0.3613 - dense_90_loss: 0.3175 - dense_91_loss: 0.3993 - val_loss: 0.3802 - val_dense_90_loss: 0.3361 - val_dense_91_loss: 0.4209\n",
      "Epoch 74/200\n",
      "11610/11610 [==============================] - 1s 95us/sample - loss: 0.3605 - dense_90_loss: 0.3169 - dense_91_loss: 0.3987 - val_loss: 0.3886 - val_dense_90_loss: 0.3447 - val_dense_91_loss: 0.4300\n",
      "Epoch 75/200\n",
      "11610/11610 [==============================] - 1s 94us/sample - loss: 0.3608 - dense_90_loss: 0.3174 - dense_91_loss: 0.3988 - val_loss: 0.4028 - val_dense_90_loss: 0.3592 - val_dense_91_loss: 0.4422\n",
      "Epoch 76/200\n",
      "11610/11610 [==============================] - 1s 96us/sample - loss: 0.3599 - dense_90_loss: 0.3164 - dense_91_loss: 0.3990 - val_loss: 0.3780 - val_dense_90_loss: 0.3341 - val_dense_91_loss: 0.4207\n",
      "Epoch 77/200\n",
      "11610/11610 [==============================] - 1s 93us/sample - loss: 0.3607 - dense_90_loss: 0.3174 - dense_91_loss: 0.3989 - val_loss: 0.3857 - val_dense_90_loss: 0.3425 - val_dense_91_loss: 0.4228\n",
      "Epoch 78/200\n",
      "11610/11610 [==============================] - 1s 99us/sample - loss: 0.3617 - dense_90_loss: 0.3184 - dense_91_loss: 0.3997 - val_loss: 0.3735 - val_dense_90_loss: 0.3297 - val_dense_91_loss: 0.4170\n",
      "Epoch 79/200\n",
      "11610/11610 [==============================] - 1s 94us/sample - loss: 0.3593 - dense_90_loss: 0.3163 - dense_91_loss: 0.3973 - val_loss: 0.4189 - val_dense_90_loss: 0.3763 - val_dense_91_loss: 0.4517\n",
      "Epoch 80/200\n",
      "11610/11610 [==============================] - 1s 93us/sample - loss: 0.3594 - dense_90_loss: 0.3163 - dense_91_loss: 0.3974 - val_loss: 0.3712 - val_dense_90_loss: 0.3278 - val_dense_91_loss: 0.4133\n",
      "Epoch 81/200\n",
      "11610/11610 [==============================] - 1s 95us/sample - loss: 0.3588 - dense_90_loss: 0.3158 - dense_91_loss: 0.3965 - val_loss: 0.3785 - val_dense_90_loss: 0.3356 - val_dense_91_loss: 0.4161\n",
      "Epoch 82/200\n",
      "11610/11610 [==============================] - 1s 92us/sample - loss: 0.3586 - dense_90_loss: 0.3156 - dense_91_loss: 0.3967 - val_loss: 0.3758 - val_dense_90_loss: 0.3325 - val_dense_91_loss: 0.4172\n",
      "Epoch 83/200\n",
      "11610/11610 [==============================] - 1s 98us/sample - loss: 0.3585 - dense_90_loss: 0.3156 - dense_91_loss: 0.3969 - val_loss: 0.3737 - val_dense_90_loss: 0.3307 - val_dense_91_loss: 0.4144\n",
      "Epoch 84/200\n",
      "11610/11610 [==============================] - 1s 97us/sample - loss: 0.3557 - dense_90_loss: 0.3130 - dense_91_loss: 0.3929 - val_loss: 0.3777 - val_dense_90_loss: 0.3343 - val_dense_91_loss: 0.4217\n",
      "Epoch 85/200\n",
      "11610/11610 [==============================] - 1s 94us/sample - loss: 0.3579 - dense_90_loss: 0.3154 - dense_91_loss: 0.3951 - val_loss: 0.3670 - val_dense_90_loss: 0.3240 - val_dense_91_loss: 0.4095\n",
      "Epoch 86/200\n",
      "11610/11610 [==============================] - 1s 96us/sample - loss: 0.3565 - dense_90_loss: 0.3140 - dense_91_loss: 0.3932 - val_loss: 0.3681 - val_dense_90_loss: 0.3252 - val_dense_91_loss: 0.4091\n",
      "Epoch 87/200\n",
      "11610/11610 [==============================] - 1s 97us/sample - loss: 0.3542 - dense_90_loss: 0.3118 - dense_91_loss: 0.3922 - val_loss: 0.4082 - val_dense_90_loss: 0.3653 - val_dense_91_loss: 0.4509\n",
      "Epoch 88/200\n",
      "11610/11610 [==============================] - 1s 94us/sample - loss: 0.3564 - dense_90_loss: 0.3142 - dense_91_loss: 0.3933 - val_loss: 0.3782 - val_dense_90_loss: 0.3353 - val_dense_91_loss: 0.4217\n",
      "Epoch 89/200\n",
      "11610/11610 [==============================] - 1s 95us/sample - loss: 0.3578 - dense_90_loss: 0.3155 - dense_91_loss: 0.3957 - val_loss: 0.3697 - val_dense_90_loss: 0.3270 - val_dense_91_loss: 0.4121\n",
      "Epoch 90/200\n",
      "11610/11610 [==============================] - 1s 93us/sample - loss: 0.3565 - dense_90_loss: 0.3142 - dense_91_loss: 0.3944 - val_loss: 0.3840 - val_dense_90_loss: 0.3415 - val_dense_91_loss: 0.4248\n",
      "Epoch 91/200\n",
      "11610/11610 [==============================] - 1s 94us/sample - loss: 0.3570 - dense_90_loss: 0.3151 - dense_91_loss: 0.3934 - val_loss: 0.3774 - val_dense_90_loss: 0.3352 - val_dense_91_loss: 0.4173\n",
      "Epoch 92/200\n",
      "11610/11610 [==============================] - 1s 95us/sample - loss: 0.3547 - dense_90_loss: 0.3127 - dense_91_loss: 0.3925 - val_loss: 0.3761 - val_dense_90_loss: 0.3337 - val_dense_91_loss: 0.4177: 0.3563 - dense_90_loss: 0.3146 - dense_91_loss: 0\n",
      "Epoch 93/200\n",
      "11610/11610 [==============================] - 1s 96us/sample - loss: 0.3543 - dense_90_loss: 0.3125 - dense_91_loss: 0.3905 - val_loss: 0.3656 - val_dense_90_loss: 0.3234 - val_dense_91_loss: 0.4062\n",
      "Epoch 94/200\n",
      "11610/11610 [==============================] - 1s 98us/sample - loss: 0.3537 - dense_90_loss: 0.3120 - dense_91_loss: 0.3904 - val_loss: 0.3765 - val_dense_90_loss: 0.3344 - val_dense_91_loss: 0.4168\n",
      "Epoch 95/200\n",
      "11610/11610 [==============================] - 1s 92us/sample - loss: 0.3543 - dense_90_loss: 0.3125 - dense_91_loss: 0.3921 - val_loss: 0.3679 - val_dense_90_loss: 0.3261 - val_dense_91_loss: 0.4068\n",
      "Epoch 96/200\n",
      "11610/11610 [==============================] - 1s 94us/sample - loss: 0.3551 - dense_90_loss: 0.3137 - dense_91_loss: 0.3916 - val_loss: 0.3665 - val_dense_90_loss: 0.3247 - val_dense_91_loss: 0.4067\n",
      "Epoch 97/200\n",
      "11610/11610 [==============================] - 1s 93us/sample - loss: 0.3547 - dense_90_loss: 0.3134 - dense_91_loss: 0.3902 - val_loss: 0.4134 - val_dense_90_loss: 0.3726 - val_dense_91_loss: 0.4452\n",
      "Epoch 98/200\n",
      "11610/11610 [==============================] - 1s 93us/sample - loss: 0.3547 - dense_90_loss: 0.3133 - dense_91_loss: 0.3911 - val_loss: 0.3680 - val_dense_90_loss: 0.3264 - val_dense_91_loss: 0.4064\n",
      "Epoch 99/200\n",
      "11610/11610 [==============================] - 1s 93us/sample - loss: 0.3559 - dense_90_loss: 0.3145 - dense_91_loss: 0.3925 - val_loss: 0.3824 - val_dense_90_loss: 0.3407 - val_dense_91_loss: 0.4221\n",
      "Epoch 100/200\n",
      "11610/11610 [==============================] - 1s 97us/sample - loss: 0.3538 - dense_90_loss: 0.3126 - dense_91_loss: 0.3904 - val_loss: 0.3885 - val_dense_90_loss: 0.3468 - val_dense_91_loss: 0.4303\n",
      "Epoch 101/200\n",
      "11610/11610 [==============================] - 1s 95us/sample - loss: 0.3531 - dense_90_loss: 0.3120 - dense_91_loss: 0.3897 - val_loss: 0.3662 - val_dense_90_loss: 0.3248 - val_dense_91_loss: 0.4043: 0.3480 - dense_90_loss: 0.3067 - dense_91_loss: 0.\n",
      "Epoch 102/200\n",
      "11610/11610 [==============================] - 1s 93us/sample - loss: 0.3537 - dense_90_loss: 0.3127 - dense_91_loss: 0.3889 - val_loss: 0.3666 - val_dense_90_loss: 0.3253 - val_dense_91_loss: 0.4058\n",
      "Epoch 103/200\n",
      "11610/11610 [==============================] - 1s 93us/sample - loss: 0.3524 - dense_90_loss: 0.3116 - dense_91_loss: 0.3882 - val_loss: 0.3745 - val_dense_90_loss: 0.3334 - val_dense_91_loss: 0.4120\n"
     ]
    },
    {
     "data": {
      "image/png": "[encoded data removed]",
      "text/plain": [
       "<Figure size 864x576 with 1 Axes>"
      ]
     },
     "metadata": {
      "needs_background": "light"
     },
     "output_type": "display_data"
    },
    {
     "name": "stdout",
     "output_type": "stream",
     "text": [
      "5160/5160 [==============================] - 0s 67us/sample - loss: 0.3427 - dense_90_loss: 0.3001 - dense_91_loss: 0.3798\n",
      "\n",
      "\n",
      "mse total:  0.3427454639543859\n",
      "mse out:  0.3001442\n",
      "mse out_aux:  0.3797838\n"
     ]
    }
   ],
   "source": [
    "# compile - Train and Evaluate\n",
    "\n",
    "# Ponerle mas peso a la salida principal (0.9) y menos a la secundaria (0.1)\n",
    "# Recordar que el valor de error (loss) tendrá tanto de output y output_aux\n",
    "\n",
    "\n",
    "#model.compile(loss=['mse','mse'],loss_weights=[0.9,0.1],optimizer='sgd')\n",
    "model.compile(loss=['mse','mse'],\n",
    "              loss_weights=[0.9,0.1],\n",
    "              optimizer = keras.optimizers.SGD(learning_rate=0.1, momentum=0.9))\n",
    "\n",
    "\n",
    "\n",
    "# Generar datos para input \"a\" y \"b\"\n",
    "X_train_a, X_train_b = X_train_scaled[:,:5], X_train_scaled[:,2:]\n",
    "X_valid_a, X_valid_b = X_valid_scaled[:,:5], X_valid_scaled[:,2:]\n",
    "X_test_a, X_test_b = X_test_scaled[:,:5], X_test_scaled[:,2:]\n",
    "\n",
    "########################################\n",
    "\n",
    "# Callbacks : son funciones que permiten realizar checkeos o parar el bucle de entrenamiento\n",
    "\n",
    "### Creacion de Callback de Checkpoint, permite ir guardando los mejores modelos\n",
    "direccion = 'best_model.h5' # nombre de archivo a guardar modelo entrenado\n",
    "chk = keras.callbacks.ModelCheckpoint(direccion,save_best_only=True,verbose=2)\n",
    "\n",
    "#### Creacion de callback de Detener entrenamiento en caso no se evidencie mejoras\n",
    "stp = keras.callbacks.EarlyStopping(patience=20,mode='auto',min_delta=0,restore_best_weights=True,verbose=2)\n",
    "\n",
    "#########################################\n",
    "\n",
    "# fit - ajuste de modelo\n",
    "history = model.fit((X_train_a,X_train_b),\n",
    "                    (y_train,y_train),\n",
    "                    epochs=200, ## Ojo tiene valor alto gracias al uso de callbacks (CUIDADO!!!)\n",
    "                    batch_size = 64,\n",
    "                    shuffle=True, # mezclar las observaciones aleatoriamente\n",
    "                    callbacks=[chk,stp], ## se indican callbacks checkpoint & parada\n",
    "                    validation_data=((X_valid_a,X_valid_b),(y_valid,y_valid)))\n",
    "\n",
    "## Mediante el uso de Callback de Checkpoint se guarda el mejor modelo, ahora se lee dicho modelo de vuelta\n",
    "model = keras.models.load_model(direccion) ## leer mejor modelo guardado por Callback Checkpoint\n",
    "\n",
    "#######################################\n",
    "\n",
    "# Graficar historial de entrenamiento\n",
    "pd.DataFrame(history.history).plot(figsize=(10, 4))\n",
    "plt.grid(True)\n",
    "plt.gca().set_ylim(0, 1) # set the vertical range to [0-1]\n",
    "plt.show()\n",
    "\n",
    "# test de rendimiento - mse\n",
    "mse_total, mse_out, mse_out_aux = model.evaluate((X_test_a,X_test_b),(y_test,y_test))\n",
    "print('\\n\\nmse total: ',mse_total)\n",
    "print('mse out: ',mse_out)\n",
    "print('mse out_aux: ',mse_out_aux)\n",
    "\n",
    "# fin"
   ]
  },
  {
   "cell_type": "code",
   "execution_count": null,
   "metadata": {
    "code_folding": [
     0
    ],
    "hidden": true
   },
   "outputs": [],
   "source": [
    "# Cargar Modelo entrenado\n",
    "\n",
    "direccion = 'best_model.h5' # nombre de archivo a guardar modelo entrenado\n",
    "model = keras.models.load_model(direccion) ## leer mejor modelo guardado por Callback Checkpoint\n",
    "\n",
    "# fin"
   ]
  },
  {
   "cell_type": "code",
   "execution_count": 168,
   "metadata": {
    "ExecuteTime": {
     "end_time": "2021-01-10T04:59:14.473194Z",
     "start_time": "2021-01-10T04:59:13.834324Z"
    },
    "code_folding": [
     0
    ],
    "hidden": true,
    "scrolled": true
   },
   "outputs": [
    {
     "name": "stdout",
     "output_type": "stream",
     "text": [
      "5160/5160 [==============================] - 1s 102us/sample - loss: 0.3427 - dense_90_loss: 0.3001 - dense_91_loss: 0.3798\n",
      "\n",
      "\n",
      "mse total:    0.3427\n",
      "mse out:      0.3001\n",
      "mse out_aux:  0.3798\n",
      "\n",
      "\n",
      "  Real  -  Out  -  Out_aux\n",
      " 1.1250   0.4491   0.3701\n",
      " 3.7950   3.6550   3.3883\n",
      " 1.8410   2.2426   2.1289\n",
      " 2.0530   2.3739   2.2166\n",
      " 3.3500   3.2789   3.3577\n",
      " 1.9170   1.9203   1.9237\n",
      " 2.2640   2.3235   2.3185\n",
      " 2.7950   1.9933   1.9095\n",
      " 2.7010   3.0779   2.7914\n",
      " 0.8500   1.0288   0.8386\n",
      " 3.4090   3.6586   3.6775\n",
      " 1.7440   2.2135   2.0687\n",
      " 1.2800   1.3007   1.1399\n",
      " 2.5930   2.8360   3.0132\n",
      " 3.9350   2.7760   2.8357\n",
      " 0.5840   0.9696   0.9275\n",
      " 1.5630   0.8976   0.8495\n",
      " 5.0000   2.9734   2.9741\n",
      " 1.6560   1.6655   1.6365\n",
      " 1.6550   1.6312   1.1004\n",
      " 0.9960   1.3187   1.7537\n",
      " 2.1060   2.1611   2.0862\n",
      " 1.9990   2.4114   2.6721\n",
      " 0.7500   0.8190   0.7760\n",
      " 2.8670   3.3852   3.2105\n",
      " 1.8670   2.6081   2.3030\n",
      " 2.6130   3.3043   3.0162\n",
      " 4.0260   2.9122   3.2266\n",
      " 1.4690   1.2910   1.2021\n",
      " 0.5060   0.6030   0.8326\n"
     ]
    }
   ],
   "source": [
    "# Evaluate - Predict\n",
    "\n",
    "# Evaluar rendimiento de modelo\n",
    "mse_total, mse_out, mse_out_aux = model.evaluate((X_test_a,X_test_b),(y_test,y_test))\n",
    "print('\\n\\nmse total:   ',round(mse_total,4))\n",
    "print('mse out:     ',round(mse_out,4))\n",
    "print('mse out_aux: ',round(mse_out_aux,4))\n",
    "\n",
    "# Prediccion\n",
    "## Seleccionar algunas observaciones de manera aleatoria\n",
    "cantidad =30\n",
    "ii=np.random.randint(low = 0,high=X_test.shape[0],size=cantidad)\n",
    "X_a = X_test_a[ii]\n",
    "X_b = X_test_b[ii]\n",
    "yy = y_test[ii]\n",
    "\n",
    "y_pred, y_pred_aux = model.predict((X_a,X_b))\n",
    "\n",
    "print('\\n\\n  Real  -  Out  -  Out_aux')\n",
    "for a,b,c in zip(yy,y_pred,y_pred_aux):\n",
    "    print(' %3.4f   %3.4f   %3.4f' % (a,b,c))\n",
    "\n",
    "# fin"
   ]
  },
  {
   "cell_type": "markdown",
   "metadata": {
    "heading_collapsed": true
   },
   "source": [
    "# ANN - Transfer Learning (Reusar capas ya entrenadas)"
   ]
  },
  {
   "cell_type": "code",
   "execution_count": 33,
   "metadata": {
    "ExecuteTime": {
     "end_time": "2021-01-10T20:47:34.012938Z",
     "start_time": "2021-01-10T20:47:33.985013Z"
    },
    "code_folding": [
     0
    ],
    "hidden": true
   },
   "outputs": [
    {
     "name": "stdout",
     "output_type": "stream",
     "text": [
      "X_train shape:  (11610, 8)\n",
      "X_valid shape:  (11610, 8)\n",
      "X_test shape:  (11610, 8)\n",
      "\n",
      "-------------\n",
      "\n",
      "y_train shape:  (11610,)\n",
      "y_valid shape:  (11610,)\n",
      "y_test shape:  (11610,)\n"
     ]
    }
   ],
   "source": [
    "# cargar datos\n",
    "\n",
    "from sklearn.datasets import fetch_california_housing\n",
    "\n",
    "# cargar datos\n",
    "housing = fetch_california_housing()\n",
    "\n",
    "# dividir los datos en conjuntos\n",
    "X_train_full, X_test, y_train_full, y_test = train_test_split(housing.data, housing.target)\n",
    "X_train, X_valid, y_train, y_valid = train_test_split(X_train_full, y_train_full)\n",
    "\n",
    "# estandarizar los datos\n",
    "scaler = StandardScaler()\n",
    "X_train_s = scaler.fit_transform(X_train)\n",
    "X_valid_s = scaler.transform(X_valid)\n",
    "X_test_s = scaler.transform(X_test)\n",
    "\n",
    "print('X_train shape: ', X_train.shape)\n",
    "print('X_valid shape: ', X_train.shape)\n",
    "print('X_test shape: ', X_train.shape)\n",
    "print('\\n-------------\\n')\n",
    "print('y_train shape: ', y_train.shape)\n",
    "print('y_valid shape: ', y_train.shape)\n",
    "print('y_test shape: ', y_train.shape)\n",
    "\n",
    "# fin"
   ]
  },
  {
   "cell_type": "code",
   "execution_count": 34,
   "metadata": {
    "ExecuteTime": {
     "end_time": "2021-01-10T20:47:36.297076Z",
     "start_time": "2021-01-10T20:47:35.972421Z"
    },
    "code_folding": [
     0
    ],
    "hidden": true
   },
   "outputs": [
    {
     "name": "stdout",
     "output_type": "stream",
     "text": [
      "Model: \"model_1\"\n",
      "_________________________________________________________________\n",
      "Layer (type)                 Output Shape              Param #   \n",
      "=================================================================\n",
      "i (InputLayer)               [(None, 8)]               0         \n",
      "_________________________________________________________________\n",
      "h1 (Dense)                   (None, 80)                720       \n",
      "_________________________________________________________________\n",
      "h2 (Dense)                   (None, 50)                4050      \n",
      "_________________________________________________________________\n",
      "h3 (Dense)                   (None, 20)                1020      \n",
      "_________________________________________________________________\n",
      "out (Dense)                  (None, 1)                 21        \n",
      "=================================================================\n",
      "Total params: 5,811\n",
      "Trainable params: 5,811\n",
      "Non-trainable params: 0\n",
      "_________________________________________________________________\n"
     ]
    }
   ],
   "source": [
    "# modelo Inicial .... el transfer learning se realizará en los bloques de codigo posterio\n",
    "\n",
    "# RECORDAR !!!: el transfer learning es reutilizar las capas ya entrenadas de un modelo. En este punto aun\n",
    "# vamos a crear el modelo inicial para entrenar y reusar algunas de sus capas. \n",
    "\n",
    "\n",
    "# Nota: existen 03 regularizadores: kernel_regularizer / activity_regularizer / bias_regularizer\n",
    "# estos permiten agregar la regularizacion ya sea L1 o L2 ... otra debe ser creada como personalizada\n",
    "\n",
    "\n",
    "input=keras.layers.Input(shape=X_train.shape[1:],name='i')\n",
    "hidden1=keras.layers.Dense(80,name='h1',activation='selu',kernel_regularizer=keras.regularizers.l2(0.001))(input)\n",
    "hidden2=keras.layers.Dense(50,name='h2',activation='selu',kernel_regularizer=keras.regularizers.l2(0.001))(hidden1)\n",
    "hidden3=keras.layers.Dense(20,name='h3',activation='selu',kernel_regularizer=keras.regularizers.l2(0.001))(hidden2)\n",
    "output=keras.layers.Dense(1,name='out')(hidden3) # salida\n",
    "model=keras.models.Model(inputs=[input],outputs=[output]) ## definir entradas y salidas\n",
    "\n",
    "# ver resumen\n",
    "model.summary()\n",
    "\n",
    "# fin"
   ]
  },
  {
   "cell_type": "code",
   "execution_count": 12,
   "metadata": {
    "ExecuteTime": {
     "end_time": "2021-01-10T20:31:31.770129Z",
     "start_time": "2021-01-10T20:31:31.758161Z"
    },
    "code_folding": [
     0
    ],
    "hidden": true
   },
   "outputs": [
    {
     "data": {
      "text/plain": [
       "[<tensorflow.python.keras.engine.input_layer.InputLayer at 0x2ae65d20940>,\n",
       " <tensorflow.python.keras.layers.core.Dense at 0x2ae65d20f98>,\n",
       " <tensorflow.python.keras.layers.core.Dense at 0x2ae65d34e10>,\n",
       " <tensorflow.python.keras.layers.core.Dense at 0x2ae65d86860>,\n",
       " <tensorflow.python.keras.layers.core.Dense at 0x2ae65d34f98>]"
      ]
     },
     "execution_count": 12,
     "metadata": {},
     "output_type": "execute_result"
    }
   ],
   "source": [
    "# ver capas del modelo creado\n",
    "\n",
    "model.layers"
   ]
  },
  {
   "cell_type": "code",
   "execution_count": 35,
   "metadata": {
    "ExecuteTime": {
     "end_time": "2021-01-10T20:48:33.835649Z",
     "start_time": "2021-01-10T20:47:44.648703Z"
    },
    "code_folding": [
     0
    ],
    "hidden": true,
    "scrolled": true
   },
   "outputs": [
    {
     "name": "stdout",
     "output_type": "stream",
     "text": [
      "Train on 11610 samples, validate on 3870 samples\n",
      "Epoch 1/200\n",
      "11610/11610 [==============================] - 1s 117us/sample - loss: 0.6524 - val_loss: 0.8181\n",
      "Epoch 2/200\n",
      "11610/11610 [==============================] - 1s 79us/sample - loss: 0.5592 - val_loss: 0.5581\n",
      "Epoch 3/200\n",
      "11610/11610 [==============================] - 1s 76us/sample - loss: 0.5161 - val_loss: 1.2912\n",
      "Epoch 4/200\n",
      "11610/11610 [==============================] - 1s 76us/sample - loss: 0.5136 - val_loss: 0.5313\n",
      "Epoch 5/200\n",
      "11610/11610 [==============================] - 1s 75us/sample - loss: 0.4827 - val_loss: 0.6024\n",
      "Epoch 6/200\n",
      "11610/11610 [==============================] - 1s 79us/sample - loss: 0.4741 - val_loss: 0.4915\n",
      "Epoch 7/200\n",
      "11610/11610 [==============================] - 1s 80us/sample - loss: 0.4715 - val_loss: 0.5141- loss: 0.47\n",
      "Epoch 8/200\n",
      "11610/11610 [==============================] - 1s 79us/sample - loss: 0.4561 - val_loss: 0.4812\n",
      "Epoch 9/200\n",
      "11610/11610 [==============================] - 1s 81us/sample - loss: 0.4477 - val_loss: 0.4642\n",
      "Epoch 10/200\n",
      "11610/11610 [==============================] - 1s 80us/sample - loss: 0.4439 - val_loss: 0.4672\n",
      "Epoch 11/200\n",
      "11610/11610 [==============================] - 1s 80us/sample - loss: 0.4417 - val_loss: 0.4751\n",
      "Epoch 12/200\n",
      "11610/11610 [==============================] - 1s 81us/sample - loss: 0.4332 - val_loss: 0.4618\n",
      "Epoch 13/200\n",
      "11610/11610 [==============================] - 1s 78us/sample - loss: 0.4388 - val_loss: 0.4611\n",
      "Epoch 14/200\n",
      "11610/11610 [==============================] - 1s 74us/sample - loss: 0.4296 - val_loss: 0.4857\n",
      "Epoch 15/200\n",
      "11610/11610 [==============================] - 1s 79us/sample - loss: 0.4298 - val_loss: 0.5878\n",
      "Epoch 16/200\n",
      "11610/11610 [==============================] - 1s 74us/sample - loss: 0.4281 - val_loss: 0.4931\n",
      "Epoch 17/200\n",
      "11610/11610 [==============================] - 1s 73us/sample - loss: 0.4220 - val_loss: 0.4667\n",
      "Epoch 18/200\n",
      "11610/11610 [==============================] - 1s 75us/sample - loss: 0.4190 - val_loss: 0.4537\n",
      "Epoch 19/200\n",
      "11610/11610 [==============================] - 1s 81us/sample - loss: 0.4164 - val_loss: 0.4515\n",
      "Epoch 20/200\n",
      "11610/11610 [==============================] - 1s 74us/sample - loss: 0.4170 - val_loss: 0.4524\n",
      "Epoch 21/200\n",
      "11610/11610 [==============================] - 1s 80us/sample - loss: 0.4174 - val_loss: 0.4370\n",
      "Epoch 22/200\n",
      "11610/11610 [==============================] - 1s 80us/sample - loss: 0.4128 - val_loss: 0.4338\n",
      "Epoch 23/200\n",
      "11610/11610 [==============================] - 1s 77us/sample - loss: 0.4075 - val_loss: 0.4549\n",
      "Epoch 24/200\n",
      "11610/11610 [==============================] - 1s 77us/sample - loss: 0.4091 - val_loss: 0.4306\n",
      "Epoch 25/200\n",
      "11610/11610 [==============================] - 1s 73us/sample - loss: 0.4034 - val_loss: 0.4899\n",
      "Epoch 26/200\n",
      "11610/11610 [==============================] - 1s 75us/sample - loss: 0.4188 - val_loss: 0.4629\n",
      "Epoch 27/200\n",
      "11610/11610 [==============================] - 1s 76us/sample - loss: 0.4017 - val_loss: 0.4216\n",
      "Epoch 28/200\n",
      "11610/11610 [==============================] - 1s 76us/sample - loss: 0.4002 - val_loss: 0.4180\n",
      "Epoch 29/200\n",
      "11610/11610 [==============================] - 1s 74us/sample - loss: 0.3985 - val_loss: 0.4361\n",
      "Epoch 30/200\n",
      "11610/11610 [==============================] - 1s 78us/sample - loss: 0.3962 - val_loss: 0.4275\n",
      "Epoch 31/200\n",
      "11610/11610 [==============================] - 1s 78us/sample - loss: 0.3966 - val_loss: 0.4697\n",
      "Epoch 32/200\n",
      "11610/11610 [==============================] - 1s 77us/sample - loss: 0.3973 - val_loss: 0.4300\n",
      "Epoch 33/200\n",
      "11610/11610 [==============================] - 1s 76us/sample - loss: 0.3949 - val_loss: 0.4291\n",
      "Epoch 34/200\n",
      "11610/11610 [==============================] - 1s 76us/sample - loss: 0.3916 - val_loss: 0.4107\n",
      "Epoch 35/200\n",
      "11610/11610 [==============================] - 1s 77us/sample - loss: 0.3889 - val_loss: 0.4831\n",
      "Epoch 36/200\n",
      "11610/11610 [==============================] - 1s 79us/sample - loss: 0.3855 - val_loss: 0.4368\n",
      "Epoch 37/200\n",
      "11610/11610 [==============================] - 1s 81us/sample - loss: 0.3857 - val_loss: 0.4118\n",
      "Epoch 38/200\n",
      "11610/11610 [==============================] - 1s 79us/sample - loss: 0.3882 - val_loss: 0.4037\n",
      "Epoch 39/200\n",
      "11610/11610 [==============================] - 1s 74us/sample - loss: 0.3868 - val_loss: 0.4473\n",
      "Epoch 40/200\n",
      "11610/11610 [==============================] - 1s 71us/sample - loss: 0.3840 - val_loss: 0.4453\n",
      "Epoch 41/200\n",
      "11610/11610 [==============================] - 1s 75us/sample - loss: 0.3820 - val_loss: 0.4555\n",
      "Epoch 42/200\n",
      "11610/11610 [==============================] - 1s 75us/sample - loss: 0.3814 - val_loss: 0.3986\n",
      "Epoch 43/200\n",
      "11610/11610 [==============================] - 1s 74us/sample - loss: 0.3791 - val_loss: 0.4114\n",
      "Epoch 44/200\n",
      "11610/11610 [==============================] - 1s 74us/sample - loss: 0.3786 - val_loss: 0.3918\n",
      "Epoch 45/200\n",
      "11610/11610 [==============================] - 1s 76us/sample - loss: 0.3787 - val_loss: 0.4222\n",
      "Epoch 46/200\n",
      "11610/11610 [==============================] - 1s 73us/sample - loss: 0.3769 - val_loss: 0.3930\n",
      "Epoch 47/200\n",
      "11610/11610 [==============================] - 1s 72us/sample - loss: 0.3753 - val_loss: 0.4155\n",
      "Epoch 48/200\n",
      "11610/11610 [==============================] - 1s 70us/sample - loss: 0.3758 - val_loss: 0.3928\n",
      "Epoch 49/200\n",
      "11610/11610 [==============================] - 1s 74us/sample - loss: 0.3735 - val_loss: 0.4182\n",
      "Epoch 50/200\n",
      "11610/11610 [==============================] - 1s 76us/sample - loss: 0.3741 - val_loss: 0.3946\n",
      "Epoch 51/200\n",
      "11610/11610 [==============================] - 1s 75us/sample - loss: 0.3736 - val_loss: 0.4155\n",
      "Epoch 52/200\n",
      "11610/11610 [==============================] - 1s 79us/sample - loss: 0.3737 - val_loss: 0.4002\n",
      "Epoch 53/200\n",
      "11610/11610 [==============================] - 1s 76us/sample - loss: 0.3697 - val_loss: 0.3975\n",
      "Epoch 54/200\n",
      "11610/11610 [==============================] - ETA: 0s - loss: 0.3684- ETA: 0s - loss: 0.365 - ETA: 0s - loss: - ETA: 0s - loss: 0.366 - ETA: 0s - loss: 0.37 - 1s 77us/sample - loss: 0.3682 - val_loss: 0.3985\n"
     ]
    },
    {
     "data": {
      "image/png": "[encoded data removed]",
      "text/plain": [
       "<Figure size 864x576 with 1 Axes>"
      ]
     },
     "metadata": {
      "needs_background": "light"
     },
     "output_type": "display_data"
    },
    {
     "name": "stdout",
     "output_type": "stream",
     "text": [
      "5160/5160 [==============================] - 0s 48us/sample - loss: 0.3618\n",
      "\n",
      "\n",
      "mse total:  0.36181318533512974\n"
     ]
    }
   ],
   "source": [
    "# compile - Train and Evaluate\n",
    "\n",
    "# Ponerle mas peso a la salida principal (0.9) y menos a la secundaria (0.1)\n",
    "# Recordar que el valor de error (loss) tendrá tanto de output y output_aux\n",
    "\n",
    "#model.compile(loss='mse',optimizer='sgd')\n",
    "model.compile(loss='mse', optimizer = keras.optimizers.SGD(learning_rate=0.1, momentum=0.9))\n",
    "\n",
    "# Callbacks : son funciones que permiten realizar checkeos o parar el bucle de entrenamiento\n",
    "\n",
    "### Creacion de Callback de Checkpoint, permite ir guardando los mejores modelos\n",
    "direccion = 'best_model.h5' # nombre de archivo a guardar modelo entrenado\n",
    "\n",
    "chk = keras.callbacks.ModelCheckpoint(direccion,save_best_only=True,verbose=2)\n",
    "\n",
    "#### Creacion de callback de Detener entrenamiento en caso no se evidencie mejoras\n",
    "stp = keras.callbacks.EarlyStopping(patience=20,mode='auto',min_delta=0,restore_best_weights=True,verbose=2)\n",
    "\n",
    "#########################################\n",
    "\n",
    "# fit - ajuste de modelo\n",
    "history = model.fit((X_train_s),\n",
    "                    (y_train),\n",
    "                    epochs=200, ## Ojo tiene valor alto gracias al uso de callbacks (CUIDADO!!!)\n",
    "                    batch_size = 64,\n",
    "                    shuffle=True, # mezclar las observaciones aleatoriamente\n",
    "                    callbacks=[chk,stp], ## se indican callbacks checkpoint & parada\n",
    "                    validation_data=(X_valid_s,y_valid))\n",
    "\n",
    "## Mediante el uso de Callback de Checkpoint se guarda el mejor modelo, ahora se lee dicho modelo de vuelta\n",
    "model = keras.models.load_model(direccion) ## leer mejor modelo guardado por Callback Checkpoint\n",
    "\n",
    "#######################################\n",
    "\n",
    "# Graficar historial de entrenamiento\n",
    "pd.DataFrame(history.history).plot(figsize=(10, 4))\n",
    "plt.grid(True)\n",
    "plt.gca().set_ylim(0, 1) # set the vertical range to [0-1]\n",
    "plt.show()\n",
    "\n",
    "# test de rendimiento - mse\n",
    "mse_total = model.evaluate(X_test_s,y_test)\n",
    "print('\\n\\nmse total: ',mse_total)\n",
    "\n",
    "# fin"
   ]
  },
  {
   "cell_type": "code",
   "execution_count": null,
   "metadata": {
    "code_folding": [
     0
    ],
    "hidden": true
   },
   "outputs": [],
   "source": [
    "# Cargar Modelo entrenado\n",
    "\n",
    "direccion = 'best_model.h5' # nombre de archivo a guardar modelo entrenado\n",
    "model = keras.models.load_model(direccion) ## leer mejor modelo guardado por Callback Checkpoint\n",
    "\n",
    "# fin"
   ]
  },
  {
   "cell_type": "code",
   "execution_count": 36,
   "metadata": {
    "ExecuteTime": {
     "end_time": "2021-01-10T20:48:41.602264Z",
     "start_time": "2021-01-10T20:48:41.317900Z"
    },
    "code_folding": [
     0
    ],
    "hidden": true,
    "scrolled": true
   },
   "outputs": [
    {
     "name": "stdout",
     "output_type": "stream",
     "text": [
      "5160/5160 [==============================] - ETA: 0s - loss: 0.356 - 0s 37us/sample - loss: 0.3618\n",
      "\n",
      "\n",
      "mse total:    0.3618\n",
      "\n",
      "\n",
      "  Real  -  Out\n",
      " 0.7060   0.8833\n",
      " 2.3820   2.5954\n",
      " 2.9950   3.6170\n",
      " 1.3700   1.3940\n",
      " 2.4580   1.7134\n",
      " 1.4630   1.2943\n",
      " 1.7260   1.6293\n",
      " 1.0510   1.4483\n",
      " 3.2650   1.6502\n",
      " 2.0680   1.3680\n",
      " 0.5170   0.6162\n",
      " 1.6350   2.1047\n",
      " 5.0000   4.3628\n",
      " 1.2370   1.7424\n",
      " 1.9930   2.0959\n",
      " 1.1800   1.3127\n",
      " 0.7060   0.9131\n",
      " 2.7120   3.0979\n",
      " 1.5110   1.4077\n",
      " 0.9510   1.4917\n",
      " 2.0000   1.7799\n",
      " 2.8410   3.4895\n",
      " 1.6170   1.7094\n",
      " 1.8750   1.6765\n",
      " 2.1040   2.1629\n",
      " 2.5800   2.2623\n",
      " 2.5490   3.4891\n",
      " 1.4950   1.1457\n",
      " 1.0300   1.0743\n",
      " 2.2760   2.2083\n"
     ]
    }
   ],
   "source": [
    "# Evaluate - Predict\n",
    "\n",
    "# Evaluar rendimiento de modelo\n",
    "mse_total = model.evaluate(X_test_s,y_test)\n",
    "print('\\n\\nmse total:   ',round(mse_total,4))\n",
    "\n",
    "# Prediccion\n",
    "## Seleccionar algunas observaciones de manera aleatoria\n",
    "cantidad =30\n",
    "ii=np.random.randint(low = 0,high=X_test_s.shape[0],size=cantidad)\n",
    "X_s = X_test_s[ii]\n",
    "yy = y_test[ii]\n",
    "\n",
    "y_pred = model.predict(X_s)\n",
    "\n",
    "print('\\n\\n  Real  -  Out')\n",
    "for a,b in zip(yy,y_pred):\n",
    "    print(' %3.4f   %3.4f' % (a,b))\n",
    "\n",
    "# fin"
   ]
  },
  {
   "cell_type": "markdown",
   "metadata": {
    "hidden": true
   },
   "source": [
    "## Uso de Capas ya entrenadas - Agregar nuevas capas"
   ]
  },
  {
   "cell_type": "code",
   "execution_count": 16,
   "metadata": {
    "ExecuteTime": {
     "end_time": "2021-01-10T20:34:05.283295Z",
     "start_time": "2021-01-10T20:34:05.261356Z"
    },
    "code_folding": [
     0
    ],
    "hidden": true
   },
   "outputs": [
    {
     "data": {
      "image/png": "[encoded data removed]",
      "text/plain": [
       "<IPython.core.display.Image object>"
      ]
     },
     "execution_count": 16,
     "metadata": {},
     "output_type": "execute_result"
    }
   ],
   "source": [
    "# estructura modelo\n",
    "### Imagen extraida de : Aurélien Géron (O'Reilly) : Hands-on Machine Learning with Scikit-Learn, Keras, and TensorFlow\n",
    "Image(filename = \"Captura4.png\")"
   ]
  },
  {
   "cell_type": "markdown",
   "metadata": {
    "hidden": true
   },
   "source": [
    "## Clonar Modelo Entrenado"
   ]
  },
  {
   "cell_type": "code",
   "execution_count": 222,
   "metadata": {
    "ExecuteTime": {
     "end_time": "2021-02-08T03:17:05.108920Z",
     "start_time": "2021-02-08T03:17:04.513275Z"
    },
    "code_folding": [
     0
    ],
    "hidden": true
   },
   "outputs": [],
   "source": [
    "## extraer algunas capas del modelo deseado\n",
    "\n",
    "## models.clone_model() # clonar un modelo\n",
    "## models.load_model() # cargar modelo guardado en archivo\n",
    "## set_weights() -- get_weights()\n",
    "\n",
    "# cargar modelo entrenado\n",
    "model = keras.models.load_model('best_model.h5')\n",
    "\n",
    "# copiar arquitectura de modelo --- solo arqui., no copia valores entrenados\n",
    "model_a = keras.models.clone_model(model) ## leer mejor modelo guardado por Callback Checkpoint\n",
    "\n",
    "# copiar pesos del modelo entreanado original\n",
    "model_a.set_weights(model.get_weights()) ## pasar pesos del modelo \n",
    "\n",
    "# fin"
   ]
  },
  {
   "cell_type": "code",
   "execution_count": 38,
   "metadata": {
    "ExecuteTime": {
     "end_time": "2021-01-10T20:48:48.379613Z",
     "start_time": "2021-01-10T20:48:48.346243Z"
    },
    "code_folding": [
     0
    ],
    "hidden": true
   },
   "outputs": [
    {
     "name": "stdout",
     "output_type": "stream",
     "text": [
      "Model: \"sequential_5\"\n",
      "_________________________________________________________________\n",
      "Layer (type)                 Output Shape              Param #   \n",
      "=================================================================\n",
      "h1 (Dense)                   (None, 80)                720       \n",
      "_________________________________________________________________\n",
      "h2 (Dense)                   (None, 50)                4050      \n",
      "_________________________________________________________________\n",
      "outb (Dense)                 (None, 1)                 51        \n",
      "=================================================================\n",
      "Total params: 4,821\n",
      "Trainable params: 4,821\n",
      "Non-trainable params: 0\n",
      "_________________________________________________________________\n"
     ]
    }
   ],
   "source": [
    "# Seleccion de capas del modelo inicial\n",
    "\n",
    "model_b = keras.models.Sequential(model_a.layers[:-2]) ## todas las capas excepto 02 ultimas [:-2]\n",
    "model_b.add(keras.layers.Dense(1,name='outb'))\n",
    "\n",
    "model_b.summary()\n",
    "\n",
    "# fin"
   ]
  },
  {
   "cell_type": "code",
   "execution_count": 39,
   "metadata": {
    "ExecuteTime": {
     "end_time": "2021-01-10T20:48:51.721822Z",
     "start_time": "2021-01-10T20:48:51.705837Z"
    },
    "code_folding": [
     0
    ],
    "hidden": true
   },
   "outputs": [
    {
     "name": "stdout",
     "output_type": "stream",
     "text": [
      "Model: \"model_1\"\n",
      "_________________________________________________________________\n",
      "Layer (type)                 Output Shape              Param #   \n",
      "=================================================================\n",
      "i (InputLayer)               [(None, 8)]               0         \n",
      "_________________________________________________________________\n",
      "h1 (Dense)                   (None, 80)                720       \n",
      "_________________________________________________________________\n",
      "h2 (Dense)                   (None, 50)                4050      \n",
      "_________________________________________________________________\n",
      "h3 (Dense)                   (None, 20)                1020      \n",
      "_________________________________________________________________\n",
      "out (Dense)                  (None, 1)                 21        \n",
      "=================================================================\n",
      "Total params: 5,811\n",
      "Trainable params: 5,811\n",
      "Non-trainable params: 0\n",
      "_________________________________________________________________\n"
     ]
    }
   ],
   "source": [
    "# ver parametros del modelo inicial - antecedente a modelo_b\n",
    "\n",
    "model.summary() # modelo inicial \n",
    "\n",
    "# fin"
   ]
  },
  {
   "cell_type": "markdown",
   "metadata": {
    "hidden": true
   },
   "source": [
    "## Entrenar nuevo modelo con primeras capas ya entrenadas previamente"
   ]
  },
  {
   "cell_type": "code",
   "execution_count": 42,
   "metadata": {
    "ExecuteTime": {
     "end_time": "2021-01-10T20:53:12.786267Z",
     "start_time": "2021-01-10T20:52:38.316438Z"
    },
    "code_folding": [
     0
    ],
    "hidden": true,
    "scrolled": true
   },
   "outputs": [
    {
     "name": "stdout",
     "output_type": "stream",
     "text": [
      "\n",
      "--------------------------------\n",
      "Entrenar nuevas capas agregadas: \n",
      "Train on 11610 samples, validate on 3870 samples\n",
      "Epoch 1/50\n",
      "11610/11610 [==============================] - 1s 114us/sample - loss: 0.3308 - val_loss: 0.3643\n",
      "Epoch 2/50\n",
      "11610/11610 [==============================] - 1s 67us/sample - loss: 0.3293 - val_loss: 0.3536\n",
      "Epoch 3/50\n",
      "11610/11610 [==============================] - 1s 68us/sample - loss: 0.3298 - val_loss: 0.3511\n",
      "Epoch 4/50\n",
      "11610/11610 [==============================] - 1s 66us/sample - loss: 0.3279 - val_loss: 0.3595\n",
      "Epoch 5/50\n",
      "11610/11610 [==============================] - 1s 67us/sample - loss: 0.3296 - val_loss: 0.3561\n",
      "Epoch 6/50\n",
      "11610/11610 [==============================] - 1s 66us/sample - loss: 0.3287 - val_loss: 0.3476\n",
      "Epoch 7/50\n",
      "11610/11610 [==============================] - 1s 65us/sample - loss: 0.3297 - val_loss: 0.3549\n",
      "Epoch 8/50\n",
      "11610/11610 [==============================] - 1s 66us/sample - loss: 0.3277 - val_loss: 0.3480\n",
      "Epoch 9/50\n",
      "11610/11610 [==============================] - 1s 70us/sample - loss: 0.3282 - val_loss: 0.3525\n",
      "Epoch 10/50\n",
      "11610/11610 [==============================] - 1s 69us/sample - loss: 0.3288 - val_loss: 0.3461\n",
      "Epoch 11/50\n",
      "11610/11610 [==============================] - 1s 69us/sample - loss: 0.3292 - val_loss: 0.3481\n",
      "Epoch 12/50\n",
      "11610/11610 [==============================] - 1s 67us/sample - loss: 0.3285 - val_loss: 0.3542\n",
      "Epoch 13/50\n",
      "11610/11610 [==============================] - 1s 66us/sample - loss: 0.3265 - val_loss: 0.3736\n",
      "Epoch 14/50\n",
      "11610/11610 [==============================] - 1s 66us/sample - loss: 0.3273 - val_loss: 0.3559\n",
      "Epoch 15/50\n",
      "11610/11610 [==============================] - 1s 69us/sample - loss: 0.3273 - val_loss: 0.3501\n",
      "Epoch 16/50\n",
      "11610/11610 [==============================] - 1s 72us/sample - loss: 0.3288 - val_loss: 0.3533\n",
      "Epoch 17/50\n",
      "11610/11610 [==============================] - 1s 68us/sample - loss: 0.3276 - val_loss: 0.3484\n",
      "Epoch 18/50\n",
      "11610/11610 [==============================] - 1s 71us/sample - loss: 0.3258 - val_loss: 0.3633\n",
      "Epoch 19/50\n",
      "11610/11610 [==============================] - 1s 67us/sample - loss: 0.3261 - val_loss: 0.3574\n",
      "Epoch 20/50\n",
      "11610/11610 [==============================] - 1s 68us/sample - loss: 0.3248 - val_loss: 0.3918\n",
      "5160/5160 [==============================] - 0s 48us/sample - loss: 0.3184\n",
      "\n",
      "------------------------\n",
      "MSE total:  0.3184125918519589\n",
      "\n",
      "--------------------------------\n",
      "Entrenar modelo completo: \n",
      "Train on 11610 samples, validate on 3870 samples\n",
      "Epoch 1/100\n",
      "11610/11610 [==============================] - 1s 96us/sample - loss: 0.3751 - val_loss: 0.3950\n",
      "Epoch 2/100\n",
      "11610/11610 [==============================] - 1s 78us/sample - loss: 0.3624 - val_loss: 0.3971\n",
      "Epoch 3/100\n",
      "11610/11610 [==============================] - 1s 72us/sample - loss: 0.3491 - val_loss: 0.4038\n",
      "Epoch 4/100\n",
      "11610/11610 [==============================] - 1s 71us/sample - loss: 0.3527 - val_loss: 0.3784\n",
      "Epoch 5/100\n",
      "11610/11610 [==============================] - 1s 69us/sample - loss: 0.3473 - val_loss: 0.3829\n",
      "Epoch 6/100\n",
      "11610/11610 [==============================] - ETA: 0s - loss: 0.3432- ETA: 0s - loss - 1s 73us/sample - loss: 0.3467 - val_loss: 0.3570\n",
      "Epoch 7/100\n",
      "11610/11610 [==============================] - 1s 71us/sample - loss: 0.3487 - val_loss: 0.3818\n",
      "Epoch 8/100\n",
      "11610/11610 [==============================] - 1s 70us/sample - loss: 0.3435 - val_loss: 0.4330\n",
      "Epoch 9/100\n",
      "11610/11610 [==============================] - 1s 72us/sample - loss: 0.3426 - val_loss: 0.3979\n",
      "Epoch 10/100\n",
      "11610/11610 [==============================] - 1s 71us/sample - loss: 0.3436 - val_loss: 0.3489\n",
      "Epoch 11/100\n",
      "11610/11610 [==============================] - 1s 70us/sample - loss: 0.3418 - val_loss: 0.3647\n",
      "Epoch 12/100\n",
      "11610/11610 [==============================] - 1s 71us/sample - loss: 0.3399 - val_loss: 0.3576\n",
      "Epoch 13/100\n",
      "11610/11610 [==============================] - 1s 70us/sample - loss: 0.3413 - val_loss: 0.3873\n",
      "Epoch 14/100\n",
      "11610/11610 [==============================] - 1s 73us/sample - loss: 0.3424 - val_loss: 0.3548\n",
      "Epoch 15/100\n",
      "11610/11610 [==============================] - 1s 70us/sample - loss: 0.3408 - val_loss: 0.3832\n",
      "Epoch 16/100\n",
      "11610/11610 [==============================] - 1s 70us/sample - loss: 0.3397 - val_loss: 0.3686\n",
      "Epoch 17/100\n",
      "11610/11610 [==============================] - 1s 72us/sample - loss: 0.3411 - val_loss: 0.3740\n",
      "Epoch 18/100\n",
      "11610/11610 [==============================] - 1s 72us/sample - loss: 0.3386 - val_loss: 0.3512\n",
      "Epoch 19/100\n",
      "11610/11610 [==============================] - 1s 70us/sample - loss: 0.3352 - val_loss: 0.3577\n",
      "Epoch 20/100\n",
      "11610/11610 [==============================] - 1s 70us/sample - loss: 0.3402 - val_loss: 0.3744\n"
     ]
    },
    {
     "data": {
      "image/png": "[encoded data removed]",
      "text/plain": [
       "<Figure size 864x576 with 1 Axes>"
      ]
     },
     "metadata": {
      "needs_background": "light"
     },
     "output_type": "display_data"
    },
    {
     "name": "stdout",
     "output_type": "stream",
     "text": [
      "5160/5160 [==============================] - 0s 47us/sample - loss: 0.3184\n",
      "\n",
      "------------------------\n",
      "MSE total:  0.3184125918519589\n"
     ]
    }
   ],
   "source": [
    "# nuevo modelo\n",
    "\n",
    "############################### ADICIONAL REQUERIDO  #############################################\n",
    "### Creacion de Callback de Checkpoint, permite ir guardando los mejores modelos\n",
    "direccion = 'best_model_aux.h5' # nombre de archivo a guardar modelo entrenado\n",
    "\n",
    "chk = keras.callbacks.ModelCheckpoint(direccion,save_best_only=True)\n",
    "\n",
    "#### Creacion de callback de Detener entrenamiento en caso no se evidencie mejoras\n",
    "stp = keras.callbacks.EarlyStopping(patience=20,mode='auto',min_delta=0,restore_best_weights=True)\n",
    "\n",
    "##################################################################################################\n",
    "\n",
    "# Empezar\n",
    "\n",
    "#### CONGELAR CAPAS ######\n",
    "# Congelar las capas ya entrenadas: \n",
    "for layer in model_b.layers[:-2]:\n",
    "    layer.trainable = False\n",
    "\n",
    "################## Entrenar Capas agregadas #######################\n",
    "#model_b.compile(loss='mse',optimizer='sgd')\n",
    "model_b.compile(loss='mse', optimizer = keras.optimizers.SGD(learning_rate=0.1, momentum=0.9))\n",
    "\n",
    "\n",
    "print('\\n--------------------------------\\nEntrenar nuevas capas agregadas: ')\n",
    "history= model_b.fit(X_train_s,y_train,epochs=50,callbacks=[chk,stp],validation_data=(X_valid_s,y_valid))\n",
    "    \n",
    "## Mediante el uso de Callback de Checkpoint se guarda el mejor modelo, ahora se lee dicho modelo de vuelta\n",
    "model_b = keras.models.load_model(direccion) ## leer mejor modelo guardado por Callback Checkpoint\n",
    "\n",
    "# test de rendimiento de estado actual:\n",
    "mse_total = model_b.evaluate(X_test_s,y_test)\n",
    "print('\\n------------------------\\nMSE total: ',mse_total)\n",
    "\n",
    "\n",
    "############### Entrenar todo el modelo completo ###################\n",
    "\n",
    "#### DESCONGELAR CAPAS ###### \n",
    "# descongelar las capas: \n",
    "for layer in model_b.layers[:-2]:\n",
    "    layer.trainable = True\n",
    "\n",
    "model_b.compile(loss='mse',optimizer='sgd')\n",
    "print('\\n--------------------------------\\nEntrenar modelo completo: ')\n",
    "history= model_b.fit(X_train_s,y_train,\n",
    "                     epochs=100,\n",
    "                     batch_size=64,\n",
    "                     shuffle=True, # mezclar las observaciones aleatoriamente\n",
    "                     callbacks=[chk,stp],\n",
    "                     validation_data=(X_valid_s,y_valid))\n",
    "    \n",
    "## Mediante el uso de Callback de Checkpoint se guarda el mejor modelo, ahora se lee dicho modelo de vuelta\n",
    "model_b = keras.models.load_model(direccion) ## leer mejor modelo guardado por Callback Checkpoint\n",
    "\n",
    "###################################################################\n",
    "\n",
    "# Graficar historial de entrenamiento\n",
    "pd.DataFrame(history.history).plot(figsize=(10, 4))\n",
    "plt.grid(True)\n",
    "plt.gca().set_ylim(0, 1) # set the vertical range to [0-1]\n",
    "plt.show()\n",
    "\n",
    "# test de rendimiento - mse\n",
    "mse_total = model_b.evaluate(X_test_s,y_test)\n",
    "print('\\n------------------------\\nMSE total: ',mse_total)\n",
    "\n",
    "# fin"
   ]
  },
  {
   "cell_type": "markdown",
   "metadata": {
    "heading_collapsed": true
   },
   "source": [
    "# Optimizadores para entrenar ANN"
   ]
  },
  {
   "cell_type": "code",
   "execution_count": null,
   "metadata": {
    "code_folding": [
     0
    ],
    "hidden": true
   },
   "outputs": [],
   "source": [
    "# Optimizadores .... descenso de gradiente - Solo se enumeran\n",
    "\n",
    "# Momentum gradiente\n",
    "optimizer = keras.optimizers.SGD(lr=0.001,momentum=0.9) # aconsejable momentum=0.9\n",
    "\n",
    "# Nesterov- accelerated gradient\n",
    "optimizer = keras.optimizers.SGD(lr=0.001, momentum=0.9, nesterov=True)\n",
    "\n",
    "#### tanto momentum como Nesterov hacen un seguimiento al vector gradiente\n",
    "\n",
    "# RMSProp ---- (Es mejor que AdaGrad)\n",
    "optimizer = keras.optimizers.RMSprop(lr=0.001, rho=0.9) # aconsejable rho=0.9\n",
    "\n",
    "## AdaGrad y RMSProp hacen un seguimiento al modulo del gradiente\n",
    "\n",
    "# Adam : adaptive moment estimation == Momentum + RMSprop\n",
    "optimizer = keras.optimizers.Adam(lr=0.001, beta_1=0.9, beta_2=0.999)\n",
    "\n",
    "# fin"
   ]
  },
  {
   "cell_type": "markdown",
   "metadata": {
    "heading_collapsed": true
   },
   "source": [
    "# Learning Rate (lr)"
   ]
  },
  {
   "cell_type": "code",
   "execution_count": null,
   "metadata": {
    "code_folding": [
     0
    ],
    "hidden": true
   },
   "outputs": [],
   "source": [
    "## lr: learning rate\n",
    "\n",
    "# decaimiento de potencia\n",
    "optimizer = keras.optimizer.SGD(lr=0.01,decay=1e-4) ## agregar al optimizador el parametro \"decay\"\n",
    "# el parametro decay es el inverso de la cantidad de pasos para que decaiga en 1 unidad:\n",
    "# ejemplo: decay=1e-4 , inverso es 1e4 = 1000... si lr=X/1, luego de 1000 pasos, lr=X/2, luego de 1000 pasos, lr=X/3 ... y asi va bajando\n",
    "\n",
    "\n",
    "# Callback --- ajuste del lr\n",
    "lr_scheduler = keras.callbacks.ReduceLROnPlateau(factor=0.5,patience=5)\n",
    "# aqui se crea un callback que cada 5 pasos en caso no haya mejora en el modelo se multiplicará el\n",
    "# parametro de aprendizaje lr (learning rate) por el factor dado para ver si puede mejorar lr <- lr*factor\n",
    "\n",
    "\n",
    "# ejemplo de factor exponencial\n",
    "learning_rate = keras.optimizers.schedules.ExponentialDecay(0.001,15,0.1)\n",
    "optimizer = keras.optimizer.SGC(learning_rate)\n",
    "# significa que n0 = 0.001 (lr valor inicial) el (15,0.1) significa que cada 15 pasos el lr decrece en 0.1\n",
    "# es decir 0.001*(0.1)^(steps/15) ... el lr (0.001 inicialmente) decrece en un factor de 0.1 cada 15 pasos\n",
    "\n",
    "\n",
    "# fin"
   ]
  },
  {
   "cell_type": "markdown",
   "metadata": {
    "heading_collapsed": true
   },
   "source": [
    "# Regularizacion L1 y L2"
   ]
  },
  {
   "cell_type": "code",
   "execution_count": null,
   "metadata": {
    "code_folding": [
     0
    ],
    "hidden": true
   },
   "outputs": [],
   "source": [
    "## en Keras se tienen 03 tipos de regularizacion:\n",
    "\n",
    "# kernel_regularizer : regularizar los pesos de la capa (los pesos asociados)\n",
    "# bias_regularizer : regularizar el bias de la capa\n",
    "# activity_regularizer : regularizar la salida de la capa (solo las salidas de la capa)\n",
    "\n",
    "# Ejemplos:\n",
    "\n",
    "# añadir un regularizador del tipo L1 con valor 0.01\n",
    "keras.layers.Dense(kernel_regularizer=keras.regularizers.l1(0.01))\n",
    " \n",
    "# añadir un regularizador del tipo L2 con valor 0.05\n",
    "keras.layers.Dense(kernel_regularizer=keras.regularizers.l2(0.05))\n",
    "\n",
    "# añadir un regularizador del tipo L1 & L2 con l1=0.3 Y l2=0.8 \n",
    "keras.layers.Dense(kernel_regularizer=keras.regularizers.l1_l2(l1=0.3,l2=0.8))\n",
    "\n",
    "# fin"
   ]
  },
  {
   "cell_type": "markdown",
   "metadata": {
    "heading_collapsed": true
   },
   "source": [
    "# ANN  (Aplicando Drop Out)"
   ]
  },
  {
   "cell_type": "code",
   "execution_count": 46,
   "metadata": {
    "ExecuteTime": {
     "end_time": "2021-01-10T21:57:46.557588Z",
     "start_time": "2021-01-10T21:57:46.529661Z"
    },
    "code_folding": [
     0
    ],
    "hidden": true
   },
   "outputs": [
    {
     "name": "stdout",
     "output_type": "stream",
     "text": [
      "X_train shape:  (11610, 8)\n",
      "X_valid shape:  (11610, 8)\n",
      "X_test shape:  (11610, 8)\n",
      "\n",
      "-------------\n",
      "\n",
      "y_train shape:  (11610,)\n",
      "y_valid shape:  (11610,)\n",
      "y_test shape:  (11610,)\n"
     ]
    }
   ],
   "source": [
    "# cargar datos\n",
    "\n",
    "from sklearn.datasets import fetch_california_housing\n",
    "\n",
    "# cargar datos\n",
    "housing = fetch_california_housing()\n",
    "\n",
    "# dividir los datos en conjuntos\n",
    "X_train_full, X_test, y_train_full, y_test = train_test_split(housing.data, housing.target)\n",
    "X_train, X_valid, y_train, y_valid = train_test_split(X_train_full, y_train_full)\n",
    "\n",
    "# estandarizar los datos\n",
    "scaler = StandardScaler()\n",
    "X_train_s = scaler.fit_transform(X_train)\n",
    "X_valid_s = scaler.transform(X_valid)\n",
    "X_test_s = scaler.transform(X_test)\n",
    "\n",
    "print('X_train shape: ', X_train.shape)\n",
    "print('X_valid shape: ', X_valid.shape)\n",
    "print('X_test shape: ', X_test.shape)\n",
    "print('\\n-------------\\n')\n",
    "print('y_train shape: ', y_train.shape)\n",
    "print('y_valid shape: ', y_valid.shape)\n",
    "print('y_test shape: ', y_test.shape)\n",
    "\n",
    "# fin"
   ]
  },
  {
   "cell_type": "code",
   "execution_count": 53,
   "metadata": {
    "ExecuteTime": {
     "end_time": "2021-01-10T22:15:28.847786Z",
     "start_time": "2021-01-10T22:15:28.495299Z"
    },
    "code_folding": [
     0
    ],
    "hidden": true
   },
   "outputs": [
    {
     "name": "stdout",
     "output_type": "stream",
     "text": [
      "Model: \"model_5\"\n",
      "_________________________________________________________________\n",
      "Layer (type)                 Output Shape              Param #   \n",
      "=================================================================\n",
      "i (InputLayer)               [(None, 8)]               0         \n",
      "_________________________________________________________________\n",
      "d1 (Dropout)                 (None, 8)                 0         \n",
      "_________________________________________________________________\n",
      "h1 (Dense)                   (None, 80)                720       \n",
      "_________________________________________________________________\n",
      "d2 (Dropout)                 (None, 80)                0         \n",
      "_________________________________________________________________\n",
      "h2 (Dense)                   (None, 50)                4050      \n",
      "_________________________________________________________________\n",
      "d3 (Dropout)                 (None, 50)                0         \n",
      "_________________________________________________________________\n",
      "h3 (Dense)                   (None, 20)                1020      \n",
      "_________________________________________________________________\n",
      "out (Dense)                  (None, 1)                 21        \n",
      "=================================================================\n",
      "Total params: 5,811\n",
      "Trainable params: 5,811\n",
      "Non-trainable params: 0\n",
      "_________________________________________________________________\n"
     ]
    }
   ],
   "source": [
    "# modelo\n",
    "\n",
    "# Nota: existen 03 regularizadores: kernel_regularizer / activity_regularizer / bias_regularizer\n",
    "# estos permiten agregar la regularizacion ya sea L1 o L2 ... otra debe ser creada como personalizada\n",
    "\n",
    "# Se agrega la funcionalidad de entrenamiento mediante Drop-Out, mediante el cual con una probabilidad\n",
    "# definida por el rate (dentro del drop-out) se indica cuantas neuronas de la capa oculta se van a \"apagar\"\n",
    "# apagar la neurona significa que sus valores se ponen a 0 indiferente de las señales de entrada\n",
    "# se intenta lograr una mejor generalizacion mediante el uso de esta tecnica propuesta por Greoffrey Hinton\n",
    "\n",
    "#### IMPORTANTE ####\n",
    "# NOTA: El drop-Out solo se activa para el entrenamiento (fit), en la predicción no se aplica. \n",
    "\n",
    "\n",
    "input=keras.layers.Input(shape=X_train.shape[1:],name='i')\n",
    "d1 = keras.layers.Dropout(rate=0.2,name='d1')(input)\n",
    "hidden1=keras.layers.Dense(80,name='h1',activation='selu',kernel_regularizer=keras.regularizers.l2(0.001))(d1)\n",
    "d2 = keras.layers.Dropout(rate=0.2,name='d2')(hidden1)\n",
    "hidden2=keras.layers.Dense(50,name='h2',activation='selu',kernel_regularizer=keras.regularizers.l2(0.001))(d2)\n",
    "d3 = keras.layers.Dropout(rate=0.2,name='d3')(hidden2)\n",
    "hidden3=keras.layers.Dense(20,name='h3',activation='selu',kernel_regularizer=keras.regularizers.l2(0.001))(d3)\n",
    "output=keras.layers.Dense(1,name='out')(hidden3) # salida\n",
    "model=keras.models.Model(inputs=[input],outputs=[output]) ## definir entradas y salidas\n",
    "\n",
    "# ver resumen\n",
    "model.summary()\n",
    "\n",
    "# fin"
   ]
  },
  {
   "cell_type": "code",
   "execution_count": 13,
   "metadata": {
    "ExecuteTime": {
     "end_time": "2021-02-07T15:48:25.997765Z",
     "start_time": "2021-02-07T15:48:25.669177Z"
    },
    "code_folding": [
     0
    ],
    "hidden": true
   },
   "outputs": [
    {
     "name": "stdout",
     "output_type": "stream",
     "text": [
      "Model: \"model\"\n",
      "_________________________________________________________________\n",
      "Layer (type)                 Output Shape              Param #   \n",
      "=================================================================\n",
      "i (InputLayer)               [(None, 784)]             0         \n",
      "_________________________________________________________________\n",
      "h1 (Dense)                   (None, 80)                62800     \n",
      "_________________________________________________________________\n",
      "h2 (Dense)                   (None, 50)                4050      \n",
      "_________________________________________________________________\n",
      "h3 (Dense)                   (None, 20)                1020      \n",
      "_________________________________________________________________\n",
      "out (Dense)                  (None, 1)                 21        \n",
      "=================================================================\n",
      "Total params: 67,891\n",
      "Trainable params: 67,891\n",
      "Non-trainable params: 0\n",
      "_________________________________________________________________\n"
     ]
    }
   ],
   "source": [
    "# comparar cantidad de parametros Con Dropout (arriba) vs Sin Dropout (aqui)\n",
    "\n",
    "input=keras.layers.Input(shape=X_train.shape[1:],name='i')\n",
    "hidden1=keras.layers.Dense(80,name='h1',activation='selu',kernel_regularizer=keras.regularizers.l2(0.001))(input)\n",
    "hidden2=keras.layers.Dense(50,name='h2',activation='selu',kernel_regularizer=keras.regularizers.l2(0.001))(hidden1)\n",
    "hidden3=keras.layers.Dense(20,name='h3',activation='selu',kernel_regularizer=keras.regularizers.l2(0.001))(hidden2)\n",
    "output=keras.layers.Dense(1,name='out')(hidden3) # salida\n",
    "model2=keras.models.Model(inputs=[input],outputs=[output]) ## definir entradas y salidas\n",
    "\n",
    "# ver resumen\n",
    "model2.summary()\n",
    "\n",
    "# fin"
   ]
  },
  {
   "cell_type": "code",
   "execution_count": 55,
   "metadata": {
    "ExecuteTime": {
     "end_time": "2021-01-10T22:15:36.483660Z",
     "start_time": "2021-01-10T22:15:36.478676Z"
    },
    "code_folding": [
     0
    ],
    "hidden": true
   },
   "outputs": [
    {
     "data": {
      "text/plain": [
       "[<tensorflow.python.keras.engine.input_layer.InputLayer at 0x2af027c5a90>,\n",
       " <tensorflow.python.keras.layers.core.Dropout at 0x2af027c57b8>,\n",
       " <tensorflow.python.keras.layers.core.Dense at 0x2aeffe5b240>,\n",
       " <tensorflow.python.keras.layers.core.Dropout at 0x2aeffe5b2b0>,\n",
       " <tensorflow.python.keras.layers.core.Dense at 0x2aeffe10dd8>,\n",
       " <tensorflow.python.keras.layers.core.Dropout at 0x2aeffe10ef0>,\n",
       " <tensorflow.python.keras.layers.core.Dense at 0x2af0578ff60>,\n",
       " <tensorflow.python.keras.layers.core.Dense at 0x2af0578fd68>]"
      ]
     },
     "execution_count": 55,
     "metadata": {},
     "output_type": "execute_result"
    }
   ],
   "source": [
    "# capas del modelo definido\n",
    "\n",
    "model.layers"
   ]
  },
  {
   "cell_type": "code",
   "execution_count": 58,
   "metadata": {
    "ExecuteTime": {
     "end_time": "2021-01-10T22:18:06.958605Z",
     "start_time": "2021-01-10T22:17:39.560347Z"
    },
    "code_folding": [
     0
    ],
    "hidden": true,
    "scrolled": true
   },
   "outputs": [
    {
     "name": "stdout",
     "output_type": "stream",
     "text": [
      "Train on 11610 samples, validate on 3870 samples\n",
      "Epoch 1/200\n",
      "11610/11610 [==============================] - 1s 118us/sample - loss: 0.6234 - val_loss: 0.4844\n",
      "Epoch 2/200\n",
      "11610/11610 [==============================] - 1s 81us/sample - loss: 0.6326 - val_loss: 0.4436\n",
      "Epoch 3/200\n",
      "11610/11610 [==============================] - 1s 78us/sample - loss: 0.6220 - val_loss: 0.4528\n",
      "Epoch 4/200\n",
      "11610/11610 [==============================] - 1s 80us/sample - loss: 0.6225 - val_loss: 0.6423\n",
      "Epoch 5/200\n",
      "11610/11610 [==============================] - 1s 80us/sample - loss: 0.6184 - val_loss: 0.5130\n",
      "Epoch 6/200\n",
      "11610/11610 [==============================] - 1s 79us/sample - loss: 0.6108 - val_loss: 0.4570\n",
      "Epoch 7/200\n",
      "11610/11610 [==============================] - 1s 78us/sample - loss: 0.6110 - val_loss: 0.4492: 0s - loss: 0\n",
      "Epoch 8/200\n",
      "11610/11610 [==============================] - 1s 80us/sample - loss: 0.6098 - val_loss: 0.4886\n",
      "Epoch 9/200\n",
      "11610/11610 [==============================] - 1s 83us/sample - loss: 0.6015 - val_loss: 0.5609\n",
      "Epoch 10/200\n",
      "11610/11610 [==============================] - 1s 86us/sample - loss: 0.6122 - val_loss: 0.4312\n",
      "Epoch 11/200\n",
      "11610/11610 [==============================] - 1s 82us/sample - loss: 0.6124 - val_loss: 0.4615\n",
      "Epoch 12/200\n",
      "11610/11610 [==============================] - ETA: 0s - loss: 0.602 - 1s 83us/sample - loss: 0.6035 - val_loss: 0.4950\n",
      "Epoch 13/200\n",
      "11610/11610 [==============================] - 1s 82us/sample - loss: 0.6073 - val_loss: 0.4761- loss: 0.6\n",
      "Epoch 14/200\n",
      "11610/11610 [==============================] - 1s 81us/sample - loss: 0.6001 - val_loss: 0.4290\n",
      "Epoch 15/200\n",
      "11610/11610 [==============================] - 1s 81us/sample - loss: 0.6050 - val_loss: 0.4929\n",
      "Epoch 16/200\n",
      "11610/11610 [==============================] - 1s 83us/sample - loss: 0.6090 - val_loss: 0.4287\n",
      "Epoch 17/200\n",
      "11610/11610 [==============================] - 1s 82us/sample - loss: 0.5977 - val_loss: 0.4338\n",
      "Epoch 18/200\n",
      "11610/11610 [==============================] - 1s 78us/sample - loss: 0.6057 - val_loss: 0.4442\n",
      "Epoch 19/200\n",
      "11610/11610 [==============================] - 1s 78us/sample - loss: 0.6037 - val_loss: 0.4358\n",
      "Epoch 20/200\n",
      "11610/11610 [==============================] - 1s 79us/sample - loss: 0.5907 - val_loss: 0.4300\n",
      "Epoch 21/200\n",
      "11610/11610 [==============================] - 1s 81us/sample - loss: 0.5822 - val_loss: 0.4472\n",
      "Epoch 22/200\n",
      "11610/11610 [==============================] - 1s 80us/sample - loss: 0.5947 - val_loss: 0.4578\n",
      "Epoch 23/200\n",
      "11610/11610 [==============================] - 1s 78us/sample - loss: 0.6001 - val_loss: 0.4640\n",
      "Epoch 24/200\n",
      "11610/11610 [==============================] - 1s 80us/sample - loss: 0.6033 - val_loss: 0.4365\n",
      "Epoch 25/200\n",
      "11610/11610 [==============================] - 1s 78us/sample - loss: 0.5911 - val_loss: 0.4803\n",
      "Epoch 26/200\n",
      "11610/11610 [==============================] - 1s 80us/sample - loss: 0.5889 - val_loss: 0.4542\n",
      "Epoch 27/200\n",
      "11610/11610 [==============================] - 1s 78us/sample - loss: 0.5945 - val_loss: 0.4599\n",
      "Epoch 28/200\n",
      "11610/11610 [==============================] - 1s 78us/sample - loss: 0.6001 - val_loss: 0.4389\n"
     ]
    },
    {
     "data": {
      "image/png": "[encoded data removed]",
      "text/plain": [
       "<Figure size 864x576 with 1 Axes>"
      ]
     },
     "metadata": {
      "needs_background": "light"
     },
     "output_type": "display_data"
    },
    {
     "name": "stdout",
     "output_type": "stream",
     "text": [
      "5160/5160 [==============================] - 0s 50us/sample - loss: 0.4117\n",
      "\n",
      "\n",
      "mse total:  0.41168227218842324\n"
     ]
    }
   ],
   "source": [
    "# compile - Train and Evaluate\n",
    "\n",
    "#model.compile(loss='mse',optimizer='sgd')\n",
    "model.compile(loss='mse', optimizer = keras.optimizers.SGD(learning_rate=0.1, momentum=0.9))\n",
    "\n",
    "# Callbacks : son funciones que permiten realizar checkeos o parar el bucle de entrenamiento\n",
    "\n",
    "### Creacion de Callback de Checkpoint, permite ir guardando los mejores modelos\n",
    "direccion = 'best_model_2.h5' # nombre de archivo a guardar modelo entrenado\n",
    "\n",
    "chk = keras.callbacks.ModelCheckpoint(direccion,save_best_only=True,verbose=2)\n",
    "\n",
    "#### Creacion de callback de Detener entrenamiento en caso no se evidencie mejoras\n",
    "stp = keras.callbacks.EarlyStopping(patience=20,mode='auto',min_delta=0,restore_best_weights=True,verbose=2)\n",
    "\n",
    "## Callabck de ajuste de learning rate (lr)\n",
    "lrs = keras.callbacks.ReduceLROnPlateau(factor=0.9,patience=8,verbose=2)\n",
    "\n",
    "\n",
    "#########################################\n",
    "\n",
    "# fit - ajuste de modelo\n",
    "history = model.fit((X_train_s),\n",
    "                    (y_train),\n",
    "                    epochs=200, ## Ojo tiene valor alto gracias al uso de callbacks (CUIDADO!!!)\n",
    "                    batch_size = 64,\n",
    "                    shuffle=True, # mezclar las observaciones aleatoriamente\n",
    "                    callbacks=[chk,stp,lrs], ## se indican callbacks checkpoint,parada y learning rate\n",
    "                    validation_data=(X_valid_s,y_valid))\n",
    "\n",
    "## Mediante el uso de Callback de Checkpoint se guarda el mejor modelo, ahora se lee dicho modelo de vuelta\n",
    "model = keras.models.load_model(direccion) ## leer mejor modelo guardado por Callback Checkpoint\n",
    "\n",
    "\n",
    "#######################################\n",
    "\n",
    "\n",
    "# Graficar historial de entrenamiento\n",
    "pd.DataFrame(history.history).plot(figsize=(10, 4))\n",
    "plt.grid(True)\n",
    "plt.gca().set_ylim(0, 1) # set the vertical range to [0-1]\n",
    "plt.show()\n",
    "\n",
    "\n",
    "# test de rendimiento - mse\n",
    "mse_total = model.evaluate(X_test_s,y_test)\n",
    "print('\\n\\nmse total: ',mse_total)\n",
    "\n",
    "\n",
    "# fin"
   ]
  },
  {
   "cell_type": "code",
   "execution_count": null,
   "metadata": {
    "code_folding": [
     0
    ],
    "hidden": true
   },
   "outputs": [],
   "source": [
    "# Cargar Modelo entrenado\n",
    "\n",
    "direccion = 'best_model_2.h5' # nombre de archivo a guardar modelo entrenado\n",
    "model = keras.models.load_model(direccion) ## leer mejor modelo guardado por Callback Checkpoint\n",
    "\n",
    "# fin"
   ]
  },
  {
   "cell_type": "code",
   "execution_count": 59,
   "metadata": {
    "ExecuteTime": {
     "end_time": "2021-01-10T22:18:11.042870Z",
     "start_time": "2021-01-10T22:18:10.739843Z"
    },
    "code_folding": [
     0
    ],
    "hidden": true,
    "scrolled": true
   },
   "outputs": [
    {
     "name": "stdout",
     "output_type": "stream",
     "text": [
      "5160/5160 [==============================] - 0s 42us/sample - loss: 0.4117\n",
      "\n",
      "\n",
      "mse total:    0.4117\n",
      "\n",
      "\n",
      "  Real  -  Out\n",
      " 0.9750   1.3835\n",
      " 1.7920   0.8502\n",
      " 3.6170   2.8637\n",
      " 4.1780   3.9250\n",
      " 1.3040   1.3230\n",
      " 4.9540   4.6615\n",
      " 1.9230   1.5741\n",
      " 2.6110   2.7228\n",
      " 3.2220   2.3279\n",
      " 1.2470   1.5703\n",
      " 3.0000   3.3783\n",
      " 1.3750   2.4128\n",
      " 1.1560   2.0192\n",
      " 2.5970   2.0741\n",
      " 1.0580   1.2187\n",
      " 1.1160   1.6159\n",
      " 2.4320   2.8199\n",
      " 5.0000   4.2771\n",
      " 0.9340   1.0826\n",
      " 2.2540   2.3405\n",
      " 0.7010   1.6861\n",
      " 1.3220   1.9014\n",
      " 2.1030   2.0315\n",
      " 1.1290   1.3234\n",
      " 1.2630   1.8940\n",
      " 1.0470   1.4391\n",
      " 1.1620   1.9263\n",
      " 1.0450   1.1680\n",
      " 1.8750   1.9034\n",
      " 2.1540   1.6437\n"
     ]
    }
   ],
   "source": [
    "# Evaluate - Predict\n",
    "\n",
    "# Evaluar rendimiento de modelo\n",
    "mse_total = model.evaluate(X_test_s,y_test)\n",
    "print('\\n\\nmse total:   ',round(mse_total,4))\n",
    "\n",
    "# Prediccion\n",
    "## Seleccionar algunas observaciones de manera aleatoria\n",
    "cantidad =30\n",
    "ii=np.random.randint(low = 0,high=X_test_s.shape[0],size=cantidad)\n",
    "X_s = X_test_s[ii]\n",
    "yy = y_test[ii]\n",
    "\n",
    "y_pred = model.predict(X_s)\n",
    "\n",
    "print('\\n\\n  Real  -  Out')\n",
    "for a,b in zip(yy,y_pred):\n",
    "    print(' %3.4f   %3.4f' % (a,b))\n",
    "\n",
    "# fin"
   ]
  }
 ],
 "metadata": {
  "kernelspec": {
   "display_name": "Python 3",
   "language": "python",
   "name": "python3"
  },
  "language_info": {
   "codemirror_mode": {
    "name": "ipython",
    "version": 3
   },
   "file_extension": ".py",
   "mimetype": "text/x-python",
   "name": "python",
   "nbconvert_exporter": "python",
   "pygments_lexer": "ipython3",
   "version": "3.8.10"
  },
  "latex_envs": {
   "LaTeX_envs_menu_present": true,
   "autoclose": false,
   "autocomplete": true,
   "bibliofile": "biblio.bib",
   "cite_by": "apalike",
   "current_citInitial": 1,
   "eqLabelWithNumbers": true,
   "eqNumInitial": 1,
   "hotkeys": {
    "equation": "Ctrl-E",
    "itemize": "Ctrl-I"
   },
   "labels_anchors": false,
   "latex_user_defs": false,
   "report_style_numbering": false,
   "user_envs_cfg": false
  },
  "toc": {
   "base_numbering": 1,
   "nav_menu": {},
   "number_sections": false,
   "sideBar": true,
   "skip_h1_title": false,
   "title_cell": "Table of Contents",
   "title_sidebar": "Contents",
   "toc_cell": false,
   "toc_position": {
    "height": "calc(100% - 180px)",
    "left": "10px",
    "top": "150px",
    "width": "295.683px"
   },
   "toc_section_display": false,
   "toc_window_display": true
  },
  "varInspector": {
   "cols": {
    "lenName": 16,
    "lenType": 16,
    "lenVar": 40
   },
   "kernels_config": {
    "python": {
     "delete_cmd_postfix": "",
     "delete_cmd_prefix": "del ",
     "library": "var_list.py",
     "varRefreshCmd": "print(var_dic_list())"
    },
    "r": {
     "delete_cmd_postfix": ") ",
     "delete_cmd_prefix": "rm(",
     "library": "var_list.r",
     "varRefreshCmd": "cat(var_dic_list()) "
    }
   },
   "position": {
    "height": "597.769px",
    "left": "759.244px",
    "right": "20px",
    "top": "120px",
    "width": "311.569px"
   },
   "types_to_exclude": [
    "module",
    "function",
    "builtin_function_or_method",
    "instance",
    "_Feature"
   ],
   "window_display": false
  }
 },
 "nbformat": 4,
 "nbformat_minor": 4
}

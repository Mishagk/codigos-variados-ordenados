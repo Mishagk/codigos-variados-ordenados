{
 "cells": [
  {
   "cell_type": "code",
   "execution_count": 1,
   "id": "08f165e7",
   "metadata": {
    "ExecuteTime": {
     "end_time": "2022-02-27T14:33:07.041952Z",
     "start_time": "2022-02-27T14:33:05.089615Z"
    },
    "code_folding": [
     0
    ]
   },
   "outputs": [],
   "source": [
    "# librerias\n",
    "\n",
    "import pandas as pd\n",
    "import numpy as np\n",
    "import collections as lc\n",
    "import itertools as li\n"
   ]
  },
  {
   "cell_type": "code",
   "execution_count": 5,
   "id": "2e3aa142",
   "metadata": {
    "ExecuteTime": {
     "end_time": "2022-02-27T14:36:53.870572Z",
     "start_time": "2022-02-27T14:36:53.862569Z"
    },
    "code_folding": [
     0
    ]
   },
   "outputs": [
    {
     "data": {
      "text/plain": [
       "{'a': {'c'},\n",
       " 'b': {'c', 'e'},\n",
       " 'c': {'a', 'b', 'd', 'e'},\n",
       " 'd': {'c'},\n",
       " 'e': {'b', 'c'},\n",
       " 'f': {}}"
      ]
     },
     "execution_count": 5,
     "metadata": {},
     "output_type": "execute_result"
    }
   ],
   "source": [
    "# definir un grafo\n",
    "\n",
    "# Informacion: Recordar que en un grafo se conectan nodos:  nodo_A -> nodo_B\n",
    "# en algunos casos no es lo mismo nodo_A -> nodo_B  != nodo_B -> nodo_A ... son nodos direccionados\n",
    "# también estan los grafos que no posee direccion de conexion\n",
    "\n",
    "\n",
    "### Grafos sin direccion ####\n",
    "# crear un nuevo grafo ... se indica \"nodo\" : \"nodos conectados\"\n",
    "# NOTA: en caso se tenga: \"nodo\": {} ; significa que es un nodo aislado, no posee ninguna conexion a otro nodo\n",
    "\n",
    "graph = { \"a\" : {\"c\"},\n",
    "          \"b\" : {\"c\", \"e\"},\n",
    "          \"c\" : {\"a\", \"b\", \"d\", \"e\"},\n",
    "          \"d\" : {\"c\"},\n",
    "          \"e\" : {\"c\", \"b\"},\n",
    "          \"f\" : {}\n",
    "}\n",
    "\n",
    "# Ver grafo\n",
    "graph"
   ]
  },
  {
   "cell_type": "code",
   "execution_count": 7,
   "id": "bfb8f1b9",
   "metadata": {
    "ExecuteTime": {
     "end_time": "2022-02-27T14:37:59.322950Z",
     "start_time": "2022-02-27T14:37:59.310953Z"
    },
    "code_folding": [
     0
    ]
   },
   "outputs": [
    {
     "data": {
      "text/plain": [
       "[{'a', 'c'},\n",
       " {'b', 'c'},\n",
       " {'b', 'e'},\n",
       " {'c', 'd'},\n",
       " {'a', 'c'},\n",
       " {'c', 'e'},\n",
       " {'b', 'c'},\n",
       " {'c', 'd'},\n",
       " {'c', 'e'},\n",
       " {'b', 'e'}]"
      ]
     },
     "execution_count": 7,
     "metadata": {},
     "output_type": "execute_result"
    }
   ],
   "source": [
    "# generar conexion entre nodos (sin direccion)\n",
    "\n",
    "# funcion para generar conexiones entre los nodos segun grafo (diccionario) indicado\n",
    "def generate_edges(g):\n",
    "    edges = []\n",
    "    for node in g:\n",
    "        for vecino in g[node]:\n",
    "            # agrega un conjunto (set()) .. no es diccionario es set\n",
    "            edges.append({node,vecino})\n",
    "    return edges\n",
    "\n",
    "# calcular las conexiones\n",
    "generate_edges(graph)"
   ]
  },
  {
   "cell_type": "code",
   "execution_count": 8,
   "id": "be573ea3",
   "metadata": {
    "ExecuteTime": {
     "end_time": "2022-02-27T14:38:15.873298Z",
     "start_time": "2022-02-27T14:38:15.864315Z"
    },
    "code_folding": [
     0
    ]
   },
   "outputs": [
    {
     "data": {
      "text/plain": [
       "{'f'}"
      ]
     },
     "execution_count": 8,
     "metadata": {},
     "output_type": "execute_result"
    }
   ],
   "source": [
    "# encontrar los nodos aislados\n",
    "\n",
    "# buscar nodos aislados , aquellos que no poseen conexion a ningun nodo\n",
    "def find_isolated_nodes(g):\n",
    "    isolated = set()\n",
    "    for node in g:\n",
    "        if not g[node]:\n",
    "            isolated.add(node)\n",
    "    return isolated\n",
    "\n",
    "find_isolated_nodes(graph)"
   ]
  },
  {
   "cell_type": "code",
   "execution_count": 13,
   "id": "033a4e21",
   "metadata": {
    "ExecuteTime": {
     "end_time": "2022-02-27T14:45:28.752517Z",
     "start_time": "2022-02-27T14:45:28.732495Z"
    },
    "code_folding": [
     0
    ]
   },
   "outputs": [],
   "source": [
    "# Clase para el maenjo de grafos\n",
    "\n",
    "# definir clase\n",
    "class Graph(object):\n",
    "    \n",
    "    # inicializar el grafo\n",
    "    def __init__(self, graph_dict=None):\n",
    "        # en caso no exista grafo aun\n",
    "        if(graph_dict is None):\n",
    "            graph_dict = {}\n",
    "        # en caso ya exista el grafo\n",
    "        self._graph_dict = graph_dict\n",
    "    \n",
    "    \n",
    "    # conexiones \n",
    "    def edges(self,vertice):\n",
    "        return self._graph_dict[vertice]\n",
    "    \n",
    "    \n",
    "    # extraer todos los nodos existentes en el grafo\n",
    "    def all_vertices(self):\n",
    "        return set(self._graph_dict.keys())\n",
    "    \n",
    "    \n",
    "    # extraer todas las conexiones del grafo\n",
    "    def all_edges(self):\n",
    "        return self.__generate_edges()\n",
    "    \n",
    "    \n",
    "    # añadir un nodo\n",
    "    def add_vertex(self,vertex):\n",
    "        if vertex not in self._graph_dict:\n",
    "            self._graph_dict[vertex]=[]\n",
    "    \n",
    "    \n",
    "    # añadir una conexion\n",
    "    def add_edge(self,edge):\n",
    "        edge = set(edge)\n",
    "        v1,v2 = tuple(edge)\n",
    "        for x,y in [(v1,v2),(v2,v1)]:\n",
    "            if x in self._graph_dict:\n",
    "                self._graph_dict[x].add(y)\n",
    "            else:\n",
    "                self._graph_dict[x] = {y}\n",
    "    \n",
    "    \n",
    "    # generar todas las conexiones\n",
    "    def __generate_edges(self):\n",
    "        edges = []\n",
    "        for vertex in self._graph_dict:\n",
    "            for vecino in self._graph_dict[vertex]:\n",
    "                if {vecino,vertex} not in edges:\n",
    "                    edges.append({vertex,vecino})\n",
    "        return edges\n",
    "    \n",
    "    \n",
    "    # crear elemento \"iterador\" para ir recorriendo elemento a elemento\n",
    "    def __iter__(self):\n",
    "        self.iter_obj = iter(self._graph_dict)\n",
    "        return self.iter_obj\n",
    "    \n",
    "    \n",
    "    # funcion que permite recorrer los elementos del \"iterador\" (previo)\n",
    "    def __next__(self):\n",
    "        return next(self.iter_obj)\n",
    "    \n",
    "    \n",
    "    # imprimir el grafo ... recordar esta es la funcion magica \"str\"\n",
    "    def __str__(self):\n",
    "        res = \"nodos: \"\n",
    "        for k in self._graph_dict:\n",
    "            res += str(k) + \" \"\n",
    "        res += \"\\nconexion: \"\n",
    "        for edge in self.__generate_edges():\n",
    "            res += str(edge) + \" \"\n",
    "        return res\n",
    "    \n",
    "    \n",
    "    # Encontrar el camino que va de \"nodo_inicio\" a \"nodo_fin\", encuentra los nodos del camino \n",
    "    def find_path(self,start_vertex, end_vertex, path=None):\n",
    "        \n",
    "        # si no hay camino --- condicion de inicio\n",
    "        if path == None:\n",
    "            # asignar lista vacia\n",
    "            path = []\n",
    "            \n",
    "        # variable para guardar el diccionario\n",
    "        graph = self._graph_dict\n",
    "        \n",
    "        # Se añade el punto de partida\n",
    "        path = path + [start_vertex]\n",
    "        \n",
    "        # en caso coincida el punto inicio y fin se retorna el camino encontrado\n",
    "        ### Condicion de final ###\n",
    "        if start_vertex == end_vertex:\n",
    "            return path\n",
    "        \n",
    "        # en caso el vertice de inicio no exista en el diccionario\n",
    "        ### Condicion de final ###\n",
    "        if start_vertex not in graph:\n",
    "            # regresa nada, porque no existe camino\n",
    "            return None\n",
    "        \n",
    "        # en otro caso, que si exista este vertice en el diccionario, recorre elementos\n",
    "        for vertex in graph[start_vertex]:\n",
    "            # en caso este vertice no exista en \"path\"\n",
    "            if vertex not in path:\n",
    "                \n",
    "                # encontrar el camino de este vertice hasta el final\n",
    "                ### Condicion de recurrencia ###\n",
    "                extended_path = self.find_path(vertex,end_vertex,path)\n",
    "                \n",
    "                if extended_path:\n",
    "                    # en caso de no ser vacio ... devolver dicho camino\n",
    "                    return extended_path\n",
    "                \n",
    "        # en otro caso devuelve vacio o nulo\n",
    "        return None\n",
    "    \n",
    "    \n",
    "    # Buscar todos los caminos o trayectorias que llevan de \"nodo_inicio\" a \"nodo_fin\"\n",
    "    def find_all_paths(self,start_vertex,end_vertex,path=[]):\n",
    "        \n",
    "        # guardar el diccionario con el grafo\n",
    "        graph = self._graph_dict\n",
    "        \n",
    "        # agregar el primer vertice al camino\n",
    "        path = path + [start_vertex]\n",
    "        \n",
    "        # en caso de ser igual el inicio al fin\n",
    "        ### Condicion de final ###\n",
    "        if start_vertex == end_vertex:\n",
    "            # retornar el camino hasta el momento\n",
    "            return [path]\n",
    "        \n",
    "        # en caso el vertice no este en el diccionario\n",
    "        ### Condicion de final ###\n",
    "        if start_vertex not in graph:\n",
    "            # no hay camino\n",
    "            return []\n",
    "        paths = []\n",
    "        \n",
    "        # recorrer los vertices segun diccionario\n",
    "        for vertex in graph[start_vertex]:\n",
    "            \n",
    "            # en caso el vertice no este en el camino actual\n",
    "            if vertex not in path:\n",
    "                \n",
    "                # calcular los caminos de este vertice hacia el final\n",
    "                ### Condicion de recurrencia ###\n",
    "                extended_paths = self.find_all_paths(vertex, end_vertex,path)\n",
    "                \n",
    "                # agregar los caminos encontrados \n",
    "                for p in extended_paths:\n",
    "                    paths.append(p)\n",
    "                    \n",
    "        # retornar los caminos encontrados\n",
    "        return paths\n",
    "\n",
    "# fin de definicion de clase"
   ]
  },
  {
   "cell_type": "code",
   "execution_count": 14,
   "id": "5496005f",
   "metadata": {
    "ExecuteTime": {
     "end_time": "2022-02-27T14:45:29.635958Z",
     "start_time": "2022-02-27T14:45:29.622954Z"
    },
    "code_folding": [
     0
    ],
    "scrolled": true
   },
   "outputs": [
    {
     "name": "stdout",
     "output_type": "stream",
     "text": [
      "Conexiones de nodos a:  {'d'}\n",
      "Conexiones de nodos b:  {'c'}\n",
      "Conexiones de nodos c:  {'e', 'd', 'c', 'b'}\n",
      "Conexiones de nodos d:  {'a', 'c'}\n",
      "Conexiones de nodos e:  {'c'}\n",
      "Conexiones de nodos f:  {}\n",
      "-----------------------------\n",
      "nodos: a b c d e f \n",
      "conexion: {'d', 'a'} {'c', 'b'} {'c', 'e'} {'d', 'c'} {'c'} \n",
      "Camino desde a a e :  ['a', 'd', 'c', 'e']\n",
      "Todos los caminos desde a a e :  ['a', 'd', 'c', 'e']\n",
      "-----------------------------\n",
      "Camino desde d a c :  ['d', 'c']\n",
      "All Paths from d a c :  ['d', 'c']\n",
      "-----------------------------\n",
      "Camino desde c a c :  ['c']\n",
      "Todos los caminos desde c a c :  ['c']\n"
     ]
    }
   ],
   "source": [
    "# usar la clase\n",
    "\n",
    "g = { \"a\" : {\"d\"},\n",
    "      \"b\" : {\"c\"},\n",
    "      \"c\" : {\"b\", \"c\", \"d\", \"e\"},\n",
    "      \"d\" : {\"a\", \"c\"},\n",
    "      \"e\" : {\"c\"},\n",
    "      \"f\" : {}\n",
    "    }\n",
    "\n",
    "graph = Graph(g)\n",
    "\n",
    "for vertice in graph:\n",
    "    print(f\"Conexiones de nodos {vertice}: \", graph.edges(vertice))\n",
    "print('-----------------------------')\n",
    "print(graph)\n",
    "\n",
    "v1 = 'a'   \n",
    "v2 = 'e'\n",
    "print('Camino desde ' + v1 + ' a ' + v2 + ' : ',graph.find_path(v1,v2))\n",
    "print('Todos los caminos desde ' + v1 + ' a ' + v2 + ' : ',graph.find_path(v1,v2))\n",
    "print('-----------------------------')\n",
    "\n",
    "v1 = 'd'   \n",
    "v2 = 'c'\n",
    "print('Camino desde ' + v1 + ' a ' + v2 + ' : ',graph.find_path(v1,v2))\n",
    "print('All Paths from ' + v1 + ' a ' + v2 + ' : ',graph.find_path(v1,v2))\n",
    "print('-----------------------------')\n",
    "\n",
    "v1 = 'c'   \n",
    "v2 = 'c'\n",
    "print('Camino desde ' + v1 + ' a ' + v2 + ' : ',graph.find_path(v1,v2))\n",
    "print('Todos los caminos desde ' + v1 + ' a ' + v2 + ' : ',graph.find_path(v1,v2))\n",
    "\n",
    "# fin"
   ]
  }
 ],
 "metadata": {
  "kernelspec": {
   "display_name": "Python 3",
   "language": "python",
   "name": "python3"
  },
  "language_info": {
   "codemirror_mode": {
    "name": "ipython",
    "version": 3
   },
   "file_extension": ".py",
   "mimetype": "text/x-python",
   "name": "python",
   "nbconvert_exporter": "python",
   "pygments_lexer": "ipython3",
   "version": "3.8.10"
  },
  "latex_envs": {
   "LaTeX_envs_menu_present": true,
   "autoclose": false,
   "autocomplete": true,
   "bibliofile": "biblio.bib",
   "cite_by": "apalike",
   "current_citInitial": 1,
   "eqLabelWithNumbers": true,
   "eqNumInitial": 1,
   "hotkeys": {
    "equation": "Ctrl-E",
    "itemize": "Ctrl-I"
   },
   "labels_anchors": false,
   "latex_user_defs": false,
   "report_style_numbering": false,
   "user_envs_cfg": false
  },
  "toc": {
   "base_numbering": 1,
   "nav_menu": {},
   "number_sections": true,
   "sideBar": true,
   "skip_h1_title": false,
   "title_cell": "Table of Contents",
   "title_sidebar": "Contents",
   "toc_cell": false,
   "toc_position": {},
   "toc_section_display": true,
   "toc_window_display": false
  },
  "varInspector": {
   "cols": {
    "lenName": 16,
    "lenType": 16,
    "lenVar": 40
   },
   "kernels_config": {
    "python": {
     "delete_cmd_postfix": "",
     "delete_cmd_prefix": "del ",
     "library": "var_list.py",
     "varRefreshCmd": "print(var_dic_list())"
    },
    "r": {
     "delete_cmd_postfix": ") ",
     "delete_cmd_prefix": "rm(",
     "library": "var_list.r",
     "varRefreshCmd": "cat(var_dic_list()) "
    }
   },
   "types_to_exclude": [
    "module",
    "function",
    "builtin_function_or_method",
    "instance",
    "_Feature"
   ],
   "window_display": false
  }
 },
 "nbformat": 4,
 "nbformat_minor": 5
}

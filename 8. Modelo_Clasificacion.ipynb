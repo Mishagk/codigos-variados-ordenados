{
 "cells": [
  {
   "cell_type": "markdown",
   "metadata": {},
   "source": [
    "El notebook tiene como objetivo presentar ejemplos de como aplicar modelos de clasificacion, al mismo que familiarizarse con las librerias mas comunes para ML como scikit"
   ]
  },
  {
   "cell_type": "markdown",
   "metadata": {
    "heading_collapsed": true
   },
   "source": [
    "# Librerias"
   ]
  },
  {
   "cell_type": "code",
   "execution_count": 2,
   "metadata": {
    "ExecuteTime": {
     "end_time": "2021-01-04T16:47:01.632744Z",
     "start_time": "2021-01-04T16:47:01.538014Z"
    },
    "code_folding": [
     0
    ],
    "hidden": true
   },
   "outputs": [],
   "source": [
    "## Conjunto de librerias a usar\n",
    "\n",
    "# Generales\n",
    "import pandas as pd\n",
    "import numpy as np\n",
    "import matplotlib as mpl\n",
    "import matplotlib.pyplot as plt\n",
    "import random\n",
    "import seaborn as sns\n",
    "import dill\n",
    "from IPython.display import Image  \n",
    "import pydotplus\n",
    "\n",
    "# Clonar modelos creados\n",
    "from sklearn.base import clone \n",
    "\n",
    "\n",
    "## Funciones/Classes para Modelos\n",
    "from sklearn.model_selection import GridSearchCV\n",
    "from sklearn.metrics import precision_recall_curve\n",
    "from sklearn.model_selection import GroupKFold\n",
    "from sklearn.model_selection import ShuffleSplit\n",
    "from sklearn.pipeline import Pipeline\n",
    "from sklearn.pipeline import make_pipeline\n",
    "from sklearn.ensemble import RandomForestClassifier\n",
    "from sklearn.model_selection import ShuffleSplit\n",
    "from sklearn.model_selection import KFold\n",
    "from sklearn.metrics import confusion_matrix\n",
    "from sklearn.metrics import classification_report\n",
    "from sklearn.metrics import roc_curve\n",
    "from sklearn.metrics import roc_auc_score\n",
    "from sklearn.model_selection import train_test_split\n",
    "from sklearn.metrics import f1_score\n",
    "from sklearn.model_selection import cross_val_score\n",
    "from sklearn.metrics import accuracy_score\n",
    "from sklearn.model_selection import cross_val_predict\n",
    "from sklearn.metrics import precision_recall_curve\n",
    "from sklearn import tree\n",
    "\n",
    "\n",
    "## Preprocesamiento\n",
    "from sklearn import preprocessing\n",
    "from sklearn.preprocessing import MinMaxScaler\n",
    "from sklearn.preprocessing import StandardScaler\n",
    "from sklearn.preprocessing import MaxAbsScaler\n",
    "from sklearn.preprocessing import RobustScaler\n",
    "\n",
    "\n",
    "# Conjunto de Datos a cargar\n",
    "from sklearn import datasets\n",
    "from sklearn.datasets import load_digits\n",
    "from sklearn.datasets import load_breast_cancer\n",
    "from sklearn.datasets import make_moons\n",
    "from sklearn.datasets import load_iris\n",
    "\n",
    "\n",
    "## Clasificadores \n",
    "from sklearn.linear_model import LogisticRegression\n",
    "from sklearn.linear_model import SGDClassifier\n",
    "from sklearn.ensemble import RandomForestClassifier\n",
    "from sklearn.neighbors import KNeighborsClassifier\n",
    "\n",
    "\n",
    "## librerias Regresion Lineal\n",
    "from sklearn.metrics import mean_squared_error\n",
    "from sklearn.linear_model import Ridge\n",
    "from sklearn.linear_model import Lasso\n",
    "from sklearn.preprocessing import PolynomialFeatures\n",
    "from sklearn.linear_model import SGDRegressor ## Stochastic gradient descent (alternativa Mini-Batch)\n",
    "from sklearn.linear_model import ElasticNet\n",
    "from sklearn.linear_model import LogisticRegression\n",
    "\n",
    "\n",
    "## IMPORTANTE: Libreria sklearn\n",
    "import sklearn as skl ## importar la libreria de sklearn como skl\n",
    "\n",
    "\n",
    "## SVM \n",
    "from sklearn.svm import LinearSVC # clasificacion\n",
    "from sklearn.svm import LinearSVR # regresion\n",
    "from sklearn.svm import SVC\n",
    "from sklearn.svm import SVR\n",
    "\n",
    "## Trees - Arboles de decisiones\n",
    "from sklearn.tree import DecisionTreeClassifier\n",
    "from sklearn.tree import export_graphviz\n",
    "\n",
    "\n",
    "## advertencias\n",
    "import warnings\n",
    "## Ignorar las advertencias\n",
    "warnings.filterwarnings('ignore')\n",
    "## warnings.filterwarnings('always') ## mostrar advertencias\n",
    "\n",
    "\n",
    "## fin"
   ]
  },
  {
   "cell_type": "markdown",
   "metadata": {
    "heading_collapsed": true
   },
   "source": [
    "# Modelo de Clasificacion"
   ]
  },
  {
   "cell_type": "code",
   "execution_count": 2,
   "metadata": {
    "ExecuteTime": {
     "end_time": "2021-01-03T22:01:45.947710Z",
     "start_time": "2021-01-03T22:01:07.189441Z"
    },
    "code_folding": [
     0
    ],
    "hidden": true
   },
   "outputs": [
    {
     "name": "stdout",
     "output_type": "stream",
     "text": [
      "(70000, 784)\n",
      "(70000,)\n"
     ]
    }
   ],
   "source": [
    "# cargar datos\n",
    "\n",
    "from sklearn.datasets import fetch_openml\n",
    "mnist = fetch_openml('mnist_784', version=1)\n",
    "\n",
    "# generar datos X-y\n",
    "X,y = mnist['data'],mnist['target']\n",
    "\n",
    "# ver dimensiones\n",
    "print(X.shape)\n",
    "print(y.shape)\n",
    "\n",
    "# fin"
   ]
  },
  {
   "cell_type": "markdown",
   "metadata": {
    "heading_collapsed": true,
    "hidden": true
   },
   "source": [
    "## Ejemplo 1"
   ]
  },
  {
   "cell_type": "code",
   "execution_count": 26,
   "metadata": {
    "ExecuteTime": {
     "end_time": "2021-01-03T22:11:01.612027Z",
     "start_time": "2021-01-03T22:11:01.516181Z"
    },
    "code_folding": [
     0
    ],
    "hidden": true,
    "scrolled": false
   },
   "outputs": [
    {
     "data": {
      "image/png": "[encoded data removed]",
      "text/plain": [
       "<Figure size 432x288 with 1 Axes>"
      ]
     },
     "metadata": {
      "needs_background": "light"
     },
     "output_type": "display_data"
    },
    {
     "name": "stdout",
     "output_type": "stream",
     "text": [
      "Valor de indice X[ii], valor ii: 58377\n",
      "valor target y: 1\n"
     ]
    }
   ],
   "source": [
    "# Seleccionar aleatoriamente una muestra y visualizar\n",
    "\n",
    "ii = random.randint(0,X.shape[0])\n",
    "\n",
    "digito_random = X[ii]\n",
    "digito = digito_random.reshape(28, 28) ## reshape\n",
    "\n",
    "plt.imshow(digito, interpolation='nearest')\n",
    "plt.show()\n",
    "\n",
    "print('Valor de indice X[ii], valor ii: {}'.format(ii))\n",
    "print('valor target y: {}'.format(y[ii]))\n",
    "\n",
    "#print('Matriz de la imagen:\\n\\n{}'.format(X[ii]))\n",
    "\n",
    "# fin"
   ]
  },
  {
   "cell_type": "code",
   "execution_count": 30,
   "metadata": {
    "ExecuteTime": {
     "end_time": "2021-01-03T22:19:39.417716Z",
     "start_time": "2021-01-03T22:17:45.073945Z"
    },
    "code_folding": [
     0
    ],
    "hidden": true
   },
   "outputs": [
    {
     "name": "stdout",
     "output_type": "stream",
     "text": [
      "Matriz de confusion:\n",
      "[[1633    0   31    3    3   21   19    0    5    0]\n",
      " [   0 1858   59    7    2   18    2    4   18    3]\n",
      " [   7   14 1669    4   15    9   14   19   33    2]\n",
      " [  13    4  122 1469    3   86    5   15   24   22]\n",
      " [   0    2   43   16 1527   13   10    8    8   49]\n",
      " [  28    3   33   50   20 1366   24    8   42   19]\n",
      " [  10    5   68    2   10   36 1570    2    7    0]\n",
      " [   5    6   57   10   22   13    2 1633    6   83]\n",
      " [  10   17  137   47   18  163   12   10 1263   36]\n",
      " [   1    6   36   44   75   43    0   67   17 1447]]\n"
     ]
    }
   ],
   "source": [
    "# Entrenar un modelo de clasificacion tipo SGD\n",
    "\n",
    "from sklearn.linear_model import SGDClassifier\n",
    "\n",
    "# Dividir en conjunto de train y testeo\n",
    "X_train,X_test, y_train, y_test = train_test_split(X,y,random_state=0)\n",
    "\n",
    "# definir modelo y ajustar (entrenar)\n",
    "sgd = SGDClassifier(random_state=42)\n",
    "sgd.fit(X_train,y_train)\n",
    "\n",
    "# Indicadores de rendimiento del clasificador\n",
    "print('Matriz de confusion:\\n{}'.format(confusion_matrix(y_test,sgd.predict(X_test))))\n",
    "\n",
    "print('\\n\\nReporte de Clasificacion: {}'.format(classification_report(y_test,sgd.predict(X_test))))\n",
    "# fin"
   ]
  },
  {
   "cell_type": "code",
   "execution_count": 33,
   "metadata": {
    "ExecuteTime": {
     "end_time": "2021-01-03T22:20:54.182539Z",
     "start_time": "2021-01-03T22:20:53.888834Z"
    },
    "code_folding": [
     0
    ],
    "hidden": true
   },
   "outputs": [
    {
     "name": "stdout",
     "output_type": "stream",
     "text": [
      "Matriz de confusion:\n",
      "[[1633    0   31    3    3   21   19    0    5    0]\n",
      " [   0 1858   59    7    2   18    2    4   18    3]\n",
      " [   7   14 1669    4   15    9   14   19   33    2]\n",
      " [  13    4  122 1469    3   86    5   15   24   22]\n",
      " [   0    2   43   16 1527   13   10    8    8   49]\n",
      " [  28    3   33   50   20 1366   24    8   42   19]\n",
      " [  10    5   68    2   10   36 1570    2    7    0]\n",
      " [   5    6   57   10   22   13    2 1633    6   83]\n",
      " [  10   17  137   47   18  163   12   10 1263   36]\n",
      " [   1    6   36   44   75   43    0   67   17 1447]]\n",
      "\n",
      "\n",
      "Reporte de Clasificacion:\n",
      "\n",
      "               precision    recall  f1-score   support\n",
      "\n",
      "           0       0.96      0.95      0.95      1715\n",
      "           1       0.97      0.94      0.96      1971\n",
      "           2       0.74      0.93      0.83      1786\n",
      "           3       0.89      0.83      0.86      1763\n",
      "           4       0.90      0.91      0.91      1676\n",
      "           5       0.77      0.86      0.81      1593\n",
      "           6       0.95      0.92      0.93      1710\n",
      "           7       0.92      0.89      0.91      1837\n",
      "           8       0.89      0.74      0.81      1713\n",
      "           9       0.87      0.83      0.85      1736\n",
      "\n",
      "    accuracy                           0.88     17500\n",
      "   macro avg       0.89      0.88      0.88     17500\n",
      "weighted avg       0.89      0.88      0.88     17500\n",
      "\n"
     ]
    }
   ],
   "source": [
    "# Matriz de confusion para los datos de testeo\n",
    "\n",
    "print('Matriz de confusion:\\n{}'.format(confusion_matrix(y_test,sgd.predict(X_test))))\n",
    "\n",
    "print('\\n\\nReporte de Clasificacion:\\n\\n {}'.format(classification_report(y_test,sgd.predict(X_test))))"
   ]
  },
  {
   "cell_type": "code",
   "execution_count": 50,
   "metadata": {
    "ExecuteTime": {
     "end_time": "2021-01-03T22:40:09.894205Z",
     "start_time": "2021-01-03T22:39:13.762004Z"
    },
    "code_folding": [
     0
    ],
    "hidden": true,
    "scrolled": true
   },
   "outputs": [
    {
     "data": {
      "image/png": "[encoded data removed]",
      "text/plain": [
       "<Figure size 432x288 with 1 Axes>"
      ]
     },
     "metadata": {
      "needs_background": "light"
     },
     "output_type": "display_data"
    }
   ],
   "source": [
    "## Predecir el Valor '8'\n",
    "\n",
    "# Seleccionar los datos donde el valor de salida (y) fue 8\n",
    "y_train_t = (y_train=='8')\n",
    "y_scores = skl.model_selection.cross_val_predict(sgd, X_train, y_train_t, cv=5,method=\"decision_function\")\n",
    "\n",
    "# Calculo de la curva ROC \n",
    "precision, recall, thresholds = precision_recall_curve(y_train_t,y_scores)\n",
    "plt.plot(precision,recall,'-b')\n",
    "plt.plot([0,1],[1,0],'--r')\n",
    "plt.show()\n",
    "\n",
    "# fin"
   ]
  },
  {
   "cell_type": "code",
   "execution_count": 52,
   "metadata": {
    "ExecuteTime": {
     "end_time": "2021-01-03T22:44:27.930917Z",
     "start_time": "2021-01-03T22:42:59.508007Z"
    },
    "code_folding": [
     0
    ],
    "hidden": true
   },
   "outputs": [
    {
     "data": {
      "image/png": "[encoded data removed]",
      "text/plain": [
       "<Figure size 432x288 with 1 Axes>"
      ]
     },
     "metadata": {
      "needs_background": "light"
     },
     "output_type": "display_data"
    }
   ],
   "source": [
    "## Predecir el Valor '8'\n",
    "\n",
    "forest = skl.ensemble.RandomForestClassifier(random_state=42)\n",
    "y_train_f = (y_train=='8')\n",
    "y_scores_f = skl.model_selection.cross_val_predict(forest,X_train,y_train_f,cv=5,method='predict_proba')\n",
    "\n",
    "precision_f, recall_f, thresholds_f = precision_recall_curve(y_train_f,y_scores_f[:,1])\n",
    "plt.plot(precision_f,recall_f,'-b')\n",
    "plt.plot([0,1],[1,0],'--r')\n",
    "plt.show()\n",
    "# fin"
   ]
  },
  {
   "cell_type": "code",
   "execution_count": 58,
   "metadata": {
    "ExecuteTime": {
     "end_time": "2021-01-03T22:49:44.801543Z",
     "start_time": "2021-01-03T22:49:44.643901Z"
    },
    "code_folding": [
     0
    ],
    "hidden": true,
    "scrolled": true
   },
   "outputs": [
    {
     "data": {
      "image/png": "[encoded data removed]",
      "text/plain": [
       "<Figure size 432x288 with 1 Axes>"
      ]
     },
     "metadata": {
      "needs_background": "light"
     },
     "output_type": "display_data"
    }
   ],
   "source": [
    "# Ploteo de SGD and RandomForest juntos -  Predecir el Valor '8'\n",
    "\n",
    "plt.plot(precision,recall,'-b',label='SGD') ## SGD\n",
    "plt.plot(precision_f,recall_f,'-g',label='RandomForest') ## RANDOM FOREST\n",
    "plt.plot([0,1],[1,0],'--r')\n",
    "plt.xlabel('Precision')\n",
    "plt.ylabel('Recall')\n",
    "plt.title('Precision vs Recall')\n",
    "plt.legend(loc='best')\n",
    "plt.show()\n",
    "\n",
    "# fin"
   ]
  },
  {
   "cell_type": "markdown",
   "metadata": {
    "heading_collapsed": true,
    "hidden": true
   },
   "source": [
    "## Ejemplo 2"
   ]
  },
  {
   "cell_type": "code",
   "execution_count": 59,
   "metadata": {
    "ExecuteTime": {
     "end_time": "2021-01-03T22:57:16.092083Z",
     "start_time": "2021-01-03T22:55:29.386393Z"
    },
    "code_folding": [
     0
    ],
    "hidden": true
   },
   "outputs": [
    {
     "data": {
      "text/plain": [
       "SGDClassifier(random_state=42)"
      ]
     },
     "execution_count": 59,
     "metadata": {},
     "output_type": "execute_result"
    }
   ],
   "source": [
    "# entrenar clasificador multi-valores\n",
    "\n",
    "sgd = SGDClassifier(random_state=42)\n",
    "sgd.fit(X_train,y_train)\n",
    "\n",
    "# fin"
   ]
  },
  {
   "cell_type": "code",
   "execution_count": 60,
   "metadata": {
    "ExecuteTime": {
     "end_time": "2021-01-03T22:57:39.620721Z",
     "start_time": "2021-01-03T22:57:39.354095Z"
    },
    "code_folding": [
     0
    ],
    "hidden": true
   },
   "outputs": [
    {
     "name": "stdout",
     "output_type": "stream",
     "text": [
      "Reporte de clasificacion: \n",
      "              precision    recall  f1-score   support\n",
      "\n",
      "           0       0.96      0.95      0.95      1715\n",
      "           1       0.97      0.94      0.96      1971\n",
      "           2       0.74      0.93      0.83      1786\n",
      "           3       0.89      0.83      0.86      1763\n",
      "           4       0.90      0.91      0.91      1676\n",
      "           5       0.77      0.86      0.81      1593\n",
      "           6       0.95      0.92      0.93      1710\n",
      "           7       0.92      0.89      0.91      1837\n",
      "           8       0.89      0.74      0.81      1713\n",
      "           9       0.87      0.83      0.85      1736\n",
      "\n",
      "    accuracy                           0.88     17500\n",
      "   macro avg       0.89      0.88      0.88     17500\n",
      "weighted avg       0.89      0.88      0.88     17500\n",
      "\n"
     ]
    }
   ],
   "source": [
    "# Ver matriz de rendimientos por cada valor de salida ... es decir, se trata de forma independiente cada salida\n",
    "\n",
    "print('Reporte de clasificacion: \\n{}'.format(classification_report(y_test,sgd.predict(X_test))))"
   ]
  },
  {
   "cell_type": "code",
   "execution_count": 83,
   "metadata": {
    "ExecuteTime": {
     "end_time": "2021-01-03T23:03:09.703087Z",
     "start_time": "2021-01-03T23:03:09.597516Z"
    },
    "code_folding": [
     0
    ],
    "hidden": true,
    "scrolled": true
   },
   "outputs": [
    {
     "data": {
      "image/png": "[encoded data removed]",
      "text/plain": [
       "<Figure size 432x288 with 1 Axes>"
      ]
     },
     "metadata": {
      "needs_background": "light"
     },
     "output_type": "display_data"
    },
    {
     "name": "stdout",
     "output_type": "stream",
     "text": [
      "Valor de indice X[ii], valor ii: 14348\n",
      "valor target y: 4\n",
      "\n",
      "Valores de Decision:\n",
      "[[ -20485.13334688 -109628.27606906  -22328.95626209  -26516.07997273\n",
      "     3353.53353005  -10200.6411333   -23560.80476433   -9371.81479007\n",
      "    -9004.23606108   -1470.65208786]]\n",
      "\n",
      "Valor: 4\n"
     ]
    }
   ],
   "source": [
    "# Seleccionar aleatoriamente una muestra y visualizar\n",
    "\n",
    "ii = random.randint(0,X_test.shape[0])\n",
    "\n",
    "digito_random = X_test[ii]\n",
    "digito = digito_random.reshape(28, 28) ## reshape\n",
    "\n",
    "plt.imshow(digito, interpolation='nearest')\n",
    "plt.show()\n",
    "\n",
    "print('Valor de indice X[ii], valor ii: {}'.format(ii))\n",
    "print('valor target y: {}'.format(y_test[ii]))\n",
    "\n",
    "print('\\nValores de Decision:')\n",
    "print(sgd.decision_function([digito_random]))\n",
    "print('\\nValor: {}'.format(np.argmax(sgd.decision_function([digito_random]))))\n",
    "\n",
    "# fin"
   ]
  },
  {
   "cell_type": "code",
   "execution_count": 85,
   "metadata": {
    "ExecuteTime": {
     "end_time": "2021-01-03T23:10:41.957054Z",
     "start_time": "2021-01-03T23:05:08.341823Z"
    },
    "code_folding": [
     0
    ],
    "hidden": true
   },
   "outputs": [
    {
     "data": {
      "text/plain": [
       "array([[4925,    1,   40,   17,    2,   38,   47,    6,   92,   20],\n",
       "       [   3, 5647,   43,   31,    5,   25,   17,    8,  103,   24],\n",
       "       [  33,   30, 4567,  143,   42,   38,  107,   55,  164,   25],\n",
       "       [  16,   14,  212, 4425,   13,  234,   20,   51,  284,  109],\n",
       "       [  15,   21,   61,   30, 4408,   26,   64,   27,  147,  349],\n",
       "       [  38,   18,   53,  223,   44, 3821,   98,   19,  315,   91],\n",
       "       [  44,   11,   78,    7,   21,   94, 4815,    2,   92,    2],\n",
       "       [  23,   13,   83,   45,   56,   21,    5, 4730,   42,  438],\n",
       "       [  39,   79,  121,  243,   23,  242,   38,   21, 4144,  162],\n",
       "       [  23,   16,   43,   74,  129,   70,    0,  158,  177, 4532]],\n",
       "      dtype=int64)"
      ]
     },
     "execution_count": 85,
     "metadata": {},
     "output_type": "execute_result"
    }
   ],
   "source": [
    "# Validacion ajuste de modelo \n",
    "\n",
    "y_pred = skl.model_selection.cross_val_predict(sgd,X_train,y_train,cv=5)\n",
    "matriz_confusion = confusion_matrix(y_train,y_pred)\n",
    "\n",
    "matriz_confusion\n",
    "\n",
    "# fin"
   ]
  },
  {
   "cell_type": "code",
   "execution_count": 87,
   "metadata": {
    "ExecuteTime": {
     "end_time": "2021-01-03T23:11:30.860977Z",
     "start_time": "2021-01-03T23:11:30.310376Z"
    },
    "code_folding": [
     0
    ],
    "hidden": true
   },
   "outputs": [],
   "source": [
    "## Matriz con valores borrosos\n",
    "\n",
    "noise = np.random.randint(0,100,(len(X_train),784))\n",
    "X_train_noise = X_train + noise\n",
    "\n",
    "noise = np.random.randint(0,100,(len(X_test),784))\n",
    "X_test_noise = X_test + noise\n",
    "\n",
    "y_train_noise = X_train\n",
    "y_test_noise = X_test\n",
    "\n",
    "## fin"
   ]
  },
  {
   "cell_type": "markdown",
   "metadata": {
    "heading_collapsed": true,
    "hidden": true
   },
   "source": [
    "## Ejemplo 3"
   ]
  },
  {
   "cell_type": "code",
   "execution_count": 91,
   "metadata": {
    "ExecuteTime": {
     "end_time": "2021-01-03T23:15:19.074430Z",
     "start_time": "2021-01-03T23:15:00.987944Z"
    },
    "code_folding": [
     0
    ],
    "hidden": true
   },
   "outputs": [
    {
     "data": {
      "text/plain": [
       "KNeighborsClassifier()"
      ]
     },
     "execution_count": 91,
     "metadata": {},
     "output_type": "execute_result"
    }
   ],
   "source": [
    "# Ajustar un modelo de clasificacion por vecinos Cercanos \n",
    "\n",
    "knn=KNeighborsClassifier()\n",
    "knn.fit(X_train_noise, y_train_noise)"
   ]
  },
  {
   "cell_type": "code",
   "execution_count": 93,
   "metadata": {
    "ExecuteTime": {
     "end_time": "2021-01-03T23:17:14.034520Z",
     "start_time": "2021-01-03T23:17:13.944077Z"
    },
    "code_folding": [
     0
    ],
    "hidden": true,
    "scrolled": true
   },
   "outputs": [
    {
     "data": {
      "image/png": "[encoded data removed]",
      "text/plain": [
       "<Figure size 432x288 with 1 Axes>"
      ]
     },
     "metadata": {
      "needs_background": "light"
     },
     "output_type": "display_data"
    },
    {
     "name": "stdout",
     "output_type": "stream",
     "text": [
      "Valor de indice X[ii], valor ii: 7637\n"
     ]
    }
   ],
   "source": [
    "## Matriz con valores borrosos\n",
    "\n",
    "ii = random.randint(0,X_test_noise.shape[0])\n",
    "\n",
    "digito_random = X_test_noise[ii]\n",
    "digito = digito_random.reshape(28, 28) ## reshape\n",
    "\n",
    "plt.imshow(digito, interpolation='nearest')\n",
    "plt.show()\n",
    "\n",
    "print('Valor de indice X[ii], valor ii: {}'.format(ii))\n",
    "#print('valor target y: {}'.format(y_test_noise[ii]))\n",
    "\n",
    "# fin"
   ]
  },
  {
   "cell_type": "code",
   "execution_count": 94,
   "metadata": {
    "ExecuteTime": {
     "end_time": "2021-01-03T23:17:16.988030Z",
     "start_time": "2021-01-03T23:17:16.763605Z"
    },
    "code_folding": [
     0
    ],
    "hidden": true
   },
   "outputs": [
    {
     "data": {
      "image/png": "[encoded data removed]",
      "text/plain": [
       "<Figure size 432x288 with 1 Axes>"
      ]
     },
     "metadata": {
      "needs_background": "light"
     },
     "output_type": "display_data"
    }
   ],
   "source": [
    "## Ver prediccion:\n",
    "\n",
    "digito_noise = knn.predict([digito_random])\n",
    "digito_noise = digito_noise.reshape(28, 28) ## reshape\n",
    "plt.imshow(digito_noise, interpolation='nearest')\n",
    "plt.show()\n",
    "\n",
    "# fin"
   ]
  }
 ],
 "metadata": {
  "kernelspec": {
   "display_name": "Python 3",
   "language": "python",
   "name": "python3"
  },
  "language_info": {
   "codemirror_mode": {
    "name": "ipython",
    "version": 3
   },
   "file_extension": ".py",
   "mimetype": "text/x-python",
   "name": "python",
   "nbconvert_exporter": "python",
   "pygments_lexer": "ipython3",
   "version": "3.8.10"
  },
  "latex_envs": {
   "LaTeX_envs_menu_present": true,
   "autoclose": false,
   "autocomplete": true,
   "bibliofile": "biblio.bib",
   "cite_by": "apalike",
   "current_citInitial": 1,
   "eqLabelWithNumbers": true,
   "eqNumInitial": 1,
   "hotkeys": {
    "equation": "Ctrl-E",
    "itemize": "Ctrl-I"
   },
   "labels_anchors": false,
   "latex_user_defs": false,
   "report_style_numbering": false,
   "user_envs_cfg": false
  },
  "toc": {
   "base_numbering": 1,
   "nav_menu": {},
   "number_sections": false,
   "sideBar": true,
   "skip_h1_title": false,
   "title_cell": "Table of Contents",
   "title_sidebar": "Contents",
   "toc_cell": false,
   "toc_position": {},
   "toc_section_display": true,
   "toc_window_display": false
  },
  "varInspector": {
   "cols": {
    "lenName": 16,
    "lenType": 16,
    "lenVar": 40
   },
   "kernels_config": {
    "python": {
     "delete_cmd_postfix": "",
     "delete_cmd_prefix": "del ",
     "library": "var_list.py",
     "varRefreshCmd": "print(var_dic_list())"
    },
    "r": {
     "delete_cmd_postfix": ") ",
     "delete_cmd_prefix": "rm(",
     "library": "var_list.r",
     "varRefreshCmd": "cat(var_dic_list()) "
    }
   },
   "types_to_exclude": [
    "module",
    "function",
    "builtin_function_or_method",
    "instance",
    "_Feature"
   ],
   "window_display": false
  }
 },
 "nbformat": 4,
 "nbformat_minor": 4
}
